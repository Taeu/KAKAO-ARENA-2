{
 "cells": [
  {
   "cell_type": "markdown",
   "metadata": {},
   "source": [
    "# Import"
   ]
  },
  {
   "cell_type": "code",
   "execution_count": 1,
   "metadata": {},
   "outputs": [],
   "source": [
    "from collections import Counter\n",
    "from datetime import timedelta, datetime\n",
    "import glob\n",
    "from itertools import chain\n",
    "import json\n",
    "import os\n",
    "import re\n",
    "import matplotlib.pyplot as plt\n",
    "import numpy as np\n",
    "import pandas as pd\n",
    "from pandas.plotting import register_matplotlib_converters\n",
    "#import seaborn as sns\n",
    "import matplotlib\n",
    "import matplotlib.pyplot as plt\n",
    "import matplotlib.font_manager as fm\n",
    "directory = 'D:/ANACONDA/envs/tf-gpu/code/NLP/kakao/data/'\n",
    "font_path = directory + 'NanumGothic.ttf'\n",
    "font_name = fm.FontProperties(fname=font_path, size=10).get_name()\n",
    "plt.rc('font', family=font_name, size=12)\n",
    "plt.rcParams[\"figure.figsize\"] = (20, 10)\n",
    "register_matplotlib_converters()"
   ]
  },
  {
   "cell_type": "code",
   "execution_count": 2,
   "metadata": {},
   "outputs": [],
   "source": [
    "import time\n",
    "from tqdm import tqdm"
   ]
  },
  {
   "cell_type": "markdown",
   "metadata": {},
   "source": [
    "# Load Data"
   ]
  },
  {
   "cell_type": "code",
   "execution_count": 3,
   "metadata": {},
   "outputs": [
    {
     "name": "stdout",
     "output_type": "stream",
     "text": [
      "3000\n",
      "5000\n"
     ]
    }
   ],
   "source": [
    "dev_users_path ='D:/ANACONDA/envs/tf-gpu/code/NLP/kakao/data/predict/predict/dev.users'\n",
    "dev_users_list = []\n",
    "with open(dev_users_path, 'r') as fr:\n",
    "    lines = fr.readlines()\n",
    "    dev_users_list = lines\n",
    "    del lines\n",
    "for i in range(len(dev_users_list)):\n",
    "    dev_users_list[i] = dev_users_list[i].replace('\\n','')\n",
    "    \n",
    "test_users_path ='D:/ANACONDA/envs/tf-gpu/code/NLP/kakao/data/predict/predict/test.users'\n",
    "test_users_list = []\n",
    "with open(test_users_path, 'r') as fr:\n",
    "    lines = fr.readlines()\n",
    "    test_users_list = lines\n",
    "    del lines\n",
    "for i in range(len(test_users_list)):\n",
    "    test_users_list[i] = test_users_list[i].replace('\\n','')\n",
    "\n",
    "print(len(dev_users_list))\n",
    "print(len(test_users_list))"
   ]
  },
  {
   "cell_type": "code",
   "execution_count": null,
   "metadata": {},
   "outputs": [],
   "source": [
    "- FEB_top_30000 : 2월 1일 ~ 3월 1일 읽은 글 top 30000\n",
    "- TOTAL_top_30000 : 10월 1일 ~ 3월 1일까지 읽은 글 top 30000\n",
    "\n",
    "- FEB_top_58647 : 2월 14일 ~ 3월 1일간 읽은 글 best\n",
    "    \n",
    "- FEB_MAR_article : 2월 1일 ~ 3월 까지 등록된 글\n",
    "- FEB_MAR_article_2 : 2월 14일 ~ 3월 1일 등록된 글\n",
    "- MAR_article_1 : 3월 1일 ~ 3월 7일 등록된 글\n",
    "- MAR_article_2 : 3월 7일 ~ 3월 14일 등록된 글 \n",
    " *기간은 왼쪽 처음은 닫힌 구간, 오른쪽 끝은 열린 구간"
   ]
  },
  {
   "cell_type": "code",
   "execution_count": 4,
   "metadata": {},
   "outputs": [
    {
     "name": "stdout",
     "output_type": "stream",
     "text": [
      "20190723 update\n",
      "58648\n",
      "11641\n",
      "4654\n",
      "5322\n"
     ]
    }
   ],
   "source": [
    "FEB_top_58647 = pd.read_csv(directory+'FEB_top_58647.csv')\n",
    "FEB_top_58647 = FEB_top_58647.drop('Unnamed: 0',1)\n",
    "FEB_MAR_article_2 = pd.read_csv(directory+'FEB_MAR_article_2.csv')\n",
    "FEB_MAR_article_2 = FEB_MAR_article_2.drop('Unnamed: 0',1)\n",
    "MAR_article_1 = pd.read_csv(directory+'MAR_article_1.csv')\n",
    "MAR_article_1 = MAR_article_1.drop('Unnamed: 0',1)\n",
    "MAR_article_2 = pd.read_csv(directory+'MAR_article_2.csv')\n",
    "MAR_article_2 = MAR_article_2.drop('Unnamed: 0',1)\n",
    "\n",
    "print('20190723 update')\n",
    "print(len(FEB_top_58647))\n",
    "print(len(FEB_MAR_article_2)) # 이건 필요가 없을 수도 있겠다 어차피 안 팔릴 글은 안 읽었을테니\n",
    "print(len(MAR_article_1))\n",
    "print(len(MAR_article_2))\n"
   ]
  },
  {
   "cell_type": "markdown",
   "metadata": {},
   "source": [
    "# 읽은 글 체크"
   ]
  },
  {
   "cell_type": "code",
   "execution_count": null,
   "metadata": {},
   "outputs": [],
   "source": [
    "- article_seen_by_testuser"
   ]
  },
  {
   "cell_type": "code",
   "execution_count": 5,
   "metadata": {},
   "outputs": [],
   "source": [
    "with open(directory + 'article_by_testuser.json') as f:\n",
    "    article_seen_by_testuser = json.load(f)"
   ]
  },
  {
   "cell_type": "markdown",
   "metadata": {},
   "source": [
    "## following list"
   ]
  },
  {
   "cell_type": "code",
   "execution_count": 6,
   "metadata": {},
   "outputs": [],
   "source": [
    "users = pd.read_json(directory + '/users.json', lines=True)"
   ]
  },
  {
   "cell_type": "code",
   "execution_count": 7,
   "metadata": {},
   "outputs": [
    {
     "name": "stdout",
     "output_type": "stream",
     "text": [
      "135.19613313674927 sec\n"
     ]
    }
   ],
   "source": [
    "import time\n",
    "st = time.time()\n",
    "users_following_lists = [] \n",
    "for i in range(5000):\n",
    "    uid = test_users_list[i]\n",
    "    ufl = list(users[users['id'] == uid]['following_list'])\n",
    "    if len(ufl) > 0:\n",
    "        users_following_lists.append(ufl)\n",
    "    else:\n",
    "        users_following_lists.append([])\n",
    "print(time.time() - st , 'sec')"
   ]
  },
  {
   "cell_type": "code",
   "execution_count": 10,
   "metadata": {},
   "outputs": [
    {
     "data": {
      "text/plain": [
       "5000"
      ]
     },
     "execution_count": 10,
     "metadata": {},
     "output_type": "execute_result"
    }
   ],
   "source": [
    "len(users_following_lists)\n",
    "users_following_lists[0][0]"
   ]
  },
  {
   "cell_type": "markdown",
   "metadata": {},
   "source": [
    "- r2\n",
    "- author_lists\n",
    "- class_lists\n",
    "- magainze_lists\n",
    "- unique_author"
   ]
  },
  {
   "cell_type": "code",
   "execution_count": null,
   "metadata": {},
   "outputs": [],
   "source": [
    "# 20190207 이후에 읽은 글들로 앞으로 읽을 글들을 추천"
   ]
  },
  {
   "cell_type": "code",
   "execution_count": 8,
   "metadata": {},
   "outputs": [],
   "source": [
    "with open(directory + 'rasby_devuser_100.csv',encoding='utf-8') as f:\n",
    "    r1 = pd.read_csv(f)\n",
    "\n",
    "r1 = r1.drop('Unnamed: 0',1)\n",
    "r1['read_dt']  = r1['read_dt'].map(lambda x : x.replace('-',''))\n",
    "a = '20190207' # 이것도 hyp \n",
    "r2 = r1[r1['read_dt'] >= a]\n",
    "\n",
    "def int_class(x):\n",
    "    if x == '5%':\n",
    "        result = 5\n",
    "    elif x == '10%':\n",
    "        result = 10\n",
    "    elif x == '25%':\n",
    "        result = 25\n",
    "    elif x == '50%':\n",
    "        result = 50\n",
    "    elif x == '75%':\n",
    "        result = 75\n",
    "    else:\n",
    "        result = 100\n",
    "    return result"
   ]
  },
  {
   "cell_type": "code",
   "execution_count": 14,
   "metadata": {},
   "outputs": [
    {
     "data": {
      "text/html": [
       "<div>\n",
       "<style scoped>\n",
       "    .dataframe tbody tr th:only-of-type {\n",
       "        vertical-align: middle;\n",
       "    }\n",
       "\n",
       "    .dataframe tbody tr th {\n",
       "        vertical-align: top;\n",
       "    }\n",
       "\n",
       "    .dataframe thead th {\n",
       "        text-align: right;\n",
       "    }\n",
       "</style>\n",
       "<table border=\"1\" class=\"dataframe\">\n",
       "  <thead>\n",
       "    <tr style=\"text-align: right;\">\n",
       "      <th></th>\n",
       "      <th>read_dt</th>\n",
       "      <th>user_id</th>\n",
       "      <th>article_id</th>\n",
       "      <th>title</th>\n",
       "      <th>sub_title</th>\n",
       "      <th>author_id</th>\n",
       "      <th>reg_dt</th>\n",
       "      <th>type</th>\n",
       "      <th>display_url</th>\n",
       "      <th>keyword_list</th>\n",
       "      <th>magazine_id</th>\n",
       "      <th>off_day</th>\n",
       "      <th>read_cnt</th>\n",
       "      <th>class</th>\n",
       "    </tr>\n",
       "  </thead>\n",
       "  <tbody>\n",
       "    <tr>\n",
       "      <th>0</th>\n",
       "      <td>20190212</td>\n",
       "      <td>#d6866a498157771069fdf15361cb012b</td>\n",
       "      <td>@april_78</td>\n",
       "      <td>주택청약, 저는 언제쯤 제 집을...?</td>\n",
       "      <td>NaN</td>\n",
       "      <td>@april</td>\n",
       "      <td>2019-02-06</td>\n",
       "      <td>매거진</td>\n",
       "      <td>https://brunch.co.kr/@april/78</td>\n",
       "      <td>['주택청약통장', '주택청약', '청약통장']</td>\n",
       "      <td>42262.0</td>\n",
       "      <td>6.0</td>\n",
       "      <td>300.0</td>\n",
       "      <td>5%</td>\n",
       "    </tr>\n",
       "    <tr>\n",
       "      <th>1</th>\n",
       "      <td>20190212</td>\n",
       "      <td>#d6866a498157771069fdf15361cb012b</td>\n",
       "      <td>@noonsil_12</td>\n",
       "      <td>틀린 게 아니고 다른 겁니다.</td>\n",
       "      <td>주부의 눈으로 본 태국이 다른 점</td>\n",
       "      <td>@noonsil</td>\n",
       "      <td>2019-02-08</td>\n",
       "      <td>매거진</td>\n",
       "      <td>https://brunch.co.kr/@noonsil/12</td>\n",
       "      <td>['에어비앤비', '치앙마이', '파타야']</td>\n",
       "      <td>42485.0</td>\n",
       "      <td>4.0</td>\n",
       "      <td>703.0</td>\n",
       "      <td>5%</td>\n",
       "    </tr>\n",
       "  </tbody>\n",
       "</table>\n",
       "</div>"
      ],
      "text/plain": [
       "    read_dt                            user_id   article_id  \\\n",
       "0  20190212  #d6866a498157771069fdf15361cb012b    @april_78   \n",
       "1  20190212  #d6866a498157771069fdf15361cb012b  @noonsil_12   \n",
       "\n",
       "                   title           sub_title author_id      reg_dt type  \\\n",
       "0  주택청약, 저는 언제쯤 제 집을...?                 NaN    @april  2019-02-06  매거진   \n",
       "1       틀린 게 아니고 다른 겁니다.  주부의 눈으로 본 태국이 다른 점  @noonsil  2019-02-08  매거진   \n",
       "\n",
       "                        display_url                keyword_list  magazine_id  \\\n",
       "0    https://brunch.co.kr/@april/78  ['주택청약통장', '주택청약', '청약통장']      42262.0   \n",
       "1  https://brunch.co.kr/@noonsil/12    ['에어비앤비', '치앙마이', '파타야']      42485.0   \n",
       "\n",
       "   off_day  read_cnt class  \n",
       "0      6.0     300.0    5%  \n",
       "1      4.0     703.0    5%  "
      ]
     },
     "execution_count": 14,
     "metadata": {},
     "output_type": "execute_result"
    }
   ],
   "source": [
    "r2[:2]"
   ]
  },
  {
   "cell_type": "code",
   "execution_count": null,
   "metadata": {},
   "outputs": [],
   "source": []
  },
  {
   "cell_type": "code",
   "execution_count": null,
   "metadata": {},
   "outputs": [],
   "source": [
    "# 평균 중복소비가 20건\n",
    "# 평가 데이터에는 중복 소비가 없음\n",
    "# 따라서 중복 소비 제거하고 최신 동향으로 추천하는 식 ㄱㄱ"
   ]
  },
  {
   "cell_type": "code",
   "execution_count": 9,
   "metadata": {},
   "outputs": [
    {
     "name": "stderr",
     "output_type": "stream",
     "text": [
      "100%|██████████████████████████████████████████████████████████████████████████████| 3000/3000 [01:07<00:00, 44.76it/s]\n"
     ]
    }
   ],
   "source": [
    "# 읽은 구독자 list 도 만들기\n",
    "# 개인 or magazine\n",
    "# 이부분은 나중에 test_users_list , 5000 , test_user에 맞게 수정해주어야함\n",
    "author_lists = []\n",
    "class_lists = []\n",
    "magazine_lists = []\n",
    "unique_author = []\n",
    "for i in tqdm(range(3000),mininterval = 1): ### final 시 수정\n",
    "    recent_read_raw = r2[r2['user_id'] == dev_users_list[i]]  \n",
    "    recent_read_raw = recent_read_raw.sort_values(by = ['read_dt'],ascending = False)\n",
    "    recent_read_raw = recent_read_raw.drop_duplicates(['article_id'])\n",
    "    \n",
    "    len_recent_read_raw = len(recent_read_raw)\n",
    "    \n",
    "    # class mean\n",
    "    class_sum = 0\n",
    "    magazine_sum = 0\n",
    "    # 최신에 읽은 작가들 정보 모으기\n",
    "    author_list = []\n",
    "    author_cnt = []\n",
    "    for j in range(len_recent_read_raw):\n",
    "        # class mean\n",
    "        rrr = recent_read_raw[j:j+1]\n",
    "        class_int = int_class(list(rrr['class'])[0])\n",
    "        class_sum += class_int\n",
    "        # magainze mean\n",
    "        magazine_type = list(rrr['type'])[0]\n",
    "        if(magazine_type == '매거진'):\n",
    "            magazine_sum += 1\n",
    "        # author list\n",
    "        author = list(rrr['author_id'])[0]\n",
    "        found = 0\n",
    "        for k in range(len(author_list)):\n",
    "            if author_list[k] == author:\n",
    "                author_cnt[k] += 1\n",
    "                found = 1\n",
    "                break\n",
    "        if(found == 0):\n",
    "            author_list.append(author)\n",
    "            author_cnt.append(1)\n",
    "\n",
    "    author_list_dict = dict()\n",
    "    for j in range(len(author_list)):\n",
    "        author_list_dict[author_list[j]] = author_cnt[j]\n",
    "\n",
    "    if(len_recent_read_raw != 0 ):\n",
    "        class_mean = class_sum / len_recent_read_raw\n",
    "        class_lists.append(class_mean)\n",
    "        \n",
    "        magazine_mean = magazine_sum / len_recent_read_raw\n",
    "        magazine_lists.append(magazine_mean)\n",
    "        \n",
    "        #author_list_dict = sorted(author_list_dict.items(), key=(lambda x: x[1]), reverse = True) # 이러면 [ (), () ]형태\n",
    "        author_lists.append(author_list_dict)\n",
    "        \n",
    "        unique_author.append(len(author_list))\n",
    "    else:\n",
    "        class_lists.append(5.0)\n",
    "        magazine_lists.append(1.0)\n",
    "        author_lists.append(dict())\n",
    "        unique_author.append(0)\n",
    "\n"
   ]
  },
  {
   "cell_type": "code",
   "execution_count": null,
   "metadata": {},
   "outputs": [],
   "source": [
    "# minimum 30은 차게 만들어보자"
   ]
  },
  {
   "cell_type": "code",
   "execution_count": 12,
   "metadata": {},
   "outputs": [],
   "source": [
    "recent_cnt_lists = []\n",
    "for i in range(len(dev_users_list)):\n",
    "    author_and_cnt = author_lists[i]\n",
    "    rcnt = 0\n",
    "    for key, value in author_and_cnt.items():\n",
    "        rcnt += value\n",
    "    recent_cnt_lists.append(rcnt)"
   ]
  },
  {
   "cell_type": "code",
   "execution_count": 13,
   "metadata": {},
   "outputs": [
    {
     "data": {
      "text/plain": [
       "29.131666666666668"
      ]
     },
     "execution_count": 13,
     "metadata": {},
     "output_type": "execute_result"
    }
   ],
   "source": [
    "sum(recent_cnt_lists) / 3000"
   ]
  },
  {
   "cell_type": "code",
   "execution_count": 15,
   "metadata": {},
   "outputs": [
    {
     "data": {
      "text/plain": [
       "[57, 3, 9, 4, 37, 3, 7, 8, 49, 5, 4, 38, 7, 53, 25]"
      ]
     },
     "execution_count": 15,
     "metadata": {},
     "output_type": "execute_result"
    }
   ],
   "source": [
    "recent_cnt_lists[:15]"
   ]
  },
  {
   "cell_type": "code",
   "execution_count": null,
   "metadata": {},
   "outputs": [],
   "source": [
    "# 아래 얘네들 키 안 맞음"
   ]
  },
  {
   "cell_type": "code",
   "execution_count": 46,
   "metadata": {},
   "outputs": [],
   "source": [
    "# 최신에 읽은 글들에서 구독자들이 있는지 확인\n",
    "# 없는 구독자는 이때까지 읽은 글을 검사해서 최신 동향이 아닌 구독자는 빼면 더 좋을 듯 하긴하네\n",
    "diff_fa = []\n",
    "diff_fa_cnt=[]\n",
    "following_cnt =[]\n",
    "diff_cnt = 0\n",
    "for i in range(3000):\n",
    "    uid = dev_users_list[i]\n",
    "    keys = set(list(author_lists[i].keys()))\n",
    "    diff_cnt = 0\n",
    "    for j in range(5000):\n",
    "        if  uid == test_users_list[j]:\n",
    "            i = j\n",
    "            break\n",
    "    if len(users_following_lists[i]) > 0:\n",
    "        following_author = set(users_following_lists[i][0])\n",
    "        following_cnt.append(len(following_author))\n",
    "    else :\n",
    "        following_author = set()\n",
    "        following_cnt.append(len(following_author))\n",
    "    diff_fa.append(list(following_author - keys))\n",
    "    diff_cnt += len(list(following_author - keys))\n",
    "    diff_fa_cnt.append(diff_cnt)\n"
   ]
  },
  {
   "cell_type": "code",
   "execution_count": null,
   "metadata": {},
   "outputs": [],
   "source": []
  },
  {
   "cell_type": "code",
   "execution_count": 50,
   "metadata": {},
   "outputs": [
    {
     "data": {
      "text/plain": [
       "[2, 12, 2, 1, 46, 4, 2, 9, 30, 3, 3, 19, 27, 40, 10, 23, 4, 2, 76, 31]"
      ]
     },
     "execution_count": 50,
     "metadata": {},
     "output_type": "execute_result"
    }
   ],
   "source": [
    "following_cnt[:20]"
   ]
  },
  {
   "cell_type": "code",
   "execution_count": 51,
   "metadata": {},
   "outputs": [
    {
     "data": {
      "text/plain": [
       "[1, 10, 0, 0, 35, 1, 0, 6, 20, 3, 2, 18, 24, 33, 4, 18, 2, 2, 71, 27]"
      ]
     },
     "execution_count": 51,
     "metadata": {},
     "output_type": "execute_result"
    }
   ],
   "source": [
    "diff_fa_cnt[:20]"
   ]
  },
  {
   "cell_type": "code",
   "execution_count": null,
   "metadata": {},
   "outputs": [],
   "source": []
  },
  {
   "cell_type": "code",
   "execution_count": 54,
   "metadata": {},
   "outputs": [
    {
     "data": {
      "text/plain": [
       "['@2jaemyung',\n",
       " '@brunch',\n",
       " '@nareun',\n",
       " '@pomnyun',\n",
       " '@realestate',\n",
       " '@simplebean33',\n",
       " '@chojeremy',\n",
       " '@boot0715',\n",
       " '@jaeyunchoi',\n",
       " '@shanghaiesther',\n",
       " '@isaacyouspace',\n",
       " '@ssj8201',\n",
       " '@seoyoungcla',\n",
       " '@pedkang01',\n",
       " '@stillalive31',\n",
       " '@kimpyogo',\n",
       " '@ellieyang47uu',\n",
       " '@novas99']"
      ]
     },
     "execution_count": 54,
     "metadata": {},
     "output_type": "execute_result"
    }
   ],
   "source": [
    "diff_fa[15]"
   ]
  },
  {
   "cell_type": "code",
   "execution_count": 27,
   "metadata": {},
   "outputs": [
    {
     "data": {
      "text/plain": [
       "{'@brunch', '@heat0508', '@jhj3211', '@ohuk2011', '@sssfriend', '@syshine7'}"
      ]
     },
     "execution_count": 27,
     "metadata": {},
     "output_type": "execute_result"
    }
   ],
   "source": [
    "set(users_following_lists[1][0])"
   ]
  },
  {
   "cell_type": "code",
   "execution_count": 47,
   "metadata": {},
   "outputs": [
    {
     "data": {
      "text/plain": [
       "21.937666666666665"
      ]
     },
     "execution_count": 47,
     "metadata": {},
     "output_type": "execute_result"
    }
   ],
   "source": [
    "sum(diff_fa_cnt) / 3000"
   ]
  },
  {
   "cell_type": "code",
   "execution_count": null,
   "metadata": {},
   "outputs": [],
   "source": [
    "author_lists \n",
    "class_lists \n",
    "magazine_lists \n",
    "unique_author "
   ]
  },
  {
   "cell_type": "markdown",
   "metadata": {},
   "source": [
    "# SIM 업데이트 버전"
   ]
  },
  {
   "cell_type": "code",
   "execution_count": 10,
   "metadata": {},
   "outputs": [
    {
     "name": "stdout",
     "output_type": "stream",
     "text": [
      "165110\n",
      "486427\n",
      "165110\n"
     ]
    }
   ],
   "source": [
    "article_similarity = np.load(directory+'article_similarity_recent_t.npy')\n",
    "article_similarity = article_similarity.tolist()\n",
    "with open(directory + 'word_to_id_recent.json') as f:\n",
    "    word_to_id  = json.load(f)\n",
    "\n",
    "with open(directory + 'id_to_word_recent.json') as f:\n",
    "    id_to_word = json.load(f)\n",
    "\n",
    "print(len(article_similarity))\n",
    "print(len(word_to_id))\n",
    "print(len(id_to_word))"
   ]
  },
  {
   "cell_type": "markdown",
   "metadata": {},
   "source": [
    "# Dev User"
   ]
  },
  {
   "cell_type": "markdown",
   "metadata": {},
   "source": [
    "# 좀더 신중히 다뤄 보도록 하자"
   ]
  },
  {
   "cell_type": "code",
   "execution_count": null,
   "metadata": {},
   "outputs": [],
   "source": [
    "# FEB_top_30419 , 비교 필요"
   ]
  },
  {
   "cell_type": "code",
   "execution_count": 11,
   "metadata": {},
   "outputs": [
    {
     "data": {
      "text/plain": [
       "30419"
      ]
     },
     "execution_count": 11,
     "metadata": {},
     "output_type": "execute_result"
    }
   ],
   "source": [
    "# read_cnt >= 10 만 자른것\n",
    "FEB_top_30419 = FEB_top_58647[:30419]\n",
    "FEB_top_30419_list = FEB_top_30419['article_id'].tolist()\n",
    "len(FEB_top_30419)"
   ]
  },
  {
   "cell_type": "code",
   "execution_count": null,
   "metadata": {},
   "outputs": [],
   "source": [
    "- [조건]\n",
    "    - 체크안된 구독자들 가져오는 맥시멈 아티클 pd 를 10개로 제한 (그럴 필요는 없겠는데? 그냥 평균 21개 가져오는데?)\n",
    "    - 구독자 정보 추가할 때 제한 없앰. (5개 정도로 해도 되려나?) 일단 나오는거 봐서 판단하기\n",
    "    - sim 추가하는게 좋음\n",
    "    - 나머지는 그대로\n",
    "    - 첫번째 두번째는 sim 과 sim 붙이지 않는 것만 차이있을 뿐 나머지는 다 똑같음 (sim 이냐 recent냐! 그것이 문제로다!)"
   ]
  },
  {
   "cell_type": "code",
   "execution_count": null,
   "metadata": {},
   "outputs": [],
   "source": []
  },
  {
   "cell_type": "code",
   "execution_count": 60,
   "metadata": {},
   "outputs": [
    {
     "name": "stderr",
     "output_type": "stream",
     "text": [
      "100%|██████████████████████████████████████████████████████████████████████████████| 3000/3000 [18:19<00:00,  2.73it/s]\n"
     ]
    }
   ],
   "source": [
    "#hyper parameter\n",
    "hyp_author = 50\n",
    "hyp_recent_article_len = 10\n",
    "hyp_top_k = 10\n",
    "hyp_read_cnt = 10\n",
    "hyp_sim = 70\n",
    "\n",
    "isdev = 1\n",
    "\n",
    "hyp = str(hyp_author) + '_' +str(hyp_recent_article_len)+'_'+str(hyp_top_k)+'_'+ str(hyp_read_cnt)+'_'+str(hyp_sim)+'_'+'DEV_FINAL_1'\n",
    "\n",
    "try:\n",
    "    if not(os.path.isdir(directory + hyp )):\n",
    "        os.makedirs(os.path.join(directory + hyp))\n",
    "except OSError as e:\n",
    "    if e.errno != errno.EEXIST:\n",
    "        print(\"Failed to create directory!!!!!\")\n",
    "        raise\n",
    "            \n",
    "countt = 0\n",
    "cntttt = 0\n",
    "\n",
    "after_author = []\n",
    "after_author2 = []\n",
    "siml = []\n",
    "after_following = []\n",
    "ulfs = []\n",
    "after_sim = []\n",
    "with open(directory + hyp +'/recommend' + '.txt','w') as file:\n",
    "    for i in tqdm(range(len(dev_users_list)),mininterval=10):\n",
    "        \n",
    "        recommend_all=[]\n",
    "        uid = dev_users_list[i]\n",
    "        aid = i # author index \n",
    "        \n",
    "        for j in range(5000):\n",
    "            if uid == test_users_list[j]:\n",
    "                i = j\n",
    "                break\n",
    "        \n",
    "        # 현재 유저가 읽은 following list\n",
    "        ufl = users_following_lists[i]\n",
    "        if(len(ufl) > 0):\n",
    "            ufl  = ufl[0]\n",
    "            \n",
    "        # 현재 유저가 읽은 모든 글 , \n",
    "        r = article_seen_by_testuser[str(i)]\n",
    "        # 최신에 읽은 글들이 사라지지 않게 뒤집고 중복 제거하기\n",
    "        r = list(reversed(r))\n",
    "        s = []\n",
    "        \n",
    "        for a in range(len(r)):\n",
    "            if r[a] not in s:\n",
    "                s.append(r[a])\n",
    "        r = list(reversed(s))\n",
    "\n",
    "        # 최신 읽은 작가 정보를 업데이트\n",
    "        # type(author_and_cnt) = dict 임\n",
    "        # 또 하나 바꿔볼 방법은 구독자 \n",
    "        author_and_cnt = author_lists[aid]\n",
    "        if hyp_author > 0:\n",
    "            \n",
    "            # 일단 recent 2주 top 58647 에서\n",
    "            recommend_author = []\n",
    "            cnt_author = 0            \n",
    "            author_consider_set = set()\n",
    "            \n",
    "            for key, value in author_and_cnt.items(): \n",
    "                author = key\n",
    "                cnt = value\n",
    "                author_consider_set.add(key)\n",
    "                # 2월 14일 ~ 3월 1일간 인기글 30419개 중에 있으면 뽑기\n",
    "                author_all_article_1 = FEB_top_30419[FEB_top_30419['author_id'] == author].sort_values(by='reg_dt',ascending=False) # 최신에 작성한 글들의 인기순이겠지 # 더 줄여봐도 될 듯\n",
    "                cnt_1 = 0\n",
    "                for j in range(len(author_all_article_1)):\n",
    "                    if(cnt_1 >= cnt): break\n",
    "                    artic = list(author_all_article_1[j:j+1]['article_id'])[0]\n",
    "                    if artic not in r:\n",
    "                        if artic not in recommend_author:\n",
    "                            recommend_author.append(artic)\n",
    "                            cnt_1 +=1\n",
    "                \n",
    "                #  3월 1일 ~ 3월 7일에 쓰여진 글 있으면 append\n",
    "                author_all_article_2 = MAR_article_1[MAR_article_1['author_id'] == author]\n",
    "                cnt_2 = 0\n",
    "                for j in range(len(author_all_article_2)):\n",
    "                    if(cnt_2 >= cnt): break\n",
    "                    artic = list(author_all_article_2[j:j+1]['article_id'])[0]\n",
    "                    if artic not in r:\n",
    "                        if artic not in recommend_author:\n",
    "                            recommend_author.append(artic)\n",
    "                            cnt_2 +=1\n",
    "                            \n",
    "                #  3월 7일 ~ 3월 14일에 쓰여진 글 있으면 append\n",
    "                author_all_article_3 = MAR_article_2[MAR_article_2['author_id'] == author]\n",
    "                cnt_3 = 0\n",
    "                for j in range(len(author_all_article_3)):\n",
    "                    if(cnt_3 >= cnt): break\n",
    "                    artic = list(author_all_article_3[j:j+1]['article_id'])[0]\n",
    "                    if artic not in r:\n",
    "                        if artic not in recommend_author:\n",
    "                            recommend_author.append(artic)\n",
    "                            cnt_3 +=1\n",
    "            recommend_author = recommend_author[:hyp_author] # 최신 읽은 글 경향 자르기\n",
    "                \n",
    "            for artic in recommend_author:\n",
    "                if artic not in recommend_all:\n",
    "                    recommend_all.append(artic)\n",
    "        after_author.append(len(recommend_all))\n",
    "        \n",
    "        if(len(recommend_all) > 0): # 최신에 읽은 글이 있다는 소리고\n",
    "            iter_1_cnt = 0\n",
    "            while(len(recommend_all) < 80) : # 최신의 글을 고려해서 최대 30~ 개 까지만 넣어주겠다 # 구독작가 && 최신 읽은 작가\n",
    "                # 혹시 읽은 작가 중에 2-14 - 3-14 까지 쓴 글이 없을 수 있으므로\n",
    "                if(iter_1_cnt >= 30) : break\n",
    "                iter_1_cnt += 1\n",
    "                recommend_author = []\n",
    "                cnt_author = 0            \n",
    "                \n",
    "                for key, value in author_and_cnt.items(): \n",
    "                    author = key\n",
    "                    if(len(recommend_all) >= 100): break\n",
    "                    if author in ufl:\n",
    "\n",
    "                        cnt = value\n",
    "                        # 2월 14일 ~ 3월 1일간 인기글 30419개 중에 있으면 뽑기\n",
    "                        author_all_article_1 = FEB_top_30419[FEB_top_30419['author_id'] == author].sort_values(by='reg_dt',ascending=False) # 최신에 작성한 글들의 인기순이겠지 # 더 줄여봐도 될 듯\n",
    "                        cnt_1 = 0\n",
    "                        for j in range(len(author_all_article_1)):\n",
    "                            if(cnt_1 >= cnt): break\n",
    "                            artic = list(author_all_article_1[j:j+1]['article_id'])[0]\n",
    "                            if artic not in r:\n",
    "                                if artic not in recommend_all:\n",
    "                                    recommend_all.append(artic)\n",
    "                                    cnt_1 +=1\n",
    "\n",
    "                        #  3월 1일 ~ 3월 7일에 쓰여진 글 있으면 append\n",
    "                        author_all_article_2 = MAR_article_1[MAR_article_1['author_id'] == author]\n",
    "                        cnt_2 = 0\n",
    "                        for j in range(len(author_all_article_2)):\n",
    "                            if(cnt_2 >= cnt): break\n",
    "                            artic = list(author_all_article_2[j:j+1]['article_id'])[0]\n",
    "                            if artic not in r:\n",
    "                                if artic not in recommend_all:\n",
    "                                    recommend_all.append(artic)\n",
    "                                    cnt_2 +=1\n",
    "\n",
    "                        #  3월 7일 ~ 3월 14일에 쓰여진 글 있으면 append\n",
    "                        author_all_article_3 = MAR_article_2[MAR_article_2['author_id'] == author]\n",
    "                        cnt_3 = 0\n",
    "                        for j in range(len(author_all_article_3)):\n",
    "                            if(cnt_3 >= cnt): break\n",
    "                            artic = list(author_all_article_3[j:j+1]['article_id'])[0]\n",
    "                            if artic not in r:\n",
    "                                if artic not in recommend_all:\n",
    "                                    recommend_all.append(artic)\n",
    "                                    cnt_3 +=1\n",
    "                \n",
    "        \n",
    "        \n",
    "\n",
    "         # 100 개 이상 추천될 수 있으니 자르기 | hyper parameter 만큼 자르기\n",
    "        if len(recommend_all) >= 100:\n",
    "            recommend_all = recommend_all[:100]\n",
    "        \n",
    "        \n",
    "        after_author2.append(len(recommend_all))\n",
    "        \n",
    "        # 최신에 읽지 않은 구독자의 글들도 넣어보자\n",
    "        # recent때 활용하지 않은 구독자 정보를 이용한다\n",
    "        ufl_not_yet = []\n",
    "        for t in range(len(ufl)):\n",
    "            if ufl[t] not in author_consider_set:\n",
    "                ufl_not_yet.append(ufl[t])\n",
    "        \n",
    "        ufls_i = 0\n",
    "        if len(ufl_not_yet) > 0:\n",
    "\n",
    "            for author in ufl_not_yet: #\n",
    "                if(len(recommend_all) >= 100): break\n",
    "                author_all_article_1 = FEB_top_30419[FEB_top_30419['author_id'] == author].sort_values(by='reg_dt',ascending=False) # top 50000 or to 10000 으로 바꿔서 비\n",
    "                # 너무 많은 글들이 있으면 10개로 자르자\n",
    "                if(len(author_all_article_1) > 10 ): \n",
    "                    author_all_article_1 = author_all_article_1[:10]\n",
    "                for j in range(len(author_all_article_1)):\n",
    "                    if(len(recommend_all) >= 100): break #이것도 조정 필요\n",
    "\n",
    "                    artic = list(author_all_article_1[j:j+1]['article_id'])[0]\n",
    "                    if artic not in r:\n",
    "                        if artic not in recommend_all:\n",
    "                            recommend_all.append(artic)\n",
    "                            ufls_i+=1\n",
    "\n",
    "\n",
    "                #  3월 1일 ~ 3월 7일에 쓰여진 글 있으면 append\n",
    "                author_all_article_2 = MAR_article_1[MAR_article_1['author_id'] == author]\n",
    "                if(len(author_all_article_2) > 10 ): \n",
    "                    author_all_article_2 = author_all_article_2[:10]\n",
    "                for j in range(len(author_all_article_2)):\n",
    "                    if(len(recommend_all) >= 100): break #얘도 조정 필요하고\n",
    "                    artic = list(author_all_article_2[j:j+1]['article_id'])[0]\n",
    "                    if artic not in r:\n",
    "                        if artic not in recommend_all:\n",
    "                            recommend_all.append(artic)\n",
    "                            ufls_i+=1\n",
    "\n",
    "                #  3월 7일 ~ 3월 14일에 쓰여진 글 있으면 append\n",
    "                author_all_article_3 = MAR_article_2[MAR_article_2['author_id'] == author]\n",
    "                if(len(author_all_article_3) > 10 ): \n",
    "                    author_all_article_3 = author_all_article_3[:10]\n",
    "                for j in range(len(author_all_article_3)):\n",
    "                    if(len(recommend_all) >= 100): break \n",
    "                    artic = list(author_all_article_3[j:j+1]['article_id'])[0]\n",
    "                    if artic not in r:\n",
    "                        if artic not in recommend_all:\n",
    "                            recommend_all.append(artic)\n",
    "                            ufls_i+=1\n",
    "            \n",
    "\n",
    "        \n",
    "        ulfs.append(ufls_i)\n",
    "        after_following.append(len(recommend_all))\n",
    "        \n",
    "        # 최신에 본 글 위주로 similarity 조사\n",
    "        \n",
    "        if(len(r) >= hyp_read_cnt):\n",
    "            wtil = list(word_to_id.keys())\n",
    "            countt +=1\n",
    "            if(hyp_recent_article_len > len(r)):\n",
    "                hyp_recent_article_len = len(r)\n",
    "            r = r[-hyp_recent_article_len:]\n",
    "            r = list(reversed(r))\n",
    "            siml_cnt = 0\n",
    "            for j in range(len(r)):\n",
    "                if(siml_cnt>= hyp_sim): break\n",
    "                if(r[j] not in wtil):\n",
    "                    r[j] = 'UNK'\n",
    "                s = article_similarity[word_to_id[r[j]]]\n",
    "                sim_list = s[:hyp_top_k]\n",
    "                for k in range(len(sim_list)):\n",
    "                    if len(recommend_all)>=100: break\n",
    "                            \n",
    "                    if sim_list[k] not in recommend_all:\n",
    "                        recommend_all.append(sim_list[k])\n",
    "                        siml_cnt+=1\n",
    "                        if(siml_cnt>= hyp_sim): break\n",
    "            siml.append(siml_cnt)\n",
    "            if len(recommend_all)>=100:\n",
    "                recommend_all = recommend_all[:100]\n",
    "        \n",
    "        \n",
    "        after_sim.append(len(recommend_all))\n",
    "        \n",
    "        if(len(recommend_all) >= 100):\n",
    "            recommend_all = recommend_all[:100]\n",
    "        else:\n",
    "            # 남으면 FEB_top 중 아무거나 뽑아서 주고\n",
    "            # following list 있으면 여기에 활용해도 좋을듯\n",
    "            cntttt+=1\n",
    "            \n",
    "            \n",
    "            for x in FEB_top_30419_list:\n",
    "                if x not in recommend_all:\n",
    "                    recommend_all.append(x)\n",
    "                    if(len(recommend_all) == 100): break\n",
    "                        \n",
    "        # 다시 한 번 더 점검\n",
    "        if(len(recommend_all) > 100):\n",
    "            recommend_all = recommend_all[:100]\n",
    "        \n",
    "\n",
    "        recommend_normal = ''\n",
    "        for x in recommend_all:\n",
    "            recommend_normal += ' '+ x\n",
    "\n",
    "        file.write(uid + recommend_normal)\n",
    "        file.write('\\n')\n"
   ]
  },
  {
   "cell_type": "code",
   "execution_count": 57,
   "metadata": {},
   "outputs": [
    {
     "name": "stdout",
     "output_type": "stream",
     "text": [
      "40.035\n",
      "43.091\n",
      "71.96233333333333\n",
      "90.26366666666667\n",
      "\n",
      "28.871333333333332\n"
     ]
    }
   ],
   "source": [
    "# 70 / 30 / UF / sim = 70\n",
    "print(sum(after_author) / 3000)\n",
    "print(sum(after_author2) / 3000)\n",
    "print(sum(after_following) /3000)\n",
    "print(sum(after_sim) / 3000)\n",
    "\n",
    "print()\n",
    "print(sum(ulfs) /3000)\n",
    "print(sum(siml) /3000)\n",
    "# 0.073169\t0.175026\t9.087112"
   ]
  },
  {
   "cell_type": "code",
   "execution_count": 59,
   "metadata": {},
   "outputs": [
    {
     "name": "stdout",
     "output_type": "stream",
     "text": [
      "42.647666666666666\n",
      "58.666333333333334\n",
      "78.57833333333333\n",
      "90.852\n",
      "\n",
      "19.912\n",
      "12.273666666666667\n",
      "515\n"
     ]
    }
   ],
   "source": [
    "# 80 / 80 / UF / sim = 70\n",
    "print(sum(after_author) / 3000)\n",
    "print(sum(after_author2) / 3000)\n",
    "print(sum(after_following) /3000)\n",
    "print(sum(after_sim) / 3000)\n",
    "\n",
    "print()\n",
    "print(sum(ulfs) /3000) # 최근에 읽지 않은 구독자로 채워지는 부분\n",
    "print(sum(siml) /3000) # sim 으로 채워지는 부분\n",
    "print(cntttt)          # most_recent_top 으로 채워지는 사람들 수\n",
    "\n",
    "# 0.073070\t0.174045\t9.069491"
   ]
  },
  {
   "cell_type": "code",
   "execution_count": 61,
   "metadata": {},
   "outputs": [
    {
     "name": "stdout",
     "output_type": "stream",
     "text": [
      "32.875\n",
      "57.93066666666667\n",
      "77.427\n",
      "90.852\n",
      "\n",
      "19.496333333333332\n",
      "13.425\n",
      "515\n"
     ]
    }
   ],
   "source": [
    "# 50 / 80 / UF / sim = 70\n",
    "print(sum(after_author) / 3000)\n",
    "print(sum(after_author2) / 3000)\n",
    "print(sum(after_following) /3000)\n",
    "print(sum(after_sim) / 3000)\n",
    "\n",
    "print()\n",
    "print(sum(ulfs) /3000) # 최근에 읽지 않은 구독자로 채워지는 부분\n",
    "print(sum(siml) /3000) # sim 으로 채워지는 부분\n",
    "print(cntttt)          # most_recent_top 으로 채워지는 사람들 수"
   ]
  },
  {
   "cell_type": "markdown",
   "metadata": {},
   "source": [
    "# CURRENT BEST"
   ]
  },
  {
   "cell_type": "code",
   "execution_count": 62,
   "metadata": {},
   "outputs": [
    {
     "name": "stderr",
     "output_type": "stream",
     "text": [
      "100%|██████████████████████████████████████████████████████████████████████████████| 3000/3000 [17:13<00:00,  2.90it/s]\n"
     ]
    }
   ],
   "source": [
    "#hyper parameter\n",
    "hyp_author = 50\n",
    "hyp_recent_article_len = 10\n",
    "hyp_top_k = 10\n",
    "hyp_read_cnt = 10\n",
    "hyp_sim = 70\n",
    "\n",
    "isdev = 1\n",
    "\n",
    "hyp = str(hyp_author) + '_' + '_'+str(hyp_sim)+'_'+'DEV_FINAL_1'\n",
    "\n",
    "try:\n",
    "    if not(os.path.isdir(directory + hyp )):\n",
    "        os.makedirs(os.path.join(directory + hyp))\n",
    "except OSError as e:\n",
    "    if e.errno != errno.EEXIST:\n",
    "        print(\"Failed to create directory!!!!!\")\n",
    "        raise\n",
    "            \n",
    "countt = 0\n",
    "cntttt = 0\n",
    "\n",
    "after_author = []\n",
    "after_author2 = []\n",
    "siml = []\n",
    "after_following = []\n",
    "after_recent = []\n",
    "ulfs = []\n",
    "after_sim = []\n",
    "with open(directory + hyp +'/recommend' + '.txt','w') as file:\n",
    "    for i in tqdm(range(len(dev_users_list)),mininterval=10):\n",
    "        \n",
    "        recommend_all=[]\n",
    "        uid = dev_users_list[i]\n",
    "        aid = i # author index \n",
    "        \n",
    "        for j in range(5000):\n",
    "            if uid == test_users_list[j]:\n",
    "                i = j\n",
    "                break\n",
    "        \n",
    "        # 현재 유저가 읽은 following list\n",
    "        ufl = users_following_lists[i]\n",
    "        if(len(ufl) > 0):\n",
    "            ufl  = ufl[0]\n",
    "            \n",
    "        # 현재 유저가 읽은 모든 글 , \n",
    "        r = article_seen_by_testuser[str(i)]\n",
    "        # 최신에 읽은 글들이 사라지지 않게 뒤집고 중복 제거하기\n",
    "        r = list(reversed(r))\n",
    "        s = []\n",
    "        \n",
    "        for a in range(len(r)):\n",
    "            if r[a] not in s:\n",
    "                s.append(r[a])\n",
    "        r = list(reversed(s))\n",
    "\n",
    "        # 최신에 읽은 사람들 중 구독자가 있는 것부터 먼저 띄우기\n",
    "        # 최신 && 구독\n",
    "        author_and_cnt = author_lists[aid]\n",
    "        if hyp_author > 0:\n",
    "            \n",
    "            # 일단 recent 2주 top 58647 에서\n",
    "            recommend_author = []\n",
    "            cnt_author = 0            \n",
    "            author_consider_set = set()\n",
    "            \n",
    "            for key, value in author_and_cnt.items(): \n",
    "                author = key\n",
    "                if author not in ufl: continue\n",
    "                \n",
    "                cnt = value\n",
    "                author_consider_set.add(key)\n",
    "                # 2월 14일 ~ 3월 1일간 인기글 30419개 중에 있으면 뽑기\n",
    "                author_all_article_1 = FEB_top_30419[FEB_top_30419['author_id'] == author].sort_values(by='reg_dt',ascending=False) # 최신에 작성한 글들의 인기순이겠지 # 더 줄여봐도 될 듯\n",
    "                cnt_1 = 0\n",
    "                for j in range(len(author_all_article_1)):\n",
    "                    if(cnt_1 >= cnt): break\n",
    "                    artic = list(author_all_article_1[j:j+1]['article_id'])[0]\n",
    "                    if artic not in r:\n",
    "                        if artic not in recommend_author:\n",
    "                            recommend_author.append(artic)\n",
    "                            cnt_1 +=1\n",
    "                \n",
    "                #  3월 1일 ~ 3월 7일에 쓰여진 글 있으면 append\n",
    "                author_all_article_2 = MAR_article_1[MAR_article_1['author_id'] == author]\n",
    "                cnt_2 = 0\n",
    "                for j in range(len(author_all_article_2)):\n",
    "                    if(cnt_2 >= cnt): break\n",
    "                    artic = list(author_all_article_2[j:j+1]['article_id'])[0]\n",
    "                    if artic not in r:\n",
    "                        if artic not in recommend_author:\n",
    "                            recommend_author.append(artic)\n",
    "                            cnt_2 +=1\n",
    "                            \n",
    "                #  3월 7일 ~ 3월 14일에 쓰여진 글 있으면 append\n",
    "                author_all_article_3 = MAR_article_2[MAR_article_2['author_id'] == author]\n",
    "                cnt_3 = 0\n",
    "                for j in range(len(author_all_article_3)):\n",
    "                    if(cnt_3 >= cnt): break\n",
    "                    artic = list(author_all_article_3[j:j+1]['article_id'])[0]\n",
    "                    if artic not in r:\n",
    "                        if artic not in recommend_author:\n",
    "                            recommend_author.append(artic)\n",
    "                            cnt_3 +=1\n",
    "                \n",
    "            for artic in recommend_author:\n",
    "                if artic not in recommend_all:\n",
    "                    recommend_all.append(artic)\n",
    "                    \n",
    "        if(len(recommend_all) > 100):\n",
    "            recommend_all = recommend_all[:100]\n",
    "        \n",
    "        after_author.append(len(recommend_all))\n",
    "        \n",
    "        # 최신 && 구독 minimum > 50 개 채우기\n",
    "        if(len(recommend_all) > 0): # 최신에 읽은 글이 있다는 소리고\n",
    "            iter_1_cnt = 0\n",
    "            while(len(recommend_all) < 50) : # 최신의 글을 고려해서 최대 30~ 개 까지만 넣어주겠다 # 구독작가 && 최신 읽은 작가\n",
    "                # 혹시 읽은 작가 중에 2-14 - 3-14 까지 쓴 글이 없을 수 있으므로, 적게 뽑힐 수 있으므로 60까지는 구독자가 읽은 글들로 채우기\n",
    "                if(iter_1_cnt >= 30) : break\n",
    "                iter_1_cnt += 1\n",
    "                recommend_author = []\n",
    "                cnt_author = 0            \n",
    "                \n",
    "                for key, value in author_and_cnt.items(): \n",
    "                    author = key\n",
    "                    if(len(recommend_all) >= 100): break\n",
    "                    if author in ufl:\n",
    "\n",
    "                        cnt = value\n",
    "                        # 2월 14일 ~ 3월 1일간 인기글 30419개 중에 있으면 뽑기\n",
    "                        author_all_article_1 = FEB_top_30419[FEB_top_30419['author_id'] == author].sort_values(by='reg_dt',ascending=False) # 최신에 작성한 글들의 인기순이겠지 # 더 줄여봐도 될 듯\n",
    "                        cnt_1 = 0\n",
    "                        for j in range(len(author_all_article_1)):\n",
    "                            if(cnt_1 >= cnt): break\n",
    "                            artic = list(author_all_article_1[j:j+1]['article_id'])[0]\n",
    "                            if artic not in r:\n",
    "                                if artic not in recommend_all:\n",
    "                                    recommend_all.append(artic)\n",
    "                                    cnt_1 +=1\n",
    "\n",
    "                        #  3월 1일 ~ 3월 7일에 쓰여진 글 있으면 append\n",
    "                        author_all_article_2 = MAR_article_1[MAR_article_1['author_id'] == author]\n",
    "                        cnt_2 = 0\n",
    "                        for j in range(len(author_all_article_2)):\n",
    "                            if(cnt_2 >= cnt): break\n",
    "                            artic = list(author_all_article_2[j:j+1]['article_id'])[0]\n",
    "                            if artic not in r:\n",
    "                                if artic not in recommend_all:\n",
    "                                    recommend_all.append(artic)\n",
    "                                    cnt_2 +=1\n",
    "\n",
    "                        #  3월 7일 ~ 3월 14일에 쓰여진 글 있으면 append\n",
    "                        author_all_article_3 = MAR_article_2[MAR_article_2['author_id'] == author]\n",
    "                        cnt_3 = 0\n",
    "                        for j in range(len(author_all_article_3)):\n",
    "                            if(cnt_3 >= cnt): break\n",
    "                            artic = list(author_all_article_3[j:j+1]['article_id'])[0]\n",
    "                            if artic not in r:\n",
    "                                if artic not in recommend_all:\n",
    "                                    recommend_all.append(artic)\n",
    "                                    cnt_3 +=1\n",
    "                \n",
    "        \n",
    "        \n",
    "        after_author2.append(len(recommend_all))\n",
    "        \n",
    "        \n",
    "        \n",
    "\n",
    "        # 최근 안 읽은 && 구독자\n",
    "        ufl_not_yet = []\n",
    "        for t in range(len(ufl)):\n",
    "            if ufl[t] not in author_consider_set:\n",
    "                ufl_not_yet.append(ufl[t])\n",
    "        \n",
    "        ufls_i = 0\n",
    "        if len(ufl_not_yet) > 0:\n",
    "\n",
    "            for author in ufl_not_yet: #\n",
    "                if(len(recommend_all) >= 100): break\n",
    "                author_all_article_1 = FEB_top_30419[FEB_top_30419['author_id'] == author].sort_values(by='reg_dt',ascending=False) # top 50000 or to 10000 으로 바꿔서 비\n",
    "                # 너무 많은 글들이 있으면 10개로 자르자\n",
    "                if(len(author_all_article_1) > 10 ): \n",
    "                    author_all_article_1 = author_all_article_1[:10]\n",
    "                for j in range(len(author_all_article_1)):\n",
    "                    if(len(recommend_all) >= 100): break #이것도 조정 필요\n",
    "\n",
    "                    artic = list(author_all_article_1[j:j+1]['article_id'])[0]\n",
    "                    if artic not in r:\n",
    "                        if artic not in recommend_all:\n",
    "                            recommend_all.append(artic)\n",
    "                            ufls_i+=1\n",
    "\n",
    "\n",
    "                #  3월 1일 ~ 3월 7일에 쓰여진 글 있으면 append\n",
    "                author_all_article_2 = MAR_article_1[MAR_article_1['author_id'] == author]\n",
    "                if(len(author_all_article_2) > 10 ): \n",
    "                    author_all_article_2 = author_all_article_2[:10]\n",
    "                for j in range(len(author_all_article_2)):\n",
    "                    if(len(recommend_all) >= 100): break #얘도 조정 필요하고\n",
    "                    artic = list(author_all_article_2[j:j+1]['article_id'])[0]\n",
    "                    if artic not in r:\n",
    "                        if artic not in recommend_all:\n",
    "                            recommend_all.append(artic)\n",
    "                            ufls_i+=1\n",
    "\n",
    "                #  3월 7일 ~ 3월 14일에 쓰여진 글 있으면 append\n",
    "                author_all_article_3 = MAR_article_2[MAR_article_2['author_id'] == author]\n",
    "                if(len(author_all_article_3) > 10 ): \n",
    "                    author_all_article_3 = author_all_article_3[:10]\n",
    "                for j in range(len(author_all_article_3)):\n",
    "                    if(len(recommend_all) >= 100): break \n",
    "                    artic = list(author_all_article_3[j:j+1]['article_id'])[0]\n",
    "                    if artic not in r:\n",
    "                        if artic not in recommend_all:\n",
    "                            recommend_all.append(artic)\n",
    "                            ufls_i+=1\n",
    "            \n",
    "        if(len(recommend_all) > 100):\n",
    "            recommend_all = recommend_all[:100]\n",
    "            \n",
    "        ulfs.append(ufls_i)\n",
    "        after_following.append(len(recommend_all))\n",
    "        \n",
    "        # 최신에 읽음 && 구독자 아님\n",
    "        if hyp_author > 0:\n",
    "            \n",
    "            # 일단 recent 2주 top 58647 에서\n",
    "            recommend_author = []\n",
    "            cnt_author = 0            \n",
    "            author_consider_set = set()\n",
    "            \n",
    "            for key, value in author_and_cnt.items(): \n",
    "                author = key\n",
    "                if author in ufl: continue\n",
    "                \n",
    "                cnt = value\n",
    "                author_consider_set.add(key)\n",
    "                # 2월 14일 ~ 3월 1일간 인기글 30419개 중에 있으면 뽑기\n",
    "                author_all_article_1 = FEB_top_30419[FEB_top_30419['author_id'] == author].sort_values(by='reg_dt',ascending=False) # 최신에 작성한 글들의 인기순이겠지 # 더 줄여봐도 될 듯\n",
    "                cnt_1 = 0\n",
    "                for j in range(len(author_all_article_1)):\n",
    "                    if(cnt_1 >= cnt): break\n",
    "                    artic = list(author_all_article_1[j:j+1]['article_id'])[0]\n",
    "                    if artic not in r:\n",
    "                        if artic not in recommend_author:\n",
    "                            recommend_author.append(artic)\n",
    "                            cnt_1 +=1\n",
    "                \n",
    "                #  3월 1일 ~ 3월 7일에 쓰여진 글 있으면 append\n",
    "                author_all_article_2 = MAR_article_1[MAR_article_1['author_id'] == author]\n",
    "                cnt_2 = 0\n",
    "                for j in range(len(author_all_article_2)):\n",
    "                    if(cnt_2 >= cnt): break\n",
    "                    artic = list(author_all_article_2[j:j+1]['article_id'])[0]\n",
    "                    if artic not in r:\n",
    "                        if artic not in recommend_author:\n",
    "                            recommend_author.append(artic)\n",
    "                            cnt_2 +=1\n",
    "                            \n",
    "                #  3월 7일 ~ 3월 14일에 쓰여진 글 있으면 append\n",
    "                author_all_article_3 = MAR_article_2[MAR_article_2['author_id'] == author]\n",
    "                cnt_3 = 0\n",
    "                for j in range(len(author_all_article_3)):\n",
    "                    if(cnt_3 >= cnt): break\n",
    "                    artic = list(author_all_article_3[j:j+1]['article_id'])[0]\n",
    "                    if artic not in r:\n",
    "                        if artic not in recommend_author:\n",
    "                            recommend_author.append(artic)\n",
    "                            cnt_3 +=1\n",
    "            \n",
    "                \n",
    "            for artic in recommend_author:\n",
    "                if artic not in recommend_all:\n",
    "                    recommend_all.append(artic)\n",
    "        \n",
    "        \n",
    "\n",
    "        # 100 개 이상 추천될 수 있으니 자르기 | hyper parameter 만큼 자르기\n",
    "        if len(recommend_all) >= 100:\n",
    "            recommend_all = recommend_all[:100]\n",
    "        \n",
    "        after_recent.append(len(recommend_all))\n",
    "        \n",
    "        \n",
    "        \n",
    "        \n",
    "\n",
    "        # 최신에 본 글 위주로 similarity 조사\n",
    "        # 최신에 본 글 + similarity (전체 유저)\n",
    "        if(len(r) >= hyp_read_cnt):\n",
    "            wtil = list(word_to_id.keys())\n",
    "            countt +=1\n",
    "            if(hyp_recent_article_len > len(r)):\n",
    "                hyp_recent_article_len = len(r)\n",
    "            r = r[-hyp_recent_article_len:]\n",
    "            r = list(reversed(r))\n",
    "            siml_cnt = 0\n",
    "            for j in range(len(r)):\n",
    "                if(siml_cnt>= hyp_sim): break\n",
    "                if(r[j] not in wtil):\n",
    "                    r[j] = 'UNK'\n",
    "                s = article_similarity[word_to_id[r[j]]]\n",
    "                sim_list = s[:hyp_top_k]\n",
    "                for k in range(len(sim_list)):\n",
    "                    if len(recommend_all)>=100: break\n",
    "                            \n",
    "                    if sim_list[k] not in recommend_all:\n",
    "                        recommend_all.append(sim_list[k])\n",
    "                        siml_cnt+=1\n",
    "                        if(siml_cnt>= hyp_sim): break\n",
    "            siml.append(siml_cnt)\n",
    "            if len(recommend_all)>=100:\n",
    "                recommend_all = recommend_all[:100]\n",
    "        \n",
    "        \n",
    "        after_sim.append(len(recommend_all))\n",
    "        \n",
    "        if(len(recommend_all) >= 100):\n",
    "            recommend_all = recommend_all[:100]\n",
    "        else:\n",
    "            # 남으면 FEB_top 중 아무거나 뽑아서 주고\n",
    "            # following list 있으면 여기에 활용해도 좋을듯\n",
    "            cntttt+=1\n",
    "            \n",
    "            # 나머지는 그냥 2월 14일 - 3월 1일까지 글들 중 top 뽑기\n",
    "            for x in FEB_top_30419_list:\n",
    "                if x not in recommend_all:\n",
    "                    recommend_all.append(x)\n",
    "                    if(len(recommend_all) == 100): break\n",
    "                        \n",
    "        # 다시 한 번 더 점검\n",
    "        if(len(recommend_all) > 100):\n",
    "            recommend_all = recommend_all[:100]\n",
    "        \n",
    "\n",
    "        recommend_normal = ''\n",
    "        for x in recommend_all:\n",
    "            recommend_normal += ' '+ x\n",
    "\n",
    "        file.write(uid + recommend_normal)\n",
    "        file.write('\\n')\n"
   ]
  },
  {
   "cell_type": "code",
   "execution_count": 63,
   "metadata": {},
   "outputs": [
    {
     "name": "stdout",
     "output_type": "stream",
     "text": [
      "14.686666666666667\n",
      "33.666\n",
      "64.03733333333334\n",
      "78.55633333333333\n",
      "90.723\n",
      "\n",
      "30.371333333333332\n",
      "12.166666666666666\n",
      "522\n"
     ]
    }
   ],
   "source": [
    "# 구독+최근 / 50(구독+최근) / UF / recent / sim = 70 / 나머지\n",
    "print(sum(after_author) / 3000)\n",
    "print(sum(after_author2) / 3000)\n",
    "print(sum(after_following) /3000)\n",
    "print(sum(after_recent)/3000)\n",
    "print(sum(after_sim) / 3000)\n",
    "\n",
    "print()\n",
    "print(sum(ulfs) /3000) # 최근에 읽지 않은 구독자로 채워지는 부분\n",
    "print(sum(siml) /3000) # sim 으로 채워지는 부분\n",
    "print(cntttt)          # most_recent_top 으로 채워지는 사람들 수"
   ]
  },
  {
   "cell_type": "code",
   "execution_count": 68,
   "metadata": {},
   "outputs": [
    {
     "data": {
      "text/plain": [
       "[3, 9, 10, 3, 30, 5, 9, 13, 39, 0, 3, 2, 9, 29, 30, 26, 6, 0, 13, 10]"
      ]
     },
     "execution_count": 68,
     "metadata": {},
     "output_type": "execute_result"
    }
   ],
   "source": [
    "after_author[:20]"
   ]
  },
  {
   "cell_type": "code",
   "execution_count": 69,
   "metadata": {},
   "outputs": [
    {
     "data": {
      "text/plain": [
       "[3, 50, 10, 51, 66, 48, 39, 24, 63, 0, 51, 32, 35, 54, 61, 67, 36, 0, 51, 40]"
      ]
     },
     "execution_count": 69,
     "metadata": {},
     "output_type": "execute_result"
    }
   ],
   "source": [
    "after_author2[:20]"
   ]
  },
  {
   "cell_type": "code",
   "execution_count": 71,
   "metadata": {},
   "outputs": [
    {
     "data": {
      "text/plain": [
       "[14, 100, 10, 51, 100, 48, 39, 46, 88, 19, 72, 100, 100, 100, 75]"
      ]
     },
     "execution_count": 71,
     "metadata": {},
     "output_type": "execute_result"
    }
   ],
   "source": [
    "after_following[:15]"
   ]
  },
  {
   "cell_type": "code",
   "execution_count": 72,
   "metadata": {},
   "outputs": [
    {
     "data": {
      "text/plain": [
       "[100, 100, 13, 56, 100, 48, 42, 55, 100, 24, 73, 100, 100, 100, 89]"
      ]
     },
     "execution_count": 72,
     "metadata": {},
     "output_type": "execute_result"
    }
   ],
   "source": [
    "after_recent[:15]"
   ]
  },
  {
   "cell_type": "code",
   "execution_count": 77,
   "metadata": {},
   "outputs": [
    {
     "data": {
      "text/plain": [
       "[100, 100, 83, 100, 100, 48, 100, 100, 100, 24, 73, 100, 100, 100, 100]"
      ]
     },
     "execution_count": 77,
     "metadata": {},
     "output_type": "execute_result"
    }
   ],
   "source": [
    "after_sim[:15]"
   ]
  },
  {
   "cell_type": "code",
   "execution_count": 80,
   "metadata": {},
   "outputs": [],
   "source": [
    "cnt=0\n",
    "sum_cnt=0\n",
    "for i in range(3000):\n",
    "    if (after_sim[i] != 100):\n",
    "        cnt +=1\n",
    "        sum_cnt+= after_sim[i]"
   ]
  },
  {
   "cell_type": "code",
   "execution_count": 81,
   "metadata": {},
   "outputs": [
    {
     "data": {
      "text/plain": [
       "46.68390804597701"
      ]
     },
     "execution_count": 81,
     "metadata": {},
     "output_type": "execute_result"
    }
   ],
   "source": [
    "sum_cnt/cnt"
   ]
  },
  {
   "cell_type": "code",
   "execution_count": null,
   "metadata": {},
   "outputs": [],
   "source": []
  },
  {
   "cell_type": "code",
   "execution_count": null,
   "metadata": {},
   "outputs": [],
   "source": []
  },
  {
   "cell_type": "code",
   "execution_count": null,
   "metadata": {},
   "outputs": [],
   "source": []
  }
 ],
 "metadata": {
  "kernelspec": {
   "display_name": "Python 3",
   "language": "python",
   "name": "python3"
  },
  "language_info": {
   "codemirror_mode": {
    "name": "ipython",
    "version": 3
   },
   "file_extension": ".py",
   "mimetype": "text/x-python",
   "name": "python",
   "nbconvert_exporter": "python",
   "pygments_lexer": "ipython3",
   "version": "3.7.1"
  }
 },
 "nbformat": 4,
 "nbformat_minor": 2
}
