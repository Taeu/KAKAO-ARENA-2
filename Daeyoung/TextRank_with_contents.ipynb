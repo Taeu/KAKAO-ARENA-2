{
 "cells": [
  {
   "cell_type": "code",
   "execution_count": 1,
   "metadata": {},
   "outputs": [],
   "source": [
    "from collections import Counter\n",
    "from datetime import timedelta, datetime\n",
    "import glob\n",
    "from itertools import chain\n",
    "import json\n",
    "import os\n",
    "import re"
   ]
  },
  {
   "cell_type": "code",
   "execution_count": 2,
   "metadata": {},
   "outputs": [],
   "source": [
    "import matplotlib.pyplot as plt\n",
    "import numpy as np\n",
    "import pandas as pd\n",
    "from pandas.plotting import register_matplotlib_converters\n",
    "import seaborn as sns"
   ]
  },
  {
   "cell_type": "code",
   "execution_count": 3,
   "metadata": {},
   "outputs": [],
   "source": [
    "import matplotlib\n",
    "import matplotlib.pyplot as plt\n",
    "import matplotlib.font_manager as fm\n",
    "font_path = '/usr/share/fonts/NanumFont/NanumGothic.ttf'\n",
    "font_name = fm.FontProperties(fname=font_path, size=10).get_name()\n",
    "plt.rc('font', family=font_name, size=12)\n",
    "plt.rcParams[\"figure.figsize\"] = (20, 10)\n",
    "register_matplotlib_converters()"
   ]
  },
  {
   "cell_type": "code",
   "execution_count": 4,
   "metadata": {},
   "outputs": [],
   "source": [
    "directory = './brunch-article-recommendation/res/'"
   ]
  },
  {
   "cell_type": "code",
   "execution_count": 5,
   "metadata": {},
   "outputs": [],
   "source": [
    "def iterparse(file_obj):\n",
    "    decoder = json.JSONDecoder()\n",
    "    buf = \"\"\n",
    "    for line in file_obj:\n",
    "        buf += line.strip()\n",
    "        try:\n",
    "            res = decoder.raw_decode(buf)\n",
    "            buf = \"\"\n",
    "            yield res[0]\n",
    "        except ValueError:\n",
    "            pass"
   ]
  },
  {
   "cell_type": "code",
   "execution_count": 6,
   "metadata": {},
   "outputs": [],
   "source": [
    "contents_dir = [directory + 'contents/data.' + str(i) for i in range(7)]\n",
    "\n",
    "data = []\n",
    "with open(contents_dir[0], encoding='utf-8') as data_file:\n",
    "    for obj in iterparse(data_file):\n",
    "        data.append(obj)"
   ]
  },
  {
   "cell_type": "code",
   "execution_count": 7,
   "metadata": {},
   "outputs": [
    {
     "data": {
      "text/plain": [
       "100000"
      ]
     },
     "execution_count": 7,
     "metadata": {},
     "output_type": "execute_result"
    }
   ],
   "source": [
    "len(data)"
   ]
  },
  {
   "cell_type": "code",
   "execution_count": 8,
   "metadata": {},
   "outputs": [
    {
     "data": {
      "text/plain": [
       "[['180/NNG', '12/JKS'],\n",
       " ['483/VV', '37/EF', '14/SF'],\n",
       " ['484/MAG'],\n",
       " ['485/NNG', '486/NNG', '12/JKC'],\n",
       " ['17/VV', '400/EC'],\n",
       " ['92/MAG'],\n",
       " ['487/VA', '7/ETM'],\n",
       " ['180/NNG', '12/JKS'],\n",
       " ['483/VV', '37/EF', '14/SF'],\n",
       " ['303/NNG', '59/JX'],\n",
       " ['488/NNG'],\n",
       " ['485/NNG', '40/JKO'],\n",
       " ['489/VV', '65/EC'],\n",
       " ['98/NNG', '40/JKO'],\n",
       " ['490/VV', '5/ETM'],\n",
       " ['6/NNG'],\n",
       " ['180/NNG', '12/JKS'],\n",
       " ['491/MAG'],\n",
       " ['492/VV', '177/EP', '13/EF', '14/SF'],\n",
       " ['493/NNG', '35/JKS']]"
      ]
     },
     "execution_count": 8,
     "metadata": {},
     "output_type": "execute_result"
    }
   ],
   "source": [
    "data[2]['morphs'][:20]"
   ]
  },
  {
   "cell_type": "code",
   "execution_count": 12,
   "metadata": {},
   "outputs": [
    {
     "name": "stdout",
     "output_type": "stream",
     "text": [
      "['303/NNG', '59/JX', '488/NNG', '485/NNG', '40/JKO', '489/VV', '65/EC', '98/NNG', '40/JKO', '490/VV', '5/ETM', '6/NNG', '180/NNG', '12/JKS', '491/MAG', '492/VV', '177/EP', '13/EF', '14/SF']\n",
      "['303/NNG', '488/NNG', '485/NNG', '489/VV', '98/NNG', '490/VV', '6/NNG', '180/NNG', '492/VV']\n"
     ]
    }
   ],
   "source": [
    "# https://github.com/kakao/khaiii/wiki/코퍼스#품사-집합\n",
    "# /NNG: 일반 명사    /NNP: 고유 명사    /VV: 동사    /VA: 형용사    /XR: 어근\n",
    "# /EF: 종결 어미     /SF: 마침표, 느낌표, 물음표\n",
    "def morphs_to_sents(morphs):\n",
    "    '''merge morphs list to sentence'''\n",
    "    sents = []\n",
    "    temp = []\n",
    "    for m in morphs:\n",
    "        # 종결 어미나 마침표(및 느낌표, 물음표)를 기준으로 문장을 나눈다.\n",
    "        if [w for w in m if ('/EF' in w or '/SF' in w)] == []:\n",
    "            temp += m\n",
    "        else:\n",
    "            temp += m\n",
    "            sents.append(temp)\n",
    "            temp = []\n",
    "    \n",
    "    return sents\n",
    "\n",
    "def token_processing(sent):\n",
    "    words = [w for w in sent if ('/NNG' in w or '/NNP' in w or '/XR' in w or '/VV' in w or '/VA' in w)]\n",
    "    return words\n",
    "\n",
    "sents = morphs_to_sents(data[2]['morphs'])\n",
    "tokens = token_processing(sents[2])\n",
    "print(sents[2])\n",
    "print(tokens)"
   ]
  },
  {
   "cell_type": "code",
   "execution_count": 13,
   "metadata": {},
   "outputs": [
    {
     "name": "stdout",
     "output_type": "stream",
     "text": [
      "['523/VV', '485/NNG', '498/VA', '17/VV', '187/VV', '466/NNG', '522/NNG', '520/NNG', '519/NNG', '158/NNG', '495/NNG', '306/NNG', '180/NNG', '504/NNG', '526/NNG', '557/VV', '493/NNG', '549/NNG', '488/NNG', '508/VV', '6/NNG', '150/NNG', '516/VV', '521/NNG', '403/VA', '483/VV', '533/VV', '531/VV', '523/VV', '485/NNG']\n"
     ]
    }
   ],
   "source": [
    "from textrank import KeywordSummarizer\n",
    "\n",
    "keyword_extractor = KeywordSummarizer(\n",
    "    tokenize = token_processing,\n",
    "    window = -1,\n",
    "    verbose = False\n",
    ")\n",
    "keywords = keyword_extractor.summarize(sents, topk=30)\n",
    "print(keywords)"
   ]
  },
  {
   "cell_type": "markdown",
   "metadata": {},
   "source": [
    "## Save Content's TextRank Data into Json"
   ]
  },
  {
   "cell_type": "code",
   "execution_count": 6,
   "metadata": {},
   "outputs": [],
   "source": [
    "def morphs_to_sents(morphs):\n",
    "    '''merge morphs list to sentence'''\n",
    "    sents = []\n",
    "    temp = []\n",
    "    for m in morphs:\n",
    "        # 종결 어미나 마침표(및 느낌표, 물음표)를 기준으로 문장을 나눈다.\n",
    "        if [w for w in m if ('/EF' in w or '/SF' in w)] == []:\n",
    "            temp += m\n",
    "        else:\n",
    "            temp += m\n",
    "            sents.append(temp)\n",
    "            temp = []\n",
    "    \n",
    "    return sents\n",
    "\n",
    "def token_processing(sent):\n",
    "    words = [w for w in sent if ('/NNG' in w or '/NNP' in w or '/XR' in w or '/VV' in w or '/VA' in w)]\n",
    "    return words\n",
    "\n",
    "from textrank import KeywordSummarizer\n",
    "\n",
    "keyword_extractor = KeywordSummarizer(\n",
    "    tokenize = token_processing,\n",
    "    window = -1,\n",
    "    verbose = False\n",
    ")"
   ]
  },
  {
   "cell_type": "code",
   "execution_count": 14,
   "metadata": {},
   "outputs": [
    {
     "name": "stdout",
     "output_type": "stream",
     "text": [
      "data.0 is processing...\n",
      "data.1 is processing...\n",
      "data.2 is processing...\n",
      "data.3 is processing...\n",
      "data.4 is processing...\n",
      "data.5 is processing...\n",
      "data.6 is processing...\n",
      "--- 2463.3041944503784 seconds ---\n"
     ]
    }
   ],
   "source": [
    "import time\n",
    "start_time = time.time()\n",
    "\n",
    "contents_data = {}\n",
    "contents_dir = [directory + 'contents/data.' + str(i) for i in range(7)]\n",
    "\n",
    "for i in range(len(contents_dir)):\n",
    "    print('data.' + str(i) + ' is processing...')\n",
    "    data = []\n",
    "    with open(contents_dir[i], encoding='utf-8') as data_file:\n",
    "        for obj in iterparse(data_file):\n",
    "            data.append(obj)\n",
    "    \n",
    "    for j in range(len(data)):\n",
    "        sents = morphs_to_sents(data[j]['morphs'])\n",
    "        keywords = keyword_extractor.summarize(sents, topk=15)\n",
    "        contents_data[data[j]['id']] = keywords\n",
    "        \n",
    "print(\"--- %s seconds ---\" % (time.time() - start_time))\n",
    "        \n",
    "with open('contents_textrank.json', 'w', encoding=\"utf-8\") as make_file:\n",
    "    json.dump(contents_data, make_file, ensure_ascii=False, indent=\"\\t\")"
   ]
  },
  {
   "cell_type": "code",
   "execution_count": 15,
   "metadata": {},
   "outputs": [
    {
     "name": "stdout",
     "output_type": "stream",
     "text": [
      "642190\n",
      "['17/VV', '434/VV', '433/NNG', '424/VA', '415/NNG', '409/VA', '403/VA', '175/VV', '213/VV', '454/NNG', '230/NNG', '459/NNG', '457/NNP', '17/VV', '434/VV']\n",
      "['NaN', 'NaN', 'NaN', 'NaN', 'NaN', 'NaN', 'NaN', 'NaN', 'NaN', 'NaN', 'NaN', 'NaN', 'NaN', 'NaN', 'NaN']\n"
     ]
    }
   ],
   "source": [
    "print(len(contents_data))\n",
    "# check short and NaN keywords are processed properly(same length with others)\n",
    "print(contents_data[\"@kohwang56_81\"])\n",
    "print(contents_data[\"@pencil-k_478\"])"
   ]
  }
 ],
 "metadata": {
  "kernelspec": {
   "display_name": "kakao-arena",
   "language": "python",
   "name": "kakao"
  },
  "language_info": {
   "codemirror_mode": {
    "name": "ipython",
    "version": 3
   },
   "file_extension": ".py",
   "mimetype": "text/x-python",
   "name": "python",
   "nbconvert_exporter": "python",
   "pygments_lexer": "ipython3",
   "version": "3.6.8"
  }
 },
 "nbformat": 4,
 "nbformat_minor": 2
}
