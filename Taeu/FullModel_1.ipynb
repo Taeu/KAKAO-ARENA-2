{
 "cells": [
  {
   "cell_type": "code",
   "execution_count": 1,
   "metadata": {},
   "outputs": [],
   "source": [
    "from collections import Counter\n",
    "from datetime import timedelta, datetime\n",
    "import glob\n",
    "from itertools import chain\n",
    "import json\n",
    "import os\n",
    "import re\n",
    "import matplotlib.pyplot as plt\n",
    "import numpy as np\n",
    "import pandas as pd\n",
    "from pandas.plotting import register_matplotlib_converters\n",
    "import seaborn as sns\n",
    "import matplotlib\n",
    "import matplotlib.pyplot as plt\n",
    "import matplotlib.font_manager as fm\n",
    "\n",
    "directory = 'D:/ANACONDA/envs/tf-gpu/code/NLP/kakao/data/'\n",
    "font_path = directory + 'NanumGothic.ttf'\n",
    "font_name = fm.FontProperties(fname=font_path, size=10).get_name()\n",
    "plt.rc('font', family=font_name, size=12)\n",
    "plt.rcParams[\"figure.figsize\"] = (20, 10)\n",
    "register_matplotlib_converters()"
   ]
  },
  {
   "cell_type": "markdown",
   "metadata": {},
   "source": [
    "# Dev_users 가져오기"
   ]
  },
  {
   "cell_type": "code",
   "execution_count": 3,
   "metadata": {},
   "outputs": [],
   "source": [
    "dev_users_path ='D:/ANACONDA/envs/tf-gpu/code/NLP/kakao/data/predict/predict/dev.users'\n",
    "dev_users_list = []\n",
    "with open(dev_users_path, 'r') as fr:\n",
    "    lines = fr.readlines()\n",
    "    #print(len(lines))\n",
    "    #print(type(lines))\n",
    "    dev_users_list = lines\n",
    "    del lines\n",
    "for i in range(len(dev_users_list)):\n",
    "    dev_users_list[i] = dev_users_list[i].replace('\\n','')\n",
    "#dev_users_list[:2]"
   ]
  },
  {
   "cell_type": "code",
   "execution_count": 2,
   "metadata": {},
   "outputs": [],
   "source": [
    "test_users_path = 'D:/ANACONDA/envs/tf-gpu/code/NLP/kakao/data/predict/predict/test.users'\n",
    "test_users_list = []\n",
    "with open(test_users_path, 'r') as fr:\n",
    "    lines = fr.readlines()\n",
    "    #print(len(lines))\n",
    "    #print(type(lines))\n",
    "    test_users_list = lines\n",
    "    del lines\n",
    "for i in range(len(test_users_list)):\n",
    "    test_users_list[i] = test_users_list[i].replace('\\n','')\n",
    "#test_users_list[:2]"
   ]
  },
  {
   "cell_type": "markdown",
   "metadata": {},
   "source": [
    "# Read Raw 만들기"
   ]
  },
  {
   "cell_type": "code",
   "execution_count": 4,
   "metadata": {},
   "outputs": [],
   "source": [
    "## 사전에 필요한 data load\n",
    "\n",
    "users = pd.read_json(directory + 'users.json', lines=True)\n",
    "magazine = pd.read_json(directory + 'magazine.json', lines=True)\n",
    "metadata = pd.read_json(directory + 'metadata.json', lines=True)"
   ]
  },
  {
   "cell_type": "code",
   "execution_count": 5,
   "metadata": {},
   "outputs": [],
   "source": [
    "atc = metadata.copy()\n",
    "atc['reg_datetime'] = atc['reg_ts'].apply(lambda x : datetime.fromtimestamp(x/1000.0))\n",
    "atc.loc[atc['reg_datetime'] == atc['reg_datetime'].min(), 'reg_datetime'] = datetime(2090, 12, 31)\n",
    "atc['reg_dt'] = atc['reg_datetime'].dt.date\n",
    "atc['type'] = atc['magazine_id'].apply(lambda x : '개인' if x == 0.0 else '매거진')\n",
    "# 컬럼명 변경\n",
    "atc.columns = ['id', 'display_url', 'article_id', 'keyword_list', 'magazine_id', 'reg_ts', 'sub_title', 'title', 'author_id', 'reg_datetime', 'reg_dt', 'type']\n",
    "atc.head()\n",
    "atc_cnt_by_reg_dt = atc.groupby('reg_dt', as_index=False)['article_id'].count()"
   ]
  },
  {
   "cell_type": "code",
   "execution_count": 6,
   "metadata": {},
   "outputs": [
    {
     "data": {
      "text/plain": [
       "(22110706, 4)"
      ]
     },
     "execution_count": 6,
     "metadata": {},
     "output_type": "execute_result"
    }
   ],
   "source": [
    "read_file_lst = glob.glob(directory + 'read/read/*')\n",
    "exclude_file_lst = ['read.tar']\n",
    "read_df_lst = []\n",
    "for f in read_file_lst:\n",
    "    file_name = os.path.basename(f)\n",
    "    if file_name in exclude_file_lst:\n",
    "        print(file_name)\n",
    "    else:\n",
    "        df_temp = pd.read_csv(f, header=None, names=['raw'])\n",
    "        df_temp['dt'] = file_name[:8]\n",
    "        df_temp['hr'] = file_name[8:10]\n",
    "        df_temp['user_id'] = df_temp['raw'].str.split(' ').str[0]\n",
    "        df_temp['article_id'] = df_temp['raw'].str.split(' ').str[1:].str.join(' ').str.strip()\n",
    "        read_df_lst.append(df_temp)\n",
    "        \n",
    "read = pd.concat(read_df_lst)\n",
    "def chainer(s):\n",
    "    return list(chain.from_iterable(s.str.split(' ')))\n",
    "read_cnt_by_user = read['article_id'].str.split(' ').map(len)\n",
    "read_raw = pd.DataFrame({'dt': np.repeat(read['dt'], read_cnt_by_user),\n",
    "                         'hr': np.repeat(read['hr'], read_cnt_by_user),\n",
    "                         'user_id': np.repeat(read['user_id'], read_cnt_by_user),\n",
    "                         'article_id': chainer(read['article_id'])})\n",
    "read_raw.shape"
   ]
  },
  {
   "cell_type": "code",
   "execution_count": 7,
   "metadata": {},
   "outputs": [
    {
     "name": "stderr",
     "output_type": "stream",
     "text": [
      "D:\\ANACONDA\\lib\\site-packages\\ipykernel_launcher.py:24: SettingWithCopyWarning: \n",
      "A value is trying to be set on a copy of a slice from a DataFrame.\n",
      "Try using .loc[row_indexer,col_indexer] = value instead\n",
      "\n",
      "See the caveats in the documentation: http://pandas.pydata.org/pandas-docs/stable/indexing.html#indexing-view-versus-copy\n"
     ]
    }
   ],
   "source": [
    "atc_read_cnt = read_raw[read_raw.article_id != ''].groupby('article_id')['user_id'].count()\n",
    "atc_read_cnt = atc_read_cnt.reset_index()\n",
    "atc_read_cnt.columns = ['article_id', 'read_cnt']\n",
    "#metadata 결합\n",
    "atc_read_cnt = pd.merge(atc_read_cnt, atc, how='left', left_on='article_id', right_on='article_id')\n",
    "# metadata를 찾을 수 없는 소비 로그 제외\n",
    "atc_read_cnt_nn = atc_read_cnt[atc_read_cnt['id'].notnull()]\n",
    "# 소비수 기준 분류값\n",
    "def get_class(x):\n",
    "    if x >= 142:\n",
    "        result = '5%'\n",
    "    elif x >= 72:\n",
    "        result = '10%'\n",
    "    elif x >= 25:\n",
    "        result = '25%'\n",
    "    elif x >= 8:\n",
    "        result = '50%'\n",
    "    elif x >= 3:\n",
    "        result = '75%'\n",
    "    else:\n",
    "        result = '100%'\n",
    "    return result\n",
    "\n",
    "atc_read_cnt_nn['class'] = atc_read_cnt_nn['read_cnt'].map(get_class)\n",
    "#atc_read_cnt_nn.sort_values(by='read_cnt', ascending=False).head(2)"
   ]
  },
  {
   "cell_type": "code",
   "execution_count": 8,
   "metadata": {},
   "outputs": [
    {
     "data": {
      "text/plain": [
       "(20905040, 14)"
      ]
     },
     "execution_count": 8,
     "metadata": {},
     "output_type": "execute_result"
    }
   ],
   "source": [
    "off_data = pd.merge(read_raw, atc, how='inner', left_on='article_id', right_on='article_id')\n",
    "off_data.columns = ['read_dt', 'hr', 'user_id', 'article_id', 'article_seq', 'display_url',\n",
    "                    'keyword_list', 'magazine_id', 'reg_ts', 'sub_title', 'title',\n",
    "                    'author_id', 'reg_datetime', 'reg_dt', 'type']\n",
    "off_data = off_data[['read_dt', 'user_id', 'article_id', 'title', 'sub_title', 'author_id', 'reg_dt', 'type', 'display_url', 'keyword_list', 'magazine_id']]\n",
    "off_data['read_dt'] = pd.to_datetime(off_data['read_dt'], format='%Y%m%d')\n",
    "off_data['reg_dt'] = pd.to_datetime(off_data['reg_dt'], format='%Y-%m-%d')\n",
    "off_data['off_day'] = (off_data['read_dt'] - off_data['reg_dt']).dt.days\n",
    "# meatadata와 join\n",
    "off_data = pd.merge(off_data, atc_read_cnt_nn[['article_id', 'read_cnt', 'class']], how='left', left_on='article_id', right_on='article_id')\n",
    "off_data.shape"
   ]
  },
  {
   "cell_type": "code",
   "execution_count": 23,
   "metadata": {},
   "outputs": [],
   "source": [
    "#del atc, atc_read_cnt, metadata, atc_cnt_by_reg_dt, read, read_raw"
   ]
  },
  {
   "cell_type": "markdown",
   "metadata": {},
   "source": [
    "# Total Users"
   ]
  },
  {
   "cell_type": "code",
   "execution_count": 9,
   "metadata": {},
   "outputs": [],
   "source": [
    "grp_by_user = off_data.groupby('user_id').agg({'read_dt':['nunique', 'count']})\n",
    "grp_by_user = grp_by_user.reset_index()\n",
    "grp_by_user.columns = ['user_id', 'visit_day_cnt', 'read_cnt']\n",
    "#grp_by_user.head(3)\n",
    "#grp_by_user.shape #(303047, 3)"
   ]
  },
  {
   "cell_type": "code",
   "execution_count": 10,
   "metadata": {},
   "outputs": [],
   "source": [
    "#list(grp_by_user[1:2]['visit_day_cnt'])[0]\n",
    "#k = grp_by_user[0:1]\n",
    "#print(type(k))"
   ]
  },
  {
   "cell_type": "code",
   "execution_count": null,
   "metadata": {},
   "outputs": [],
   "source": []
  },
  {
   "cell_type": "code",
   "execution_count": 46,
   "metadata": {},
   "outputs": [],
   "source": [
    "cnt = 0\n",
    "dev_user_id = []\n",
    "dev_visit_day_cnt = []\n",
    "dev_read_cnt = []\n",
    "# 아 근데 read raw로 해야하지 않을까? 생각보다 많은 글들이 사라진 것 같은데\n",
    "for i in range(len(grp_by_user['user_id'])):\n",
    "    if list(grp_by_user[i:i+1]['user_id'])[0] in dev_users_list:\n",
    "        dev_user_id.append(list(grp_by_user[i:i+1]['user_id'])[0])\n",
    "        dev_visit_day_cnt.append(list(grp_by_user[i:i+1]['visit_day_cnt'])[0])\n",
    "        dev_read_cnt.append(list(grp_by_user[i:i+1]['read_cnt'])[0])\n",
    "        cnt+=1"
   ]
  },
  {
   "cell_type": "code",
   "execution_count": 48,
   "metadata": {},
   "outputs": [],
   "source": [
    "for x in dev_users_list:\n",
    "    if x not in dev_user_id:\n",
    "        dev_user_id.append(x)\n",
    "        dev_visit_day_cnt.append(0)\n",
    "        dev_read_cnt.append(0)\n",
    "        cnt+=1"
   ]
  },
  {
   "cell_type": "code",
   "execution_count": 55,
   "metadata": {},
   "outputs": [
    {
     "name": "stdout",
     "output_type": "stream",
     "text": [
      "3000\n",
      "3000\n",
      "3000\n"
     ]
    }
   ],
   "source": [
    "print(len(dev_user_id))\n",
    "print(len(dev_visit_day_cnt))\n",
    "print(len(dev_read_cnt))\n",
    "\n",
    "# check \n",
    "error = 0\n",
    "for x in dev_user_id :\n",
    "    if x not in dev_users_list:\n",
    "        print(x)\n",
    "        error +=1"
   ]
  },
  {
   "cell_type": "code",
   "execution_count": 57,
   "metadata": {},
   "outputs": [
    {
     "data": {
      "text/plain": [
       "'#000fe61478d384d09f3bcdd0c2f5227d'"
      ]
     },
     "execution_count": 57,
     "metadata": {},
     "output_type": "execute_result"
    }
   ],
   "source": [
    "dev_user_id[0]\n",
    "read_article = off_data[off_data_author_user['user_id'] == dev_user_id[0]]['article_id']\n",
    "list(set(read_article))\n",
    "#len(dev_read_article_list)"
   ]
  },
  {
   "cell_type": "code",
   "execution_count": 88,
   "metadata": {},
   "outputs": [
    {
     "name": "stdout",
     "output_type": "stream",
     "text": [
      "2018-10-01 00:00:00\n",
      "2018-10-01 00:00:00\n"
     ]
    },
    {
     "data": {
      "text/plain": [
       "pandas._libs.tslibs.timestamps.Timestamp"
      ]
     },
     "execution_count": 88,
     "metadata": {},
     "output_type": "execute_result"
    }
   ],
   "source": [
    "print(list(off_data[1:2]['read_dt'])[0])\n",
    "print(list(off_data[3:4]['read_dt'])[0])\n",
    "list(off_data[1:2]['read_dt'])[0] >= list(off_data[3:4]['read_dt'])[0]\n",
    "type(list(off_data[3:4]['read_dt'])[0])"
   ]
  },
  {
   "cell_type": "code",
   "execution_count": 69,
   "metadata": {},
   "outputs": [
    {
     "data": {
      "text/plain": [
       "Timestamp('2019-02-22 00:00:00')"
      ]
     },
     "execution_count": 69,
     "metadata": {},
     "output_type": "execute_result"
    }
   ],
   "source": [
    "a = 20190222\n",
    "a = pd.to_datetime(a,format='%Y%m%d')\n",
    "a"
   ]
  },
  {
   "cell_type": "code",
   "execution_count": 70,
   "metadata": {},
   "outputs": [],
   "source": [
    "off_data_before_20190222 = off_data[off_data['read_dt'] < a]\n",
    "off_data_after_20190222 = off_data[off_data['read_dt'] >= a]"
   ]
  },
  {
   "cell_type": "code",
   "execution_count": 99,
   "metadata": {},
   "outputs": [],
   "source": [
    "off_data_author_user = pd.concat([off_data_before_20190222['user_id'],off_data_before_20190222['article_id']],axis = 1)\n",
    "off_data_author_user_after = pd.concat([off_data_after_20190222['user_id'],off_data_after_20190222['article_id']],axis = 1)"
   ]
  },
  {
   "cell_type": "code",
   "execution_count": 100,
   "metadata": {},
   "outputs": [
    {
     "data": {
      "text/plain": [
       "19826181"
      ]
     },
     "execution_count": 100,
     "metadata": {},
     "output_type": "execute_result"
    }
   ],
   "source": [
    "len(off_data_author_user)\n",
    "len(off_data_before_20190222)"
   ]
  },
  {
   "cell_type": "code",
   "execution_count": null,
   "metadata": {},
   "outputs": [],
   "source": []
  },
  {
   "cell_type": "code",
   "execution_count": 104,
   "metadata": {},
   "outputs": [],
   "source": [
    "from tqdm import tqdm"
   ]
  },
  {
   "cell_type": "code",
   "execution_count": 111,
   "metadata": {},
   "outputs": [
    {
     "name": "stderr",
     "output_type": "stream",
     "text": [
      "progress: 100%|██████████████████████████████████████████████████████████████████| 3000/3000 [2:10:25<00:00,  2.61s/it]\n",
      "progress: 100%|████████████████████████████████████████████████████████████████████| 3000/3000 [05:36<00:00,  8.93it/s]\n"
     ]
    },
    {
     "name": "stdout",
     "output_type": "stream",
     "text": [
      "3000\n"
     ]
    },
    {
     "data": {
      "text/plain": [
       "[['@minigorae_259', '@kangsunseng_850', '@brunch_151'],\n",
       " ['@dotkvk_19',\n",
       "  '@rihav_22',\n",
       "  '@eunseongwrite_42',\n",
       "  '@insightraveler_50',\n",
       "  '@dotkvk_20'],\n",
       " ['@minigorae_258', '@minigorae_254', '@brunch_151']]"
      ]
     },
     "execution_count": 111,
     "metadata": {},
     "output_type": "execute_result"
    }
   ],
   "source": [
    "dev_read_article_list = []\n",
    "for i in tqdm(range(3000),desc='progress',mininterval=100):\n",
    "    read_article = off_data_author_user[off_data_author_user['user_id']==dev_user_id[i]]['article_id']\n",
    "    if(len(read_article) != 0):\n",
    "        dev_read_article_list.append(list(set(read_article)))\n",
    "    else :\n",
    "        dev_read_article_list.append([])\n",
    "        \n",
    "dev_read_article_list_after = []\n",
    "for i in tqdm(range(3000),desc='progress',mininterval=100):\n",
    "    read_article = off_data_author_user_after[off_data_author_user_after['user_id']==dev_user_id[i]]['article_id']\n",
    "    if(len(read_article) != 0):\n",
    "        dev_read_article_list_after.append(list(set(read_article)))\n",
    "    else :\n",
    "        dev_read_article_list_after.append([])\n",
    "print(len(dev_read_article_list_after))\n",
    "dev_read_article_list_after[:3]"
   ]
  },
  {
   "cell_type": "code",
   "execution_count": null,
   "metadata": {},
   "outputs": [],
   "source": [
    "# dev_users_id, dev_visit_cnt, dev_read_cnt, dev_read_article_list, dev_read_article_list_after\n",
    "user_dict = {'id':dev_user_id,'visit_cnt': dev_visit_day_cnt,'read_cnt':dev_read_cnt,'read_articles':dev_read_article_list,'read_articles_after_20190222':dev_read_article_list_after}\n",
    "user_df = pd.DataFrame(user_dict)\n",
    "user_df.to_csv(directory+'user_df.csv',encoding='ms949')"
   ]
  },
  {
   "cell_type": "markdown",
   "metadata": {},
   "source": [
    "# user_df 읽어오기"
   ]
  },
  {
   "cell_type": "code",
   "execution_count": 11,
   "metadata": {},
   "outputs": [],
   "source": [
    "\n",
    "user_df = pd.read_csv(directory+'user_df.csv')\n",
    "user_df = user_df.drop('Unnamed: 0',1)"
   ]
  },
  {
   "cell_type": "code",
   "execution_count": 13,
   "metadata": {},
   "outputs": [],
   "source": []
  },
  {
   "cell_type": "code",
   "execution_count": 16,
   "metadata": {},
   "outputs": [
    {
     "data": {
      "text/plain": [
       "3000"
      ]
     },
     "execution_count": 16,
     "metadata": {},
     "output_type": "execute_result"
    }
   ],
   "source": [
    "len(user_df)"
   ]
  },
  {
   "cell_type": "code",
   "execution_count": 17,
   "metadata": {},
   "outputs": [
    {
     "name": "stdout",
     "output_type": "stream",
     "text": [
      "163\n",
      "2837\n"
     ]
    }
   ],
   "source": [
    "low_read_user = user_df[user_df['read_cnt'] <= 2]\n",
    "normal_user = user_df[user_df['read_cnt'] >= 3]\n",
    "print(len(low_read_user))\n",
    "print(len(normal_user))\n",
    "\n",
    "#low_read_user.to_csv(directory+'low_read_user.csv',encoding='ms949')\n",
    "#normal_user.to_csv(directory+'normal_user.csv',encoding='ms949')"
   ]
  },
  {
   "cell_type": "markdown",
   "metadata": {},
   "source": [
    "# 1. 신규 유저 \n",
    "- 전체글 top 50, 신규글 top 50 "
   ]
  },
  {
   "cell_type": "code",
   "execution_count": null,
   "metadata": {},
   "outputs": [],
   "source": []
  },
  {
   "cell_type": "code",
   "execution_count": 27,
   "metadata": {},
   "outputs": [],
   "source": [
    "total_top_100 = atc_read_cnt_nn.sort_values(by='read_cnt', ascending=False)[:100]\n",
    "a = 20190222\n",
    "a = pd.to_datetime(a,format='%Y%m%d')\n",
    "c = 20901231\n",
    "c = pd.to_datetime(c,format='%Y%m%d')\n",
    "article_20190222_20190301 = atc_read_cnt_nn[atc_read_cnt_nn['reg_datetime'] >= a]\n",
    "article_20190222_20190301 = article_20190222_20190301[article_20190222_20190301['reg_datetime'] != c]\n",
    "recent_top_100 = article_20190222_20190301.sort_values(by='read_cnt',ascending=False)[:100]\n",
    "b = 20190301\n",
    "b = pd.to_datetime(b,format='%Y%m%d')\n",
    "#article_20190301_20190314 = atc_read_cnt_nn[atc_read_cnt_nn['reg_datetime'] >= b]\n",
    "#len(article_20190301_20190314)\n",
    "# 만약 없으면 metadata에서 'id'있는걸로 해서 찾을 것"
   ]
  },
  {
   "cell_type": "code",
   "execution_count": 35,
   "metadata": {},
   "outputs": [
    {
     "data": {
      "text/html": [
       "<div>\n",
       "<style scoped>\n",
       "    .dataframe tbody tr th:only-of-type {\n",
       "        vertical-align: middle;\n",
       "    }\n",
       "\n",
       "    .dataframe tbody tr th {\n",
       "        vertical-align: top;\n",
       "    }\n",
       "\n",
       "    .dataframe thead th {\n",
       "        text-align: right;\n",
       "    }\n",
       "</style>\n",
       "<table border=\"1\" class=\"dataframe\">\n",
       "  <thead>\n",
       "    <tr style=\"text-align: right;\">\n",
       "      <th></th>\n",
       "      <th>article_id</th>\n",
       "      <th>read_cnt</th>\n",
       "      <th>id</th>\n",
       "      <th>display_url</th>\n",
       "      <th>keyword_list</th>\n",
       "      <th>magazine_id</th>\n",
       "      <th>reg_ts</th>\n",
       "      <th>sub_title</th>\n",
       "      <th>title</th>\n",
       "      <th>author_id</th>\n",
       "      <th>reg_datetime</th>\n",
       "      <th>reg_dt</th>\n",
       "      <th>type</th>\n",
       "      <th>class</th>\n",
       "    </tr>\n",
       "  </thead>\n",
       "  <tbody>\n",
       "    <tr>\n",
       "      <th>63061</th>\n",
       "      <td>@brunch_141</td>\n",
       "      <td>97206</td>\n",
       "      <td>141.0</td>\n",
       "      <td>https://brunch.co.kr/@brunch/141</td>\n",
       "      <td>[브런치X빨강머리앤, 빨강머리앤, 출판, 작가]</td>\n",
       "      <td>0.0</td>\n",
       "      <td>1.539742e+12</td>\n",
       "      <td>글·그림 작가 파트너 프로젝트</td>\n",
       "      <td>브런치 작가가 함께 빨강머리 앤을 그리고 쓰다.</td>\n",
       "      <td>@brunch</td>\n",
       "      <td>2018-10-17 11:11:22</td>\n",
       "      <td>2018-10-17</td>\n",
       "      <td>개인</td>\n",
       "      <td>5%</td>\n",
       "    </tr>\n",
       "    <tr>\n",
       "      <th>63070</th>\n",
       "      <td>@brunch_151</td>\n",
       "      <td>66903</td>\n",
       "      <td>151.0</td>\n",
       "      <td>https://brunch.co.kr/@brunch/151</td>\n",
       "      <td>[브런치, 시사회, 브런치무비패스]</td>\n",
       "      <td>0.0</td>\n",
       "      <td>1.550466e+12</td>\n",
       "      <td>브런치 무비 패스 5기 작가 모집</td>\n",
       "      <td>브런치 무비 패스, 영화의 진한 여운을 나누세요</td>\n",
       "      <td>@brunch</td>\n",
       "      <td>2019-02-18 14:00:34</td>\n",
       "      <td>2019-02-18</td>\n",
       "      <td>개인</td>\n",
       "      <td>5%</td>\n",
       "    </tr>\n",
       "  </tbody>\n",
       "</table>\n",
       "</div>"
      ],
      "text/plain": [
       "        article_id  read_cnt     id                       display_url  \\\n",
       "63061  @brunch_141     97206  141.0  https://brunch.co.kr/@brunch/141   \n",
       "63070  @brunch_151     66903  151.0  https://brunch.co.kr/@brunch/151   \n",
       "\n",
       "                     keyword_list  magazine_id        reg_ts  \\\n",
       "63061  [브런치X빨강머리앤, 빨강머리앤, 출판, 작가]          0.0  1.539742e+12   \n",
       "63070         [브런치, 시사회, 브런치무비패스]          0.0  1.550466e+12   \n",
       "\n",
       "                sub_title                       title author_id  \\\n",
       "63061    글·그림 작가 파트너 프로젝트  브런치 작가가 함께 빨강머리 앤을 그리고 쓰다.   @brunch   \n",
       "63070  브런치 무비 패스 5기 작가 모집  브런치 무비 패스, 영화의 진한 여운을 나누세요   @brunch   \n",
       "\n",
       "             reg_datetime      reg_dt type class  \n",
       "63061 2018-10-17 11:11:22  2018-10-17   개인    5%  \n",
       "63070 2019-02-18 14:00:34  2019-02-18   개인    5%  "
      ]
     },
     "execution_count": 35,
     "metadata": {},
     "output_type": "execute_result"
    }
   ],
   "source": [
    "total_top_100[:2]"
   ]
  },
  {
   "cell_type": "code",
   "execution_count": 36,
   "metadata": {},
   "outputs": [
    {
     "data": {
      "text/html": [
       "<div>\n",
       "<style scoped>\n",
       "    .dataframe tbody tr th:only-of-type {\n",
       "        vertical-align: middle;\n",
       "    }\n",
       "\n",
       "    .dataframe tbody tr th {\n",
       "        vertical-align: top;\n",
       "    }\n",
       "\n",
       "    .dataframe thead th {\n",
       "        text-align: right;\n",
       "    }\n",
       "</style>\n",
       "<table border=\"1\" class=\"dataframe\">\n",
       "  <thead>\n",
       "    <tr style=\"text-align: right;\">\n",
       "      <th></th>\n",
       "      <th>article_id</th>\n",
       "      <th>read_cnt</th>\n",
       "      <th>id</th>\n",
       "      <th>display_url</th>\n",
       "      <th>keyword_list</th>\n",
       "      <th>magazine_id</th>\n",
       "      <th>reg_ts</th>\n",
       "      <th>sub_title</th>\n",
       "      <th>title</th>\n",
       "      <th>author_id</th>\n",
       "      <th>reg_datetime</th>\n",
       "      <th>reg_dt</th>\n",
       "      <th>type</th>\n",
       "      <th>class</th>\n",
       "    </tr>\n",
       "  </thead>\n",
       "  <tbody>\n",
       "    <tr>\n",
       "      <th>63071</th>\n",
       "      <td>@brunch_152</td>\n",
       "      <td>8336</td>\n",
       "      <td>152.0</td>\n",
       "      <td>https://brunch.co.kr/@brunch/152</td>\n",
       "      <td>[인터뷰, 작가, 아나운서]</td>\n",
       "      <td>5223.0</td>\n",
       "      <td>1.551244e+12</td>\n",
       "      <td>꿈을 이룬 작가들의 이야기 36</td>\n",
       "      <td>작가 인터뷰 - 임희정 아나운서의 고백</td>\n",
       "      <td>@brunch</td>\n",
       "      <td>2019-02-27 14:00:48</td>\n",
       "      <td>2019-02-27</td>\n",
       "      <td>매거진</td>\n",
       "      <td>5%</td>\n",
       "    </tr>\n",
       "    <tr>\n",
       "      <th>390305</th>\n",
       "      <td>@seochogirl_41</td>\n",
       "      <td>2971</td>\n",
       "      <td>41.0</td>\n",
       "      <td>https://brunch.co.kr/@seochogirl/41</td>\n",
       "      <td>[남편, 신혼일기, 신혼]</td>\n",
       "      <td>0.0</td>\n",
       "      <td>1.551145e+12</td>\n",
       "      <td>내 남편은 비밀 미남</td>\n",
       "      <td>봄 작가의 신혼일기 #1</td>\n",
       "      <td>@seochogirl</td>\n",
       "      <td>2019-02-26 10:35:57</td>\n",
       "      <td>2019-02-26</td>\n",
       "      <td>개인</td>\n",
       "      <td>5%</td>\n",
       "    </tr>\n",
       "  </tbody>\n",
       "</table>\n",
       "</div>"
      ],
      "text/plain": [
       "            article_id  read_cnt     id                          display_url  \\\n",
       "63071      @brunch_152      8336  152.0     https://brunch.co.kr/@brunch/152   \n",
       "390305  @seochogirl_41      2971   41.0  https://brunch.co.kr/@seochogirl/41   \n",
       "\n",
       "           keyword_list  magazine_id        reg_ts          sub_title  \\\n",
       "63071   [인터뷰, 작가, 아나운서]       5223.0  1.551244e+12  꿈을 이룬 작가들의 이야기 36   \n",
       "390305   [남편, 신혼일기, 신혼]          0.0  1.551145e+12        내 남편은 비밀 미남   \n",
       "\n",
       "                        title    author_id        reg_datetime      reg_dt  \\\n",
       "63071   작가 인터뷰 - 임희정 아나운서의 고백      @brunch 2019-02-27 14:00:48  2019-02-27   \n",
       "390305          봄 작가의 신혼일기 #1  @seochogirl 2019-02-26 10:35:57  2019-02-26   \n",
       "\n",
       "       type class  \n",
       "63071   매거진    5%  \n",
       "390305   개인    5%  "
      ]
     },
     "execution_count": 36,
     "metadata": {},
     "output_type": "execute_result"
    }
   ],
   "source": [
    "recent_top_100[:2]"
   ]
  },
  {
   "cell_type": "code",
   "execution_count": 134,
   "metadata": {},
   "outputs": [
    {
     "data": {
      "text/html": [
       "<div>\n",
       "<style scoped>\n",
       "    .dataframe tbody tr th:only-of-type {\n",
       "        vertical-align: middle;\n",
       "    }\n",
       "\n",
       "    .dataframe tbody tr th {\n",
       "        vertical-align: top;\n",
       "    }\n",
       "\n",
       "    .dataframe thead th {\n",
       "        text-align: right;\n",
       "    }\n",
       "</style>\n",
       "<table border=\"1\" class=\"dataframe\">\n",
       "  <thead>\n",
       "    <tr style=\"text-align: right;\">\n",
       "      <th></th>\n",
       "      <th>article_id</th>\n",
       "      <th>read_cnt</th>\n",
       "      <th>id</th>\n",
       "      <th>display_url</th>\n",
       "      <th>keyword_list</th>\n",
       "      <th>magazine_id</th>\n",
       "      <th>reg_ts</th>\n",
       "      <th>sub_title</th>\n",
       "      <th>title</th>\n",
       "      <th>author_id</th>\n",
       "      <th>reg_datetime</th>\n",
       "      <th>reg_dt</th>\n",
       "      <th>type</th>\n",
       "      <th>class</th>\n",
       "    </tr>\n",
       "  </thead>\n",
       "  <tbody>\n",
       "    <tr>\n",
       "      <th>321819</th>\n",
       "      <td>@myolivenote_1175</td>\n",
       "      <td>541</td>\n",
       "      <td>1175.0</td>\n",
       "      <td>https://brunch.co.kr/@myolivenote/1175</td>\n",
       "      <td>[청소, 기름때, 후드]</td>\n",
       "      <td>25431.0</td>\n",
       "      <td>1.550812e+12</td>\n",
       "      <td></td>\n",
       "      <td>폐식용유의 변신? 돈 안 드는 레인지후드 청소법</td>\n",
       "      <td>@myolivenote</td>\n",
       "      <td>2019-02-22 14:02:13</td>\n",
       "      <td>2019-02-22</td>\n",
       "      <td>매거진</td>\n",
       "      <td>5%</td>\n",
       "    </tr>\n",
       "    <tr>\n",
       "      <th>48477</th>\n",
       "      <td>@binkond_1262</td>\n",
       "      <td>536</td>\n",
       "      <td>1262.0</td>\n",
       "      <td>https://brunch.co.kr/@binkond/1262</td>\n",
       "      <td>[고양이, 길고양이, 고양이사진]</td>\n",
       "      <td>0.0</td>\n",
       "      <td>1.551057e+12</td>\n",
       "      <td></td>\n",
       "      <td>한겨울에도 뽀샤시</td>\n",
       "      <td>@binkond</td>\n",
       "      <td>2019-02-25 10:13:28</td>\n",
       "      <td>2019-02-25</td>\n",
       "      <td>개인</td>\n",
       "      <td>5%</td>\n",
       "    </tr>\n",
       "    <tr>\n",
       "      <th>386760</th>\n",
       "      <td>@sdain-sygang_138</td>\n",
       "      <td>532</td>\n",
       "      <td>138.0</td>\n",
       "      <td>https://brunch.co.kr/@sdain-sygang/138</td>\n",
       "      <td>[치아건강, 치아관리, 건강]</td>\n",
       "      <td>0.0</td>\n",
       "      <td>1.551086e+12</td>\n",
       "      <td>40살이 지났다? 치아 관리할 때입니다.</td>\n",
       "      <td>중장년은 꼭! 치아관리 팁</td>\n",
       "      <td>@sdain-sygang</td>\n",
       "      <td>2019-02-25 18:10:48</td>\n",
       "      <td>2019-02-25</td>\n",
       "      <td>개인</td>\n",
       "      <td>5%</td>\n",
       "    </tr>\n",
       "    <tr>\n",
       "      <th>439038</th>\n",
       "      <td>@tenbody_1688</td>\n",
       "      <td>527</td>\n",
       "      <td>1688.0</td>\n",
       "      <td>https://brunch.co.kr/@tenbody/1688</td>\n",
       "      <td>[운동, 다이어트, 허리]</td>\n",
       "      <td>0.0</td>\n",
       "      <td>1.551049e+12</td>\n",
       "      <td>허리 라인 만드는 운동</td>\n",
       "      <td>매일 5분만 참으면 생기는 허리 라인의 놀라운 변화</td>\n",
       "      <td>@tenbody</td>\n",
       "      <td>2019-02-25 08:01:14</td>\n",
       "      <td>2019-02-25</td>\n",
       "      <td>개인</td>\n",
       "      <td>5%</td>\n",
       "    </tr>\n",
       "    <tr>\n",
       "      <th>236586</th>\n",
       "      <td>@jordan777_2727</td>\n",
       "      <td>518</td>\n",
       "      <td>2727.0</td>\n",
       "      <td>https://brunch.co.kr/@jordan777/2727</td>\n",
       "      <td>[금리, 자산축소, 양적완화]</td>\n",
       "      <td>17646.0</td>\n",
       "      <td>1.550809e+12</td>\n",
       "      <td></td>\n",
       "      <td>美 Fed '긴축 레이스' 2년 만에 끝낸다</td>\n",
       "      <td>@jordan777</td>\n",
       "      <td>2019-02-22 13:15:00</td>\n",
       "      <td>2019-02-22</td>\n",
       "      <td>매거진</td>\n",
       "      <td>5%</td>\n",
       "    </tr>\n",
       "    <tr>\n",
       "      <th>28669</th>\n",
       "      <td>@angelaaa_9</td>\n",
       "      <td>515</td>\n",
       "      <td>9.0</td>\n",
       "      <td>https://brunch.co.kr/@angelaaa/9</td>\n",
       "      <td>[크루즈, 얼루어, 여행]</td>\n",
       "      <td>42822.0</td>\n",
       "      <td>1.551178e+12</td>\n",
       "      <td>로얄캐리비안 크루즈 Allure of the Seas 서부 캐리비안</td>\n",
       "      <td>세계 최대 22만 톤의 크루즈 얼루어 호의 생활</td>\n",
       "      <td>@angelaaa</td>\n",
       "      <td>2019-02-26 19:44:08</td>\n",
       "      <td>2019-02-26</td>\n",
       "      <td>매거진</td>\n",
       "      <td>5%</td>\n",
       "    </tr>\n",
       "    <tr>\n",
       "      <th>54205</th>\n",
       "      <td>@book-writer_39</td>\n",
       "      <td>508</td>\n",
       "      <td>39.0</td>\n",
       "      <td>https://brunch.co.kr/@book-writer/39</td>\n",
       "      <td>[직장생활, 직장, 불가사의]</td>\n",
       "      <td>39989.0</td>\n",
       "      <td>1.551049e+12</td>\n",
       "      <td></td>\n",
       "      <td>직장생활 최대 불가사의</td>\n",
       "      <td>@book-writer</td>\n",
       "      <td>2019-02-25 07:57:41</td>\n",
       "      <td>2019-02-25</td>\n",
       "      <td>매거진</td>\n",
       "      <td>5%</td>\n",
       "    </tr>\n",
       "    <tr>\n",
       "      <th>132982</th>\n",
       "      <td>@englishspeaking_118</td>\n",
       "      <td>499</td>\n",
       "      <td>118.0</td>\n",
       "      <td>https://brunch.co.kr/@englishspeaking/118</td>\n",
       "      <td>[영어, 스피킹, 영어회화]</td>\n",
       "      <td>27973.0</td>\n",
       "      <td>1.550838e+12</td>\n",
       "      <td></td>\n",
       "      <td>레벨별 쉐도우 스피킹 활용법</td>\n",
       "      <td>@englishspeaking</td>\n",
       "      <td>2019-02-22 21:14:52</td>\n",
       "      <td>2019-02-22</td>\n",
       "      <td>매거진</td>\n",
       "      <td>5%</td>\n",
       "    </tr>\n",
       "    <tr>\n",
       "      <th>202527</th>\n",
       "      <td>@ideaseller_241</td>\n",
       "      <td>496</td>\n",
       "      <td>241.0</td>\n",
       "      <td>https://brunch.co.kr/@ideaseller/241</td>\n",
       "      <td>[마케팅, 콘텐츠, 온라인]</td>\n",
       "      <td>34297.0</td>\n",
       "      <td>1.551074e+12</td>\n",
       "      <td></td>\n",
       "      <td>잠재고객을 사로잡는 콘텐츠를 만드는 6가지 방법</td>\n",
       "      <td>@ideaseller</td>\n",
       "      <td>2019-02-25 14:59:25</td>\n",
       "      <td>2019-02-25</td>\n",
       "      <td>매거진</td>\n",
       "      <td>5%</td>\n",
       "    </tr>\n",
       "    <tr>\n",
       "      <th>48480</th>\n",
       "      <td>@binkond_1275</td>\n",
       "      <td>494</td>\n",
       "      <td>1275.0</td>\n",
       "      <td>https://brunch.co.kr/@binkond/1275</td>\n",
       "      <td>[고양이, 길고양이, 시집]</td>\n",
       "      <td>0.0</td>\n",
       "      <td>1.551172e+12</td>\n",
       "      <td></td>\n",
       "      <td>묘생</td>\n",
       "      <td>@binkond</td>\n",
       "      <td>2019-02-26 18:12:14</td>\n",
       "      <td>2019-02-26</td>\n",
       "      <td>개인</td>\n",
       "      <td>5%</td>\n",
       "    </tr>\n",
       "  </tbody>\n",
       "</table>\n",
       "</div>"
      ],
      "text/plain": [
       "                  article_id  read_cnt      id  \\\n",
       "321819     @myolivenote_1175       541  1175.0   \n",
       "48477          @binkond_1262       536  1262.0   \n",
       "386760     @sdain-sygang_138       532   138.0   \n",
       "439038         @tenbody_1688       527  1688.0   \n",
       "236586       @jordan777_2727       518  2727.0   \n",
       "28669            @angelaaa_9       515     9.0   \n",
       "54205        @book-writer_39       508    39.0   \n",
       "132982  @englishspeaking_118       499   118.0   \n",
       "202527       @ideaseller_241       496   241.0   \n",
       "48480          @binkond_1275       494  1275.0   \n",
       "\n",
       "                                      display_url        keyword_list  \\\n",
       "321819     https://brunch.co.kr/@myolivenote/1175       [청소, 기름때, 후드]   \n",
       "48477          https://brunch.co.kr/@binkond/1262  [고양이, 길고양이, 고양이사진]   \n",
       "386760     https://brunch.co.kr/@sdain-sygang/138    [치아건강, 치아관리, 건강]   \n",
       "439038         https://brunch.co.kr/@tenbody/1688      [운동, 다이어트, 허리]   \n",
       "236586       https://brunch.co.kr/@jordan777/2727    [금리, 자산축소, 양적완화]   \n",
       "28669            https://brunch.co.kr/@angelaaa/9      [크루즈, 얼루어, 여행]   \n",
       "54205        https://brunch.co.kr/@book-writer/39    [직장생활, 직장, 불가사의]   \n",
       "132982  https://brunch.co.kr/@englishspeaking/118     [영어, 스피킹, 영어회화]   \n",
       "202527       https://brunch.co.kr/@ideaseller/241     [마케팅, 콘텐츠, 온라인]   \n",
       "48480          https://brunch.co.kr/@binkond/1275     [고양이, 길고양이, 시집]   \n",
       "\n",
       "        magazine_id        reg_ts                              sub_title  \\\n",
       "321819      25431.0  1.550812e+12                                          \n",
       "48477           0.0  1.551057e+12                                          \n",
       "386760          0.0  1.551086e+12                 40살이 지났다? 치아 관리할 때입니다.   \n",
       "439038          0.0  1.551049e+12                           허리 라인 만드는 운동   \n",
       "236586      17646.0  1.550809e+12                                          \n",
       "28669       42822.0  1.551178e+12  로얄캐리비안 크루즈 Allure of the Seas 서부 캐리비안   \n",
       "54205       39989.0  1.551049e+12                                          \n",
       "132982      27973.0  1.550838e+12                                          \n",
       "202527      34297.0  1.551074e+12                                          \n",
       "48480           0.0  1.551172e+12                                          \n",
       "\n",
       "                               title         author_id        reg_datetime  \\\n",
       "321819    폐식용유의 변신? 돈 안 드는 레인지후드 청소법      @myolivenote 2019-02-22 14:02:13   \n",
       "48477                      한겨울에도 뽀샤시          @binkond 2019-02-25 10:13:28   \n",
       "386760                중장년은 꼭! 치아관리 팁     @sdain-sygang 2019-02-25 18:10:48   \n",
       "439038  매일 5분만 참으면 생기는 허리 라인의 놀라운 변화          @tenbody 2019-02-25 08:01:14   \n",
       "236586      美 Fed '긴축 레이스' 2년 만에 끝낸다        @jordan777 2019-02-22 13:15:00   \n",
       "28669     세계 최대 22만 톤의 크루즈 얼루어 호의 생활         @angelaaa 2019-02-26 19:44:08   \n",
       "54205                   직장생활 최대 불가사의      @book-writer 2019-02-25 07:57:41   \n",
       "132982              레벨별 쉐도우 스피킹 활용법   @englishspeaking 2019-02-22 21:14:52   \n",
       "202527    잠재고객을 사로잡는 콘텐츠를 만드는 6가지 방법       @ideaseller 2019-02-25 14:59:25   \n",
       "48480                             묘생          @binkond 2019-02-26 18:12:14   \n",
       "\n",
       "            reg_dt type class  \n",
       "321819  2019-02-22  매거진    5%  \n",
       "48477   2019-02-25   개인    5%  \n",
       "386760  2019-02-25   개인    5%  \n",
       "439038  2019-02-25   개인    5%  \n",
       "236586  2019-02-22  매거진    5%  \n",
       "28669   2019-02-26  매거진    5%  \n",
       "54205   2019-02-25  매거진    5%  \n",
       "132982  2019-02-22  매거진    5%  \n",
       "202527  2019-02-25  매거진    5%  \n",
       "48480   2019-02-26   개인    5%  "
      ]
     },
     "execution_count": 134,
     "metadata": {},
     "output_type": "execute_result"
    }
   ],
   "source": [
    "recent_top_100[90:]"
   ]
  },
  {
   "cell_type": "code",
   "execution_count": 136,
   "metadata": {},
   "outputs": [],
   "source": [
    "recent_top_100.to_csv(directory+'recent_top_100_0301.csv',encoding='utf-8')"
   ]
  },
  {
   "cell_type": "code",
   "execution_count": 18,
   "metadata": {},
   "outputs": [
    {
     "data": {
      "text/plain": [
       "47"
      ]
     },
     "execution_count": 18,
     "metadata": {},
     "output_type": "execute_result"
    }
   ],
   "source": [
    "total_top_100 = atc_read_cnt_nn.sort_values(by='read_cnt', ascending=False)[:100]\n",
    "a = 20190222\n",
    "a = pd.to_datetime(a,format='%Y%m%d')\n",
    "article_20190222_20190301 = atc_read_cnt_nn[atc_read_cnt_nn['reg_datetime'] >= a && atc_read_cnt_nn['reg_datetime']!=]\n",
    "recent_top_100 = article_20190222_20190301.sort_values(by='read_cnt',ascending=False)[:100]\n",
    "b = 20190301\n",
    "b = pd.to_datetime(b,format='%Y%m%d')\n",
    "#article_20190301_20190314 = atc_read_cnt_nn[atc_read_cnt_nn['reg_datetime'] >= b]\n",
    "len(article_20190301_20190314)\n",
    "# 만약 없으면 metadata에서 'id'있는걸로 해서 찾을 것"
   ]
  },
  {
   "cell_type": "code",
   "execution_count": 29,
   "metadata": {},
   "outputs": [
    {
     "name": "stdout",
     "output_type": "stream",
     "text": [
      "100\n",
      "100\n"
     ]
    }
   ],
   "source": [
    "print(len(total_top_100))\n",
    "print(len(recent_top_100))"
   ]
  },
  {
   "cell_type": "code",
   "execution_count": null,
   "metadata": {},
   "outputs": [],
   "source": []
  },
  {
   "cell_type": "code",
   "execution_count": null,
   "metadata": {},
   "outputs": [],
   "source": []
  },
  {
   "cell_type": "code",
   "execution_count": 37,
   "metadata": {},
   "outputs": [],
   "source": [
    "article_20190301_20190314 = atc[atc['reg_datetime'] >= b]"
   ]
  },
  {
   "cell_type": "code",
   "execution_count": 39,
   "metadata": {},
   "outputs": [
    {
     "data": {
      "text/plain": [
       "23950"
      ]
     },
     "execution_count": 39,
     "metadata": {},
     "output_type": "execute_result"
    }
   ],
   "source": [
    "len(article_20190301_20190314)\n",
    "len(article_20190301_20190314[article_20190301_20190314['article_id'].notnull()])"
   ]
  },
  {
   "cell_type": "code",
   "execution_count": null,
   "metadata": {},
   "outputs": [],
   "source": []
  },
  {
   "cell_type": "code",
   "execution_count": null,
   "metadata": {},
   "outputs": [],
   "source": [
    "# 인기 author로 해야지"
   ]
  },
  {
   "cell_type": "code",
   "execution_count": 134,
   "metadata": {},
   "outputs": [
    {
     "data": {
      "text/html": [
       "<div>\n",
       "<style scoped>\n",
       "    .dataframe tbody tr th:only-of-type {\n",
       "        vertical-align: middle;\n",
       "    }\n",
       "\n",
       "    .dataframe tbody tr th {\n",
       "        vertical-align: top;\n",
       "    }\n",
       "\n",
       "    .dataframe thead th {\n",
       "        text-align: right;\n",
       "    }\n",
       "</style>\n",
       "<table border=\"1\" class=\"dataframe\">\n",
       "  <thead>\n",
       "    <tr style=\"text-align: right;\">\n",
       "      <th></th>\n",
       "      <th>id</th>\n",
       "      <th>display_url</th>\n",
       "      <th>article_id</th>\n",
       "      <th>keyword_list</th>\n",
       "      <th>magazine_id</th>\n",
       "      <th>reg_ts</th>\n",
       "      <th>sub_title</th>\n",
       "      <th>title</th>\n",
       "      <th>author_id</th>\n",
       "      <th>reg_datetime</th>\n",
       "      <th>reg_dt</th>\n",
       "      <th>type</th>\n",
       "    </tr>\n",
       "  </thead>\n",
       "  <tbody>\n",
       "    <tr>\n",
       "      <th>643040</th>\n",
       "      <td>136</td>\n",
       "      <td>https://brunch.co.kr/@riglobalization/136</td>\n",
       "      <td>@riglobalization_136</td>\n",
       "      <td>[브랜드, 콘텐츠, 지역]</td>\n",
       "      <td>0</td>\n",
       "      <td>1553548375000</td>\n",
       "      <td></td>\n",
       "      <td>로컬 콘텐츠 개발 방법론</td>\n",
       "      <td>@riglobalization</td>\n",
       "      <td>2019-03-26 06:12:55</td>\n",
       "      <td>2019-03-26</td>\n",
       "      <td>개인</td>\n",
       "    </tr>\n",
       "    <tr>\n",
       "      <th>643050</th>\n",
       "      <td>1219</td>\n",
       "      <td>https://brunch.co.kr/@binkond/1219</td>\n",
       "      <td>@binkond_1219</td>\n",
       "      <td>[고양이, 길고양이, 고양이사진]</td>\n",
       "      <td>0</td>\n",
       "      <td>1551397125000</td>\n",
       "      <td></td>\n",
       "      <td>안구정화냥</td>\n",
       "      <td>@binkond</td>\n",
       "      <td>2019-03-01 08:38:45</td>\n",
       "      <td>2019-03-01</td>\n",
       "      <td>개인</td>\n",
       "    </tr>\n",
       "    <tr>\n",
       "      <th>643053</th>\n",
       "      <td>8</td>\n",
       "      <td>https://brunch.co.kr/@laraemotion/8</td>\n",
       "      <td>@laraemotion_8</td>\n",
       "      <td>[커피, 에스프레소, 허영만]</td>\n",
       "      <td>44748</td>\n",
       "      <td>1553509249000</td>\n",
       "      <td>콘파나 걸(Con Panna girl)</td>\n",
       "      <td>콘파나</td>\n",
       "      <td>@laraemotion</td>\n",
       "      <td>2019-03-25 19:20:49</td>\n",
       "      <td>2019-03-25</td>\n",
       "      <td>매거진</td>\n",
       "    </tr>\n",
       "    <tr>\n",
       "      <th>643088</th>\n",
       "      <td>314</td>\n",
       "      <td>https://brunch.co.kr/@yumileewyky/314</td>\n",
       "      <td>@yumileewyky_314</td>\n",
       "      <td>[스타트업, 생각, 공간]</td>\n",
       "      <td>0</td>\n",
       "      <td>1552282089000</td>\n",
       "      <td>내가 처음 쓰는 공간에 대한 이야기</td>\n",
       "      <td>생각들이 나를 지켜보던 공간</td>\n",
       "      <td>@yumileewyky</td>\n",
       "      <td>2019-03-11 14:28:09</td>\n",
       "      <td>2019-03-11</td>\n",
       "      <td>개인</td>\n",
       "    </tr>\n",
       "    <tr>\n",
       "      <th>643099</th>\n",
       "      <td>24</td>\n",
       "      <td>https://brunch.co.kr/@uxstar/24</td>\n",
       "      <td>@uxstar_24</td>\n",
       "      <td>[3D, UI, 제스처]</td>\n",
       "      <td>38917</td>\n",
       "      <td>1553502554000</td>\n",
       "      <td>GIS 서비스</td>\n",
       "      <td>3D 지도의 내비게이션 제스처</td>\n",
       "      <td>@uxstar</td>\n",
       "      <td>2019-03-25 17:29:14</td>\n",
       "      <td>2019-03-25</td>\n",
       "      <td>매거진</td>\n",
       "    </tr>\n",
       "  </tbody>\n",
       "</table>\n",
       "</div>"
      ],
      "text/plain": [
       "          id                                display_url            article_id  \\\n",
       "643040   136  https://brunch.co.kr/@riglobalization/136  @riglobalization_136   \n",
       "643050  1219         https://brunch.co.kr/@binkond/1219         @binkond_1219   \n",
       "643053     8        https://brunch.co.kr/@laraemotion/8        @laraemotion_8   \n",
       "643088   314      https://brunch.co.kr/@yumileewyky/314      @yumileewyky_314   \n",
       "643099    24            https://brunch.co.kr/@uxstar/24            @uxstar_24   \n",
       "\n",
       "              keyword_list  magazine_id         reg_ts              sub_title  \\\n",
       "643040      [브랜드, 콘텐츠, 지역]            0  1553548375000                          \n",
       "643050  [고양이, 길고양이, 고양이사진]            0  1551397125000                          \n",
       "643053    [커피, 에스프레소, 허영만]        44748  1553509249000  콘파나 걸(Con Panna girl)   \n",
       "643088      [스타트업, 생각, 공간]            0  1552282089000    내가 처음 쓰는 공간에 대한 이야기   \n",
       "643099       [3D, UI, 제스처]        38917  1553502554000                GIS 서비스   \n",
       "\n",
       "                   title         author_id        reg_datetime      reg_dt  \\\n",
       "643040     로컬 콘텐츠 개발 방법론  @riglobalization 2019-03-26 06:12:55  2019-03-26   \n",
       "643050             안구정화냥          @binkond 2019-03-01 08:38:45  2019-03-01   \n",
       "643053               콘파나      @laraemotion 2019-03-25 19:20:49  2019-03-25   \n",
       "643088   생각들이 나를 지켜보던 공간      @yumileewyky 2019-03-11 14:28:09  2019-03-11   \n",
       "643099  3D 지도의 내비게이션 제스처           @uxstar 2019-03-25 17:29:14  2019-03-25   \n",
       "\n",
       "       type  \n",
       "643040   개인  \n",
       "643050   개인  \n",
       "643053  매거진  \n",
       "643088   개인  \n",
       "643099  매거진  "
      ]
     },
     "execution_count": 134,
     "metadata": {},
     "output_type": "execute_result"
    }
   ],
   "source": [
    "article_20190301_20190314.tail()"
   ]
  },
  {
   "cell_type": "code",
   "execution_count": 40,
   "metadata": {},
   "outputs": [],
   "source": [
    "\n",
    "off_data_popular_author = off_data.groupby('author_id',as_index='author_read')['author_id'].count()\n"
   ]
  },
  {
   "cell_type": "code",
   "execution_count": 71,
   "metadata": {},
   "outputs": [],
   "source": [
    "off_data_popular_author_recent = off_data_after_20190222.groupby('author_id',as_index='author_read')['author_id'].count()\n",
    "popular_author_top_50_recent = off_data_popular_author_recent.sort_values(ascending=False)[:50]\n",
    "popular_author_top_50_recent_list = []\n",
    "for i in range(50):\n",
    "    popular_author_top_50_recent_list.append(str(popular_author_top_50_recent[i:i+1]).split(' ')[0][10:])"
   ]
  },
  {
   "cell_type": "code",
   "execution_count": 98,
   "metadata": {},
   "outputs": [
    {
     "data": {
      "text/plain": [
       "['@brunch',\n",
       " '@jordan777',\n",
       " '@tenbody',\n",
       " '@dailylife',\n",
       " '@seochogirl',\n",
       " '@dotkvk',\n",
       " '@mothertive',\n",
       " '@binkond',\n",
       " '@aemae-human',\n",
       " '@yoonjikwon',\n",
       " '@hjl0520',\n",
       " '@boot0715']"
      ]
     },
     "execution_count": 98,
     "metadata": {},
     "output_type": "execute_result"
    }
   ],
   "source": [
    "popular_author_top_50_recent_list[:12]"
   ]
  },
  {
   "cell_type": "code",
   "execution_count": 74,
   "metadata": {},
   "outputs": [
    {
     "name": "stdout",
     "output_type": "stream",
     "text": [
      "[1, 111, 73, 80, 3, 3, 9, 34, 35, 0]\n"
     ]
    }
   ],
   "source": [
    "pop_list = [0,0,0,0,0,0,0,0,0,0]\n",
    "cnt = 0\n",
    "for x in article_20190301_20190314['author_id']:\n",
    "    for i in range(10):\n",
    "        if(x == popular_author_top_50_recent_list[i]):\n",
    "            pop_list[i] += 1\n",
    "print(pop_list)"
   ]
  },
  {
   "cell_type": "code",
   "execution_count": 103,
   "metadata": {},
   "outputs": [
    {
     "name": "stdout",
     "output_type": "stream",
     "text": [
      "[1, 52, 28, 36, 1, 0, 4, 17, 23, 0, 2, 2]\n"
     ]
    }
   ],
   "source": [
    "d = 20190315\n",
    "d = pd.to_datetime(d,format='%Y%m%d')\n",
    "pop_list = [0,0,0,0,0,0,0,0,0,0,0,0]\n",
    "cnt = 0\n",
    "for x in article_20190301_20190314[article_20190301_20190314['reg_datetime'] < d]['author_id']:\n",
    "    for i in range(12):\n",
    "        if(x == popular_author_top_50_recent_list[i]):\n",
    "            pop_list[i] += 1\n",
    "print(pop_list)"
   ]
  },
  {
   "cell_type": "code",
   "execution_count": 104,
   "metadata": {},
   "outputs": [
    {
     "name": "stdout",
     "output_type": "stream",
     "text": [
      " @brunch_153 @jordan777_2797 @tenbody_1768 @dailylife_803 @seochogirl_54 @mothertive_81 @binkond_1290 @aemae-human_103 @hjl0520_32 @boot0715_123\n"
     ]
    }
   ],
   "source": [
    "i = 0\n",
    "s = ''\n",
    "for x in pop_list:\n",
    "    if(x != 0):\n",
    "        k = article_20190301_20190314[article_20190301_20190314['author_id'] == popular_author_top_50_recent_list[i]].sort_values('reg_dt')\n",
    "        s += ' ' + list(k[k['reg_datetime']<d][x-1:x]['article_id'])[0]\n",
    "    i+=1\n",
    "print(s)"
   ]
  },
  {
   "cell_type": "code",
   "execution_count": 86,
   "metadata": {},
   "outputs": [],
   "source": []
  },
  {
   "cell_type": "code",
   "execution_count": 87,
   "metadata": {},
   "outputs": [
    {
     "data": {
      "text/plain": [
       "Timestamp('2019-03-15 00:00:00')"
      ]
     },
     "execution_count": 87,
     "metadata": {},
     "output_type": "execute_result"
    }
   ],
   "source": [
    "d"
   ]
  },
  {
   "cell_type": "code",
   "execution_count": 101,
   "metadata": {},
   "outputs": [
    {
     "data": {
      "text/plain": [
       "2"
      ]
     },
     "execution_count": 101,
     "metadata": {},
     "output_type": "execute_result"
    }
   ],
   "source": [
    "k = article_20190301_20190314[article_20190301_20190314['author_id'] == '@boot0715'].sort_values('reg_dt')\n",
    "len(k[k['reg_datetime'] < d])"
   ]
  },
  {
   "cell_type": "code",
   "execution_count": 47,
   "metadata": {},
   "outputs": [],
   "source": [
    "popular_author_top_50 = off_data_popular_author.sort_values(ascending=False)[:50]"
   ]
  },
  {
   "cell_type": "code",
   "execution_count": 60,
   "metadata": {},
   "outputs": [],
   "source": [
    "popular_author_top_50_list = []\n",
    "for i in range(50):\n",
    "    popular_author_top_50_list.append(str(popular_author_top_50[i:i+1]).split(' ')[0][10:])"
   ]
  },
  {
   "cell_type": "code",
   "execution_count": 62,
   "metadata": {},
   "outputs": [
    {
     "data": {
      "text/plain": [
       "['@brunch',\n",
       " '@tenbody',\n",
       " '@jordan777',\n",
       " '@dailylife',\n",
       " '@binkond',\n",
       " '@wikitree',\n",
       " '@merryseo',\n",
       " '@nareun',\n",
       " '@roysday',\n",
       " '@englishspeaking']"
      ]
     },
     "execution_count": 62,
     "metadata": {},
     "output_type": "execute_result"
    }
   ],
   "source": [
    "popular_author_top_50_list[:10]"
   ]
  },
  {
   "cell_type": "code",
   "execution_count": 57,
   "metadata": {},
   "outputs": [
    {
     "data": {
      "text/plain": [
       "['author_id\\n@dailylife',\n",
       " '',\n",
       " '',\n",
       " '',\n",
       " '256239\\nName:',\n",
       " 'author_id,',\n",
       " 'dtype:',\n",
       " 'int64']"
      ]
     },
     "execution_count": 57,
     "metadata": {},
     "output_type": "execute_result"
    }
   ],
   "source": [
    "str(popular_author_top_50[3:4]).split(' ')"
   ]
  },
  {
   "cell_type": "code",
   "execution_count": null,
   "metadata": {},
   "outputs": [],
   "source": []
  },
  {
   "cell_type": "code",
   "execution_count": 68,
   "metadata": {},
   "outputs": [
    {
     "name": "stdout",
     "output_type": "stream",
     "text": [
      "[1, 73, 111, 80, 34, 30, 1, 8, 6, 11]\n"
     ]
    }
   ],
   "source": [
    "pop_list = [0,0,0,0,0,0,0,0,0,0]\n",
    "cnt = 0\n",
    "for x in article_20190301_20190314['author_id']:\n",
    "    for i in range(10):\n",
    "        if(x == popular_author_top_50_list[i]):\n",
    "            pop_list[i] += 1\n",
    "print(pop_list)"
   ]
  },
  {
   "cell_type": "code",
   "execution_count": 105,
   "metadata": {},
   "outputs": [],
   "source": [
    "recommend_new = '' # user_id 가 있어야겠지\n",
    "for i in range(40):\n",
    "    recommend_new = recommend_new + ' ' + list(total_top_100['article_id'][i:i+1])[0]\n",
    "    recommend_new = recommend_new + ' ' + list(recent_top_100['article_id'][i:i+1])[0]\n",
    "\n",
    "for i in range(40,50):\n",
    "    recommend_new = recommend_new + ' ' + list(total_top_100['article_id'][i:i+1])[0]\n",
    "recommend_new += s # 이 s는 제일 위에 있음"
   ]
  },
  {
   "cell_type": "code",
   "execution_count": 114,
   "metadata": {},
   "outputs": [
    {
     "data": {
      "text/plain": [
       "' @brunch_141 @brunch_152 @brunch_151 @seochogirl_41 @brunch_145 @hjl0520_29 @tenbody_1305 @langman_56 @intlovesong_28 @ladybob_33 @dailylife_207 @gh-kim_5 @hyehyodam_19 @sooperbook_4 @steven_179 @thequestbook_7 @brunch_140 @dryjshin_258 @sangheeshyn_66 @jimbeeny_60 @brunch_142 @daljasee_226 @deckey1985_51 @medea0627_76 @conbus_43 @brunch2gc3_12 @sweetannie_145 @moment-yet_161 @dailylife_219 @yoonjikwon_211 @tenbody_1164 @jktk0623_25 @seochogirl_1 @hoonyqqq_84 @brunch_144 @dancingsnail_67 @x-xv_19 @godw3376_9 @honeytip_945 @onec_546 @brunch_147 @brunch3woz_8 @conbus_35 @dotkvk_20 @mightysense_8 @kkangnpo_99 @honeytip_940 @sweetannie_150 @tenbody_1297 @boot0715_119 @shanghaiesther_46 @wonderlandmag_9 @brunch_143 @whitenest_26 @studiocroissant_43 @peregrino97_944 @chofang1_15 @workerhanee_248 @anti-essay_133 @dotkvk_21 @brunch_149 @gallerysh_31 @brunch_148 @dotkvk_19 @brunch_133 @holidaymemories_152 @nareun_143 @donghlim_25 @seochogirl_6 @lonelyplanet_369 @peregrino97_779 @roysday_316 @brunch_2 @reading15m_677 @bzup_281 @teaterrace_166 @brunch_1 @tenbody_1698 @noey_130 @tenbody_1675 @zorbayoun_14 @kam_60 @anti-essay_124 @mightysense_9 @kam_33 @dailylife_173 @minimalmind88_26 @wootaiyoung_85 @jmg5308_163 @seochogirl_7 @brunch_153 @jordan777_2797 @tenbody_1768 @dailylife_803 @seochogirl_54 @mothertive_81 @binkond_1290 @aemae-human_103 @hjl0520_32 @boot0715_123'"
      ]
     },
     "execution_count": 114,
     "metadata": {},
     "output_type": "execute_result"
    }
   ],
   "source": [
    "recommend_new"
   ]
  },
  {
   "cell_type": "code",
   "execution_count": 115,
   "metadata": {},
   "outputs": [],
   "source": [
    "with open(directory+'recommend_new.txt','w') as file:\n",
    "    file.write(recommend_new)"
   ]
  },
  {
   "cell_type": "code",
   "execution_count": 121,
   "metadata": {},
   "outputs": [],
   "source": [
    "with open(directory+'recommend_new.txt','r') as file:\n",
    "    r = file.readlines()\n",
    "recommend_new = r[0]"
   ]
  },
  {
   "cell_type": "code",
   "execution_count": 122,
   "metadata": {},
   "outputs": [
    {
     "data": {
      "text/plain": [
       "' @brunch_141 @brunch_152 @brunch_151 @seochogirl_41 @brunch_145 @hjl0520_29 @tenbody_1305 @langman_56 @intlovesong_28 @ladybob_33 @dailylife_207 @gh-kim_5 @hyehyodam_19 @sooperbook_4 @steven_179 @thequestbook_7 @brunch_140 @dryjshin_258 @sangheeshyn_66 @jimbeeny_60 @brunch_142 @daljasee_226 @deckey1985_51 @medea0627_76 @conbus_43 @brunch2gc3_12 @sweetannie_145 @moment-yet_161 @dailylife_219 @yoonjikwon_211 @tenbody_1164 @jktk0623_25 @seochogirl_1 @hoonyqqq_84 @brunch_144 @dancingsnail_67 @x-xv_19 @godw3376_9 @honeytip_945 @onec_546 @brunch_147 @brunch3woz_8 @conbus_35 @dotkvk_20 @mightysense_8 @kkangnpo_99 @honeytip_940 @sweetannie_150 @tenbody_1297 @boot0715_119 @shanghaiesther_46 @wonderlandmag_9 @brunch_143 @whitenest_26 @studiocroissant_43 @peregrino97_944 @chofang1_15 @workerhanee_248 @anti-essay_133 @dotkvk_21 @brunch_149 @gallerysh_31 @brunch_148 @dotkvk_19 @brunch_133 @holidaymemories_152 @nareun_143 @donghlim_25 @seochogirl_6 @lonelyplanet_369 @peregrino97_779 @roysday_316 @brunch_2 @reading15m_677 @bzup_281 @teaterrace_166 @brunch_1 @tenbody_1698 @noey_130 @tenbody_1675 @zorbayoun_14 @kam_60 @anti-essay_124 @mightysense_9 @kam_33 @dailylife_173 @minimalmind88_26 @wootaiyoung_85 @jmg5308_163 @seochogirl_7 @brunch_153 @jordan777_2797 @tenbody_1768 @dailylife_803 @seochogirl_54 @mothertive_81 @binkond_1290 @aemae-human_103 @hjl0520_32 @boot0715_123'"
      ]
     },
     "execution_count": 122,
     "metadata": {},
     "output_type": "execute_result"
    }
   ],
   "source": [
    "recommend_new"
   ]
  },
  {
   "cell_type": "code",
   "execution_count": 123,
   "metadata": {},
   "outputs": [
    {
     "name": "stdout",
     "output_type": "stream",
     "text": [
      "163\n",
      "94\n",
      "2743\n"
     ]
    }
   ],
   "source": [
    "# 신규유저, 기존 유저 list 검사\n",
    "low_read_user = user_df[user_df['read_cnt'] <= 2]\n",
    "amb_normal_user = user_df[user_df['read_cnt'] <= 5]\n",
    "normal_user = user_df[user_df['read_cnt'] >5]\n",
    "print(len(low_read_user))\n",
    "print(len(amb_normal_user)-len(low_read_user))\n",
    "print(len(normal_user))"
   ]
  },
  {
   "cell_type": "code",
   "execution_count": 112,
   "metadata": {},
   "outputs": [
    {
     "data": {
      "text/html": [
       "<div>\n",
       "<style scoped>\n",
       "    .dataframe tbody tr th:only-of-type {\n",
       "        vertical-align: middle;\n",
       "    }\n",
       "\n",
       "    .dataframe tbody tr th {\n",
       "        vertical-align: top;\n",
       "    }\n",
       "\n",
       "    .dataframe thead th {\n",
       "        text-align: right;\n",
       "    }\n",
       "</style>\n",
       "<table border=\"1\" class=\"dataframe\">\n",
       "  <thead>\n",
       "    <tr style=\"text-align: right;\">\n",
       "      <th></th>\n",
       "      <th>id</th>\n",
       "      <th>visit_cnt</th>\n",
       "      <th>read_cnt</th>\n",
       "      <th>read_articles</th>\n",
       "      <th>read_articles_after_20190222</th>\n",
       "    </tr>\n",
       "  </thead>\n",
       "  <tbody>\n",
       "    <tr>\n",
       "      <th>3</th>\n",
       "      <td>#0085e940b6e94be6efe4e275d1966615</td>\n",
       "      <td>3</td>\n",
       "      <td>7</td>\n",
       "      <td>['@hotelscomkr_617', '@prestigegorilla_349', '...</td>\n",
       "      <td>[]</td>\n",
       "    </tr>\n",
       "    <tr>\n",
       "      <th>6</th>\n",
       "      <td>#009bca89575df8ed68a302c1ceaf7da4</td>\n",
       "      <td>1</td>\n",
       "      <td>4</td>\n",
       "      <td>[]</td>\n",
       "      <td>['@moripark_84', '@moripark_79', '@moripark_82...</td>\n",
       "    </tr>\n",
       "    <tr>\n",
       "      <th>17</th>\n",
       "      <td>#0167896db82acc4fd94275913af19a04</td>\n",
       "      <td>2</td>\n",
       "      <td>2</td>\n",
       "      <td>['@sakiroo_11']</td>\n",
       "      <td>['@brunch_151']</td>\n",
       "    </tr>\n",
       "    <tr>\n",
       "      <th>26</th>\n",
       "      <td>#0200c6c68d23cb49a8a06afa7e6b7e25</td>\n",
       "      <td>1</td>\n",
       "      <td>4</td>\n",
       "      <td>[]</td>\n",
       "      <td>['@wikitree_3228', '@hitchwill_2070']</td>\n",
       "    </tr>\n",
       "    <tr>\n",
       "      <th>35</th>\n",
       "      <td>#028bdbaae99a474017f7ce0a1d531713</td>\n",
       "      <td>1</td>\n",
       "      <td>1</td>\n",
       "      <td>[]</td>\n",
       "      <td>['@spainmusa_24']</td>\n",
       "    </tr>\n",
       "    <tr>\n",
       "      <th>64</th>\n",
       "      <td>#053f46f46077943720b23934e095c1f6</td>\n",
       "      <td>2</td>\n",
       "      <td>3</td>\n",
       "      <td>[]</td>\n",
       "      <td>['@prestigegorilla_368', '@allstay_1167', '@ne...</td>\n",
       "    </tr>\n",
       "    <tr>\n",
       "      <th>70</th>\n",
       "      <td>#058b56d54a2987a8fc22abbf465d2274</td>\n",
       "      <td>1</td>\n",
       "      <td>1</td>\n",
       "      <td>[]</td>\n",
       "      <td>['@kimchohee_2']</td>\n",
       "    </tr>\n",
       "    <tr>\n",
       "      <th>76</th>\n",
       "      <td>#0666a44447d7c6835c726e15bceffd02</td>\n",
       "      <td>1</td>\n",
       "      <td>1</td>\n",
       "      <td>[]</td>\n",
       "      <td>['@aemae-human_66']</td>\n",
       "    </tr>\n",
       "    <tr>\n",
       "      <th>93</th>\n",
       "      <td>#07de1cc9328086ecce32f97fc35f7bbb</td>\n",
       "      <td>5</td>\n",
       "      <td>9</td>\n",
       "      <td>[]</td>\n",
       "      <td>['@jhzflk_22', '@hoonyqqq_84', '@seokjipkim_2'...</td>\n",
       "    </tr>\n",
       "    <tr>\n",
       "      <th>96</th>\n",
       "      <td>#08a602b9a81f5cfdb99ac229d41f9be1</td>\n",
       "      <td>3</td>\n",
       "      <td>6</td>\n",
       "      <td>['@sooperbook_3', '@icallu_110', '@dailylife_2...</td>\n",
       "      <td>['@paulie_88', '@whizzer4_64', '@dailylife_207']</td>\n",
       "    </tr>\n",
       "    <tr>\n",
       "      <th>118</th>\n",
       "      <td>#0a92e1983b1ec8e55f4f64ddac118f4c</td>\n",
       "      <td>3</td>\n",
       "      <td>5</td>\n",
       "      <td>[]</td>\n",
       "      <td>['@jiwonkim0187_42', '@bestwriter1lfi_57', '@m...</td>\n",
       "    </tr>\n",
       "    <tr>\n",
       "      <th>130</th>\n",
       "      <td>#0b92ce961429c9422e96f69e653832d4</td>\n",
       "      <td>3</td>\n",
       "      <td>9</td>\n",
       "      <td>['@dotkvk_14', '@zeustyle_3', '@songjh03_116',...</td>\n",
       "      <td>['@mothertive_66']</td>\n",
       "    </tr>\n",
       "    <tr>\n",
       "      <th>137</th>\n",
       "      <td>#0c800a699480af0f53012ddb6da0f1c9</td>\n",
       "      <td>5</td>\n",
       "      <td>6</td>\n",
       "      <td>['@dotkvk_14', '@onyouhe_98', '@choyoungduke_1...</td>\n",
       "      <td>['@uchonsuyeon_372', '@peregrino97_944', '@soo...</td>\n",
       "    </tr>\n",
       "    <tr>\n",
       "      <th>156</th>\n",
       "      <td>#0d93a868d36f76980ee080c89e11e0b1</td>\n",
       "      <td>1</td>\n",
       "      <td>4</td>\n",
       "      <td>[]</td>\n",
       "      <td>['@leesoltoon_43', '@leesoltoon_44', '@wonchu_...</td>\n",
       "    </tr>\n",
       "    <tr>\n",
       "      <th>157</th>\n",
       "      <td>#0dc4ddeda6773d4841b9381abd6dc3dd</td>\n",
       "      <td>4</td>\n",
       "      <td>5</td>\n",
       "      <td>['@mcwannabe_152', '@mcwannabe_155']</td>\n",
       "      <td>['@mcwannabe_77', '@mcwannabe_152']</td>\n",
       "    </tr>\n",
       "    <tr>\n",
       "      <th>163</th>\n",
       "      <td>#0e8bb3cd75a23d8fb5d9978ee4e92c0d</td>\n",
       "      <td>5</td>\n",
       "      <td>6</td>\n",
       "      <td>['@brunch_111', '@brunch_2', '@hjl0520_24', '@...</td>\n",
       "      <td>['@brunch_151']</td>\n",
       "    </tr>\n",
       "    <tr>\n",
       "      <th>168</th>\n",
       "      <td>#0eedb69863af1458055b3b83f64e5614</td>\n",
       "      <td>3</td>\n",
       "      <td>3</td>\n",
       "      <td>['@dopal0203_28', '@mrs-ssong_38']</td>\n",
       "      <td>['@sweetway_194']</td>\n",
       "    </tr>\n",
       "    <tr>\n",
       "      <th>170</th>\n",
       "      <td>#0efec459a6a4d52ff71aff1c04f08738</td>\n",
       "      <td>5</td>\n",
       "      <td>6</td>\n",
       "      <td>['@choyoungduke_157']</td>\n",
       "      <td>['@mj883737_44', '@mentorgrace_14', '@kam_66',...</td>\n",
       "    </tr>\n",
       "    <tr>\n",
       "      <th>227</th>\n",
       "      <td>#138fe9dea867d8200700a602603e9c6a</td>\n",
       "      <td>2</td>\n",
       "      <td>2</td>\n",
       "      <td>[]</td>\n",
       "      <td>['@flthfkd_194', '@allstay_952']</td>\n",
       "    </tr>\n",
       "    <tr>\n",
       "      <th>249</th>\n",
       "      <td>#158f28fe503d3b3aba396c62e29bdc7b</td>\n",
       "      <td>3</td>\n",
       "      <td>6</td>\n",
       "      <td>['@designforhuman_32', '@chulhochoiucj0_23', '...</td>\n",
       "      <td>['@hmin0606_20', '@brunch_151']</td>\n",
       "    </tr>\n",
       "    <tr>\n",
       "      <th>253</th>\n",
       "      <td>#15d164c34bb9aec1265e4894782280ec</td>\n",
       "      <td>2</td>\n",
       "      <td>4</td>\n",
       "      <td>[]</td>\n",
       "      <td>['@starskylight_430', '@megustastu_85', '@megu...</td>\n",
       "    </tr>\n",
       "    <tr>\n",
       "      <th>255</th>\n",
       "      <td>#15fb931a3394fc95e109b393cbe702bf</td>\n",
       "      <td>1</td>\n",
       "      <td>1</td>\n",
       "      <td>['@choyoungduke_157']</td>\n",
       "      <td>[]</td>\n",
       "    </tr>\n",
       "    <tr>\n",
       "      <th>262</th>\n",
       "      <td>#165298869bfff01e449968d6df069550</td>\n",
       "      <td>1</td>\n",
       "      <td>1</td>\n",
       "      <td>[]</td>\n",
       "      <td>['@thequestbook_7']</td>\n",
       "    </tr>\n",
       "    <tr>\n",
       "      <th>269</th>\n",
       "      <td>#16d9ebd6d3fb19580cbdd990f05c3b1e</td>\n",
       "      <td>1</td>\n",
       "      <td>9</td>\n",
       "      <td>[]</td>\n",
       "      <td>['@jordan777_2694', '@jordan777_2690', '@jorda...</td>\n",
       "    </tr>\n",
       "    <tr>\n",
       "      <th>283</th>\n",
       "      <td>#18ed6df6019de9670db653b9dcf1d0f9</td>\n",
       "      <td>1</td>\n",
       "      <td>7</td>\n",
       "      <td>[]</td>\n",
       "      <td>['@onyouhe_98', '@hoonyqqq_84', '@wonchu_63', ...</td>\n",
       "    </tr>\n",
       "    <tr>\n",
       "      <th>295</th>\n",
       "      <td>#19a7cca211134139ade020a2a4fb07c6</td>\n",
       "      <td>2</td>\n",
       "      <td>3</td>\n",
       "      <td>['@brunch_1', '@pomnyun_107']</td>\n",
       "      <td>['@sogangbest_140']</td>\n",
       "    </tr>\n",
       "    <tr>\n",
       "      <th>352</th>\n",
       "      <td>#1e9011d7020b88d1ddcbb66916fb3431</td>\n",
       "      <td>3</td>\n",
       "      <td>4</td>\n",
       "      <td>['@talking-egg_4', '@choyoungduke_157']</td>\n",
       "      <td>['@onyouhe_98', '@hotelscomkr_637']</td>\n",
       "    </tr>\n",
       "    <tr>\n",
       "      <th>355</th>\n",
       "      <td>#1ecc08b3694292744ee7a2096dec3265</td>\n",
       "      <td>1</td>\n",
       "      <td>1</td>\n",
       "      <td>[]</td>\n",
       "      <td>['@jktk0623_24']</td>\n",
       "    </tr>\n",
       "    <tr>\n",
       "      <th>363</th>\n",
       "      <td>#1f931c956e2588e8fea5e3a7977765aa</td>\n",
       "      <td>2</td>\n",
       "      <td>3</td>\n",
       "      <td>['@ddqa4_3']</td>\n",
       "      <td>['@reading15m_646']</td>\n",
       "    </tr>\n",
       "    <tr>\n",
       "      <th>380</th>\n",
       "      <td>#20ea3e6f5eafe706fcfa59e472990b35</td>\n",
       "      <td>1</td>\n",
       "      <td>4</td>\n",
       "      <td>[]</td>\n",
       "      <td>['@educonsult77_47', '@educonsult77_133', '@ed...</td>\n",
       "    </tr>\n",
       "    <tr>\n",
       "      <th>...</th>\n",
       "      <td>...</td>\n",
       "      <td>...</td>\n",
       "      <td>...</td>\n",
       "      <td>...</td>\n",
       "      <td>...</td>\n",
       "    </tr>\n",
       "    <tr>\n",
       "      <th>2970</th>\n",
       "      <td>#2e979536574f3110000b51033d193c22</td>\n",
       "      <td>0</td>\n",
       "      <td>0</td>\n",
       "      <td>[]</td>\n",
       "      <td>[]</td>\n",
       "    </tr>\n",
       "    <tr>\n",
       "      <th>2971</th>\n",
       "      <td>#2cc22ee8afa35d03569eca4712d0f87c</td>\n",
       "      <td>0</td>\n",
       "      <td>0</td>\n",
       "      <td>[]</td>\n",
       "      <td>[]</td>\n",
       "    </tr>\n",
       "    <tr>\n",
       "      <th>2972</th>\n",
       "      <td>#dc94671a9f88c9ffdd1e19acedf67162</td>\n",
       "      <td>0</td>\n",
       "      <td>0</td>\n",
       "      <td>[]</td>\n",
       "      <td>[]</td>\n",
       "    </tr>\n",
       "    <tr>\n",
       "      <th>2973</th>\n",
       "      <td>#af5d7627a215164d9dd3b2ea1d83ac62</td>\n",
       "      <td>0</td>\n",
       "      <td>0</td>\n",
       "      <td>[]</td>\n",
       "      <td>[]</td>\n",
       "    </tr>\n",
       "    <tr>\n",
       "      <th>2974</th>\n",
       "      <td>#d0f44a369f46163c76011399fc73c43a</td>\n",
       "      <td>0</td>\n",
       "      <td>0</td>\n",
       "      <td>[]</td>\n",
       "      <td>[]</td>\n",
       "    </tr>\n",
       "    <tr>\n",
       "      <th>2975</th>\n",
       "      <td>#f0bd8a502992186dec80d5fd0eaad97f</td>\n",
       "      <td>0</td>\n",
       "      <td>0</td>\n",
       "      <td>[]</td>\n",
       "      <td>[]</td>\n",
       "    </tr>\n",
       "    <tr>\n",
       "      <th>2976</th>\n",
       "      <td>#d45498027ab99fabae83b71526fcd08c</td>\n",
       "      <td>0</td>\n",
       "      <td>0</td>\n",
       "      <td>[]</td>\n",
       "      <td>[]</td>\n",
       "    </tr>\n",
       "    <tr>\n",
       "      <th>2977</th>\n",
       "      <td>#94b14c0460f3827a9163d07424a05f7f</td>\n",
       "      <td>0</td>\n",
       "      <td>0</td>\n",
       "      <td>[]</td>\n",
       "      <td>[]</td>\n",
       "    </tr>\n",
       "    <tr>\n",
       "      <th>2978</th>\n",
       "      <td>#cb263eb74014fb23e4c7ded5b2e55d70</td>\n",
       "      <td>0</td>\n",
       "      <td>0</td>\n",
       "      <td>[]</td>\n",
       "      <td>[]</td>\n",
       "    </tr>\n",
       "    <tr>\n",
       "      <th>2979</th>\n",
       "      <td>#ef8e898a9d765c6bfca117bd40392929</td>\n",
       "      <td>0</td>\n",
       "      <td>0</td>\n",
       "      <td>[]</td>\n",
       "      <td>[]</td>\n",
       "    </tr>\n",
       "    <tr>\n",
       "      <th>2980</th>\n",
       "      <td>#f1a4a2ad3d3fe02475bb40b846a3cd88</td>\n",
       "      <td>0</td>\n",
       "      <td>0</td>\n",
       "      <td>[]</td>\n",
       "      <td>[]</td>\n",
       "    </tr>\n",
       "    <tr>\n",
       "      <th>2981</th>\n",
       "      <td>#dcc10a9ba59ac7c0fb71e013104f4788</td>\n",
       "      <td>0</td>\n",
       "      <td>0</td>\n",
       "      <td>[]</td>\n",
       "      <td>[]</td>\n",
       "    </tr>\n",
       "    <tr>\n",
       "      <th>2982</th>\n",
       "      <td>#e125e3a7fceca0eefcd4327a05b2572f</td>\n",
       "      <td>0</td>\n",
       "      <td>0</td>\n",
       "      <td>[]</td>\n",
       "      <td>[]</td>\n",
       "    </tr>\n",
       "    <tr>\n",
       "      <th>2983</th>\n",
       "      <td>#9d2a0198804a289aa7797ffa94996131</td>\n",
       "      <td>0</td>\n",
       "      <td>0</td>\n",
       "      <td>[]</td>\n",
       "      <td>[]</td>\n",
       "    </tr>\n",
       "    <tr>\n",
       "      <th>2984</th>\n",
       "      <td>#a75c75f217c5e03bea4ecce8aa7d889f</td>\n",
       "      <td>0</td>\n",
       "      <td>0</td>\n",
       "      <td>[]</td>\n",
       "      <td>[]</td>\n",
       "    </tr>\n",
       "    <tr>\n",
       "      <th>2985</th>\n",
       "      <td>#1c2880ba9a2c7d9fed30846c740d649c</td>\n",
       "      <td>0</td>\n",
       "      <td>0</td>\n",
       "      <td>[]</td>\n",
       "      <td>[]</td>\n",
       "    </tr>\n",
       "    <tr>\n",
       "      <th>2986</th>\n",
       "      <td>#5fc3c7c00bc6e5483e6e8e794ba3298b</td>\n",
       "      <td>0</td>\n",
       "      <td>0</td>\n",
       "      <td>[]</td>\n",
       "      <td>[]</td>\n",
       "    </tr>\n",
       "    <tr>\n",
       "      <th>2987</th>\n",
       "      <td>#bd8123efe03bd158e1a4c16fef93344c</td>\n",
       "      <td>0</td>\n",
       "      <td>0</td>\n",
       "      <td>[]</td>\n",
       "      <td>[]</td>\n",
       "    </tr>\n",
       "    <tr>\n",
       "      <th>2988</th>\n",
       "      <td>#62451762f4cb572faead8bf41dafb453</td>\n",
       "      <td>0</td>\n",
       "      <td>0</td>\n",
       "      <td>[]</td>\n",
       "      <td>[]</td>\n",
       "    </tr>\n",
       "    <tr>\n",
       "      <th>2989</th>\n",
       "      <td>#eab33b6dda87840a4c5ae33c50b0f55a</td>\n",
       "      <td>0</td>\n",
       "      <td>0</td>\n",
       "      <td>[]</td>\n",
       "      <td>[]</td>\n",
       "    </tr>\n",
       "    <tr>\n",
       "      <th>2990</th>\n",
       "      <td>#069f3ffe25eeb2a610a79952b768855f</td>\n",
       "      <td>0</td>\n",
       "      <td>0</td>\n",
       "      <td>[]</td>\n",
       "      <td>[]</td>\n",
       "    </tr>\n",
       "    <tr>\n",
       "      <th>2991</th>\n",
       "      <td>#b882a6fe3514c0411e69a39de9dee58b</td>\n",
       "      <td>0</td>\n",
       "      <td>0</td>\n",
       "      <td>[]</td>\n",
       "      <td>[]</td>\n",
       "    </tr>\n",
       "    <tr>\n",
       "      <th>2992</th>\n",
       "      <td>#5cc6793c7c080a0ca4569af59d8afff0</td>\n",
       "      <td>0</td>\n",
       "      <td>0</td>\n",
       "      <td>[]</td>\n",
       "      <td>[]</td>\n",
       "    </tr>\n",
       "    <tr>\n",
       "      <th>2993</th>\n",
       "      <td>#dac7311b11f1f8f5615bc4eb51538d08</td>\n",
       "      <td>0</td>\n",
       "      <td>0</td>\n",
       "      <td>[]</td>\n",
       "      <td>[]</td>\n",
       "    </tr>\n",
       "    <tr>\n",
       "      <th>2994</th>\n",
       "      <td>#2c44987cf3a87085449a59c3883fad2e</td>\n",
       "      <td>0</td>\n",
       "      <td>0</td>\n",
       "      <td>[]</td>\n",
       "      <td>[]</td>\n",
       "    </tr>\n",
       "    <tr>\n",
       "      <th>2995</th>\n",
       "      <td>#c81120fbfe44e9a2de4b220042048cb3</td>\n",
       "      <td>0</td>\n",
       "      <td>0</td>\n",
       "      <td>[]</td>\n",
       "      <td>[]</td>\n",
       "    </tr>\n",
       "    <tr>\n",
       "      <th>2996</th>\n",
       "      <td>#5e02330db3e47cb58f1b53800a05451d</td>\n",
       "      <td>0</td>\n",
       "      <td>0</td>\n",
       "      <td>[]</td>\n",
       "      <td>[]</td>\n",
       "    </tr>\n",
       "    <tr>\n",
       "      <th>2997</th>\n",
       "      <td>#b933f58dbf1991055bebfa39a5a25841</td>\n",
       "      <td>0</td>\n",
       "      <td>0</td>\n",
       "      <td>[]</td>\n",
       "      <td>[]</td>\n",
       "    </tr>\n",
       "    <tr>\n",
       "      <th>2998</th>\n",
       "      <td>#84f9c92cca14b0c33942f4eec04f06a7</td>\n",
       "      <td>0</td>\n",
       "      <td>0</td>\n",
       "      <td>[]</td>\n",
       "      <td>[]</td>\n",
       "    </tr>\n",
       "    <tr>\n",
       "      <th>2999</th>\n",
       "      <td>#5bc111691522e25777d61b939ca9e3f9</td>\n",
       "      <td>0</td>\n",
       "      <td>0</td>\n",
       "      <td>[]</td>\n",
       "      <td>[]</td>\n",
       "    </tr>\n",
       "  </tbody>\n",
       "</table>\n",
       "<p>353 rows × 5 columns</p>\n",
       "</div>"
      ],
      "text/plain": [
       "                                     id  visit_cnt  read_cnt  \\\n",
       "3     #0085e940b6e94be6efe4e275d1966615          3         7   \n",
       "6     #009bca89575df8ed68a302c1ceaf7da4          1         4   \n",
       "17    #0167896db82acc4fd94275913af19a04          2         2   \n",
       "26    #0200c6c68d23cb49a8a06afa7e6b7e25          1         4   \n",
       "35    #028bdbaae99a474017f7ce0a1d531713          1         1   \n",
       "64    #053f46f46077943720b23934e095c1f6          2         3   \n",
       "70    #058b56d54a2987a8fc22abbf465d2274          1         1   \n",
       "76    #0666a44447d7c6835c726e15bceffd02          1         1   \n",
       "93    #07de1cc9328086ecce32f97fc35f7bbb          5         9   \n",
       "96    #08a602b9a81f5cfdb99ac229d41f9be1          3         6   \n",
       "118   #0a92e1983b1ec8e55f4f64ddac118f4c          3         5   \n",
       "130   #0b92ce961429c9422e96f69e653832d4          3         9   \n",
       "137   #0c800a699480af0f53012ddb6da0f1c9          5         6   \n",
       "156   #0d93a868d36f76980ee080c89e11e0b1          1         4   \n",
       "157   #0dc4ddeda6773d4841b9381abd6dc3dd          4         5   \n",
       "163   #0e8bb3cd75a23d8fb5d9978ee4e92c0d          5         6   \n",
       "168   #0eedb69863af1458055b3b83f64e5614          3         3   \n",
       "170   #0efec459a6a4d52ff71aff1c04f08738          5         6   \n",
       "227   #138fe9dea867d8200700a602603e9c6a          2         2   \n",
       "249   #158f28fe503d3b3aba396c62e29bdc7b          3         6   \n",
       "253   #15d164c34bb9aec1265e4894782280ec          2         4   \n",
       "255   #15fb931a3394fc95e109b393cbe702bf          1         1   \n",
       "262   #165298869bfff01e449968d6df069550          1         1   \n",
       "269   #16d9ebd6d3fb19580cbdd990f05c3b1e          1         9   \n",
       "283   #18ed6df6019de9670db653b9dcf1d0f9          1         7   \n",
       "295   #19a7cca211134139ade020a2a4fb07c6          2         3   \n",
       "352   #1e9011d7020b88d1ddcbb66916fb3431          3         4   \n",
       "355   #1ecc08b3694292744ee7a2096dec3265          1         1   \n",
       "363   #1f931c956e2588e8fea5e3a7977765aa          2         3   \n",
       "380   #20ea3e6f5eafe706fcfa59e472990b35          1         4   \n",
       "...                                 ...        ...       ...   \n",
       "2970  #2e979536574f3110000b51033d193c22          0         0   \n",
       "2971  #2cc22ee8afa35d03569eca4712d0f87c          0         0   \n",
       "2972  #dc94671a9f88c9ffdd1e19acedf67162          0         0   \n",
       "2973  #af5d7627a215164d9dd3b2ea1d83ac62          0         0   \n",
       "2974  #d0f44a369f46163c76011399fc73c43a          0         0   \n",
       "2975  #f0bd8a502992186dec80d5fd0eaad97f          0         0   \n",
       "2976  #d45498027ab99fabae83b71526fcd08c          0         0   \n",
       "2977  #94b14c0460f3827a9163d07424a05f7f          0         0   \n",
       "2978  #cb263eb74014fb23e4c7ded5b2e55d70          0         0   \n",
       "2979  #ef8e898a9d765c6bfca117bd40392929          0         0   \n",
       "2980  #f1a4a2ad3d3fe02475bb40b846a3cd88          0         0   \n",
       "2981  #dcc10a9ba59ac7c0fb71e013104f4788          0         0   \n",
       "2982  #e125e3a7fceca0eefcd4327a05b2572f          0         0   \n",
       "2983  #9d2a0198804a289aa7797ffa94996131          0         0   \n",
       "2984  #a75c75f217c5e03bea4ecce8aa7d889f          0         0   \n",
       "2985  #1c2880ba9a2c7d9fed30846c740d649c          0         0   \n",
       "2986  #5fc3c7c00bc6e5483e6e8e794ba3298b          0         0   \n",
       "2987  #bd8123efe03bd158e1a4c16fef93344c          0         0   \n",
       "2988  #62451762f4cb572faead8bf41dafb453          0         0   \n",
       "2989  #eab33b6dda87840a4c5ae33c50b0f55a          0         0   \n",
       "2990  #069f3ffe25eeb2a610a79952b768855f          0         0   \n",
       "2991  #b882a6fe3514c0411e69a39de9dee58b          0         0   \n",
       "2992  #5cc6793c7c080a0ca4569af59d8afff0          0         0   \n",
       "2993  #dac7311b11f1f8f5615bc4eb51538d08          0         0   \n",
       "2994  #2c44987cf3a87085449a59c3883fad2e          0         0   \n",
       "2995  #c81120fbfe44e9a2de4b220042048cb3          0         0   \n",
       "2996  #5e02330db3e47cb58f1b53800a05451d          0         0   \n",
       "2997  #b933f58dbf1991055bebfa39a5a25841          0         0   \n",
       "2998  #84f9c92cca14b0c33942f4eec04f06a7          0         0   \n",
       "2999  #5bc111691522e25777d61b939ca9e3f9          0         0   \n",
       "\n",
       "                                          read_articles  \\\n",
       "3     ['@hotelscomkr_617', '@prestigegorilla_349', '...   \n",
       "6                                                    []   \n",
       "17                                      ['@sakiroo_11']   \n",
       "26                                                   []   \n",
       "35                                                   []   \n",
       "64                                                   []   \n",
       "70                                                   []   \n",
       "76                                                   []   \n",
       "93                                                   []   \n",
       "96    ['@sooperbook_3', '@icallu_110', '@dailylife_2...   \n",
       "118                                                  []   \n",
       "130   ['@dotkvk_14', '@zeustyle_3', '@songjh03_116',...   \n",
       "137   ['@dotkvk_14', '@onyouhe_98', '@choyoungduke_1...   \n",
       "156                                                  []   \n",
       "157                ['@mcwannabe_152', '@mcwannabe_155']   \n",
       "163   ['@brunch_111', '@brunch_2', '@hjl0520_24', '@...   \n",
       "168                  ['@dopal0203_28', '@mrs-ssong_38']   \n",
       "170                               ['@choyoungduke_157']   \n",
       "227                                                  []   \n",
       "249   ['@designforhuman_32', '@chulhochoiucj0_23', '...   \n",
       "253                                                  []   \n",
       "255                               ['@choyoungduke_157']   \n",
       "262                                                  []   \n",
       "269                                                  []   \n",
       "283                                                  []   \n",
       "295                       ['@brunch_1', '@pomnyun_107']   \n",
       "352             ['@talking-egg_4', '@choyoungduke_157']   \n",
       "355                                                  []   \n",
       "363                                        ['@ddqa4_3']   \n",
       "380                                                  []   \n",
       "...                                                 ...   \n",
       "2970                                                 []   \n",
       "2971                                                 []   \n",
       "2972                                                 []   \n",
       "2973                                                 []   \n",
       "2974                                                 []   \n",
       "2975                                                 []   \n",
       "2976                                                 []   \n",
       "2977                                                 []   \n",
       "2978                                                 []   \n",
       "2979                                                 []   \n",
       "2980                                                 []   \n",
       "2981                                                 []   \n",
       "2982                                                 []   \n",
       "2983                                                 []   \n",
       "2984                                                 []   \n",
       "2985                                                 []   \n",
       "2986                                                 []   \n",
       "2987                                                 []   \n",
       "2988                                                 []   \n",
       "2989                                                 []   \n",
       "2990                                                 []   \n",
       "2991                                                 []   \n",
       "2992                                                 []   \n",
       "2993                                                 []   \n",
       "2994                                                 []   \n",
       "2995                                                 []   \n",
       "2996                                                 []   \n",
       "2997                                                 []   \n",
       "2998                                                 []   \n",
       "2999                                                 []   \n",
       "\n",
       "                           read_articles_after_20190222  \n",
       "3                                                    []  \n",
       "6     ['@moripark_84', '@moripark_79', '@moripark_82...  \n",
       "17                                      ['@brunch_151']  \n",
       "26                ['@wikitree_3228', '@hitchwill_2070']  \n",
       "35                                    ['@spainmusa_24']  \n",
       "64    ['@prestigegorilla_368', '@allstay_1167', '@ne...  \n",
       "70                                     ['@kimchohee_2']  \n",
       "76                                  ['@aemae-human_66']  \n",
       "93    ['@jhzflk_22', '@hoonyqqq_84', '@seokjipkim_2'...  \n",
       "96     ['@paulie_88', '@whizzer4_64', '@dailylife_207']  \n",
       "118   ['@jiwonkim0187_42', '@bestwriter1lfi_57', '@m...  \n",
       "130                                  ['@mothertive_66']  \n",
       "137   ['@uchonsuyeon_372', '@peregrino97_944', '@soo...  \n",
       "156   ['@leesoltoon_43', '@leesoltoon_44', '@wonchu_...  \n",
       "157                 ['@mcwannabe_77', '@mcwannabe_152']  \n",
       "163                                     ['@brunch_151']  \n",
       "168                                   ['@sweetway_194']  \n",
       "170   ['@mj883737_44', '@mentorgrace_14', '@kam_66',...  \n",
       "227                    ['@flthfkd_194', '@allstay_952']  \n",
       "249                     ['@hmin0606_20', '@brunch_151']  \n",
       "253   ['@starskylight_430', '@megustastu_85', '@megu...  \n",
       "255                                                  []  \n",
       "262                                 ['@thequestbook_7']  \n",
       "269   ['@jordan777_2694', '@jordan777_2690', '@jorda...  \n",
       "283   ['@onyouhe_98', '@hoonyqqq_84', '@wonchu_63', ...  \n",
       "295                                 ['@sogangbest_140']  \n",
       "352                 ['@onyouhe_98', '@hotelscomkr_637']  \n",
       "355                                    ['@jktk0623_24']  \n",
       "363                                 ['@reading15m_646']  \n",
       "380   ['@educonsult77_47', '@educonsult77_133', '@ed...  \n",
       "...                                                 ...  \n",
       "2970                                                 []  \n",
       "2971                                                 []  \n",
       "2972                                                 []  \n",
       "2973                                                 []  \n",
       "2974                                                 []  \n",
       "2975                                                 []  \n",
       "2976                                                 []  \n",
       "2977                                                 []  \n",
       "2978                                                 []  \n",
       "2979                                                 []  \n",
       "2980                                                 []  \n",
       "2981                                                 []  \n",
       "2982                                                 []  \n",
       "2983                                                 []  \n",
       "2984                                                 []  \n",
       "2985                                                 []  \n",
       "2986                                                 []  \n",
       "2987                                                 []  \n",
       "2988                                                 []  \n",
       "2989                                                 []  \n",
       "2990                                                 []  \n",
       "2991                                                 []  \n",
       "2992                                                 []  \n",
       "2993                                                 []  \n",
       "2994                                                 []  \n",
       "2995                                                 []  \n",
       "2996                                                 []  \n",
       "2997                                                 []  \n",
       "2998                                                 []  \n",
       "2999                                                 []  \n",
       "\n",
       "[353 rows x 5 columns]"
      ]
     },
     "execution_count": 112,
     "metadata": {},
     "output_type": "execute_result"
    }
   ],
   "source": [
    "amb_normal_user"
   ]
  },
  {
   "cell_type": "code",
   "execution_count": null,
   "metadata": {},
   "outputs": [],
   "source": []
  },
  {
   "cell_type": "code",
   "execution_count": null,
   "metadata": {},
   "outputs": [],
   "source": [
    "#  참고자료\n",
    "- 파일 입출력 : https://wikidocs.net/14593\n",
    "- EDA : https://arena.kakao.com/forum/topics/10\n",
    "- list to pandas : https://pbpython.com/pandas-list-dict.html\n",
    "        -https://www.geeksforgeeks.org/create-a-pandas-dataframe-from-lists/\n",
    "- pandas to csv :  https://mjdeeplearning.tistory.com/41\n",
    "- csv to pandas dataframe : https://godoftyping.wordpress.com/2018/08/15/python-pandas%EC%97%90%EC%84%9C-csv-%ED%8C%8C%EC%9D%BC-%EC%9D%BD%EA%B8%B0-%EC%93%B0%EA%B8%B0/\n",
    "- tqdm : https://pypi.org/project/tqdm/\n",
    "        -https://github.com/tqdm/tqdm"
   ]
  }
 ],
 "metadata": {
  "kernelspec": {
   "display_name": "Python 3",
   "language": "python",
   "name": "python3"
  },
  "language_info": {
   "codemirror_mode": {
    "name": "ipython",
    "version": 3
   },
   "file_extension": ".py",
   "mimetype": "text/x-python",
   "name": "python",
   "nbconvert_exporter": "python",
   "pygments_lexer": "ipython3",
   "version": "3.7.1"
  }
 },
 "nbformat": 4,
 "nbformat_minor": 2
}
