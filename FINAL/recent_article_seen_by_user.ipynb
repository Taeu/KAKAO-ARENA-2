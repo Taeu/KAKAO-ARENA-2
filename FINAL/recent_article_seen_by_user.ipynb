{
 "cells": [
  {
   "cell_type": "code",
   "execution_count": 1,
   "metadata": {},
   "outputs": [
    {
     "name": "stdout",
     "output_type": "stream",
     "text": [
      "3000\n",
      "['#d6866a498157771069fdf15361cb012b', '#f963fb8c5d9d14d503fc4e80bd8617b4', '#87a6479c91e4276374378f1d28eb307c', '#677e984e245b344f61dc5d3cc1f352c8', '#519f45eb14e4807e8714fb7e835463eb']\n",
      "5000\n",
      "['#7ee14df8642a7925b1465ff5c89efe5b', '#8420b9385b282028eebf1ad6b4a221c0', '#c9b31d8b64357f5854b1ba55b32eb6d3', '#9bb1e13b5481fa3737af20870b25c723', '#37d5f99a7f12c9ba90c4e2ac92e54ab6']\n"
     ]
    }
   ],
   "source": [
    "from collections import Counter\n",
    "from datetime import timedelta, datetime\n",
    "import glob\n",
    "from itertools import chain\n",
    "import json\n",
    "import os\n",
    "import re\n",
    "import matplotlib.pyplot as plt\n",
    "import numpy as np\n",
    "import pandas as pd\n",
    "from pandas.plotting import register_matplotlib_converters\n",
    "import seaborn as sns\n",
    "import matplotlib\n",
    "import matplotlib.pyplot as plt\n",
    "import matplotlib.font_manager as fm\n",
    "directory = 'D:/ANACONDA/envs/tf-gpu/code/NLP/kakao/data/'\n",
    "font_path = directory + 'NanumGothic.ttf'\n",
    "font_name = fm.FontProperties(fname=font_path, size=10).get_name()\n",
    "plt.rc('font', family=font_name, size=12)\n",
    "plt.rcParams[\"figure.figsize\"] = (20, 10)\n",
    "register_matplotlib_converters()\n",
    "\n",
    "dev_users_path ='D:/ANACONDA/envs/tf-gpu/code/NLP/kakao/data/predict/predict/dev.users'\n",
    "dev_users_list = []\n",
    "with open(dev_users_path, 'r') as fr:\n",
    "    lines = fr.readlines()\n",
    "    dev_users_list = lines\n",
    "    del lines\n",
    "for i in range(len(dev_users_list)):\n",
    "    dev_users_list[i] = dev_users_list[i].replace('\\n','')\n",
    "    \n",
    "test_users_path ='D:/ANACONDA/envs/tf-gpu/code/NLP/kakao/data/predict/predict/test.users'\n",
    "test_users_list = []\n",
    "with open(test_users_path, 'r') as fr:\n",
    "    lines = fr.readlines()\n",
    "    test_users_list = lines\n",
    "    del lines\n",
    "for i in range(len(test_users_list)):\n",
    "    test_users_list[i] = test_users_list[i].replace('\\n','')\n",
    "\n",
    "print(len(dev_users_list))\n",
    "print(len(test_users_list))"
   ]
  },
  {
   "cell_type": "code",
   "execution_count": 2,
   "metadata": {},
   "outputs": [],
   "source": [
    "recommend_new = []\n",
    "with open(directory + 'recommend.txt') as f:\n",
    "    while True:\n",
    "        line = f.readline()\n",
    "        if not line: break\n",
    "        recommend_new.append(line)\n",
    "recommend_new_top_100 = recommend_new[0][33:-1]"
   ]
  },
  {
   "cell_type": "code",
   "execution_count": 3,
   "metadata": {},
   "outputs": [],
   "source": [
    "with open(directory + 'article_by_testuser.json') as f:\n",
    "    article_seen_by_testuser = json.load(f)"
   ]
  },
  {
   "cell_type": "code",
   "execution_count": 4,
   "metadata": {},
   "outputs": [],
   "source": [
    "rntl = recommend_new_top_100.split(' ')[1:]"
   ]
  },
  {
   "cell_type": "code",
   "execution_count": 5,
   "metadata": {},
   "outputs": [],
   "source": [
    "with open(directory + 'rasby_devuser.csv',encoding='utf-8') as f:\n",
    "    r1 = pd.read_csv(f)"
   ]
  },
  {
   "cell_type": "code",
   "execution_count": 14,
   "metadata": {},
   "outputs": [],
   "source": [
    "r1 = r1.drop('Unnamed: 0',1)\n",
    "r1['read_dt']  = r1['read_dt'].map(lambda x : x.replace('-',''))"
   ]
  },
  {
   "cell_type": "code",
   "execution_count": 20,
   "metadata": {},
   "outputs": [
    {
     "data": {
      "text/plain": [
       "'5%'"
      ]
     },
     "execution_count": 20,
     "metadata": {},
     "output_type": "execute_result"
    }
   ],
   "source": [
    "a = list(r1['class'][:1])[0]\n",
    "a"
   ]
  },
  {
   "cell_type": "code",
   "execution_count": 21,
   "metadata": {},
   "outputs": [],
   "source": [
    "def int_class(x):\n",
    "    if x == '5%':\n",
    "        result = 5\n",
    "    elif x == '10%':\n",
    "        result = 10\n",
    "    elif x == '25%':\n",
    "        result = 25\n",
    "    elif x == '50%':\n",
    "        result = 50\n",
    "    elif x == '75%':\n",
    "        result = 75\n",
    "    else:\n",
    "        result = 100\n",
    "    return result"
   ]
  },
  {
   "cell_type": "code",
   "execution_count": 22,
   "metadata": {},
   "outputs": [],
   "source": [
    "# 최신에 읽은 글들 중 20190201 이후에 읽은 글들만 모은다\n",
    "a = '20190201'\n",
    "r2 = r1[r1['read_dt'] >= a]"
   ]
  },
  {
   "cell_type": "code",
   "execution_count": 25,
   "metadata": {},
   "outputs": [],
   "source": [
    "import time\n",
    "from tqdm import tqdm"
   ]
  },
  {
   "cell_type": "code",
   "execution_count": 39,
   "metadata": {},
   "outputs": [
    {
     "name": "stderr",
     "output_type": "stream",
     "text": [
      "100%|█████████████████████████████████████████████████████████████████████████████| 3000/3000 [00:26<00:00, 113.98it/s]\n"
     ]
    }
   ],
   "source": [
    "# 읽은 구독자 list 도 만들기\n",
    "# 개인 or magazine\n",
    "\n",
    "author_lists = []\n",
    "class_lists = []\n",
    "magazine_lists = []\n",
    "unique_author = []\n",
    "for i in tqdm(range(3000),mininterval = 1):\n",
    "    recent_read_raw = r2[r2['user_id'] == dev_users_list[i]]       \n",
    "    len_recent_read_raw = len(recent_read_raw)\n",
    "    \n",
    "    # class mean\n",
    "    class_sum = 0\n",
    "    magazine_sum = 0\n",
    "    # 구독자 정보 모으기\n",
    "    author_list = []\n",
    "    author_cnt = []\n",
    "    for j in range(len_recent_read_raw):\n",
    "        # class mean\n",
    "        rrr = recent_read_raw[j:j+1]\n",
    "        class_int = int_class(list(rrr['class'])[0])\n",
    "        class_sum += class_int\n",
    "        # magainze mean\n",
    "        magazine_type = list(rrr['type'])[0]\n",
    "        if(magazine_type == '매거진'):\n",
    "            magazine_sum += 1\n",
    "        # author list\n",
    "        author = list(rrr['author_id'])[0]\n",
    "        found = 0\n",
    "        for k in range(len(author_list)):\n",
    "            if author_list[k] == author:\n",
    "                author_cnt[k] += 1\n",
    "                found = 1\n",
    "                break\n",
    "        if(found == 0):\n",
    "            author_list.append(author)\n",
    "            author_cnt.append(1)\n",
    "\n",
    "    author_list_dict = dict()\n",
    "    for j in range(len(author_list)):\n",
    "        author_list_dict[author_list[j]] = author_cnt[j]\n",
    "\n",
    "    if(len_recent_read_raw != 0 ):\n",
    "        class_mean = class_sum / len_recent_read_raw\n",
    "        class_lists.append(class_mean)\n",
    "        \n",
    "        magazine_mean = magazine_sum / len_recent_read_raw\n",
    "        magazine_lists.append(magazine_mean)\n",
    "        \n",
    "        author_list_dict = sorted(author_list_dict.items(), key=(lambda x: x[1]), reverse = True) # 이러면 [ (), () ]형태\n",
    "        author_lists.append(author_list_dict)\n",
    "        \n",
    "        unique_author.append(len(author_list))\n",
    "    else:\n",
    "        class_lists.append(5.0)\n",
    "        magazine_lists.append(1.0)\n",
    "        author_lists.append([])\n",
    "        unique_author.append(0)\n",
    "\n"
   ]
  },
  {
   "cell_type": "markdown",
   "metadata": {},
   "source": [
    "r2 = 2019 2월 한달간 유저가 읽은 max(20)개 글들의 정보들이 dev_users_list의 인덱스 순서로 저장\n",
    "    -> 평균 = 16.29 개의 글이 있음 \n",
    "\n",
    "dev_users_list의 index 별로 해당 정보들이 저장되어 있음\n",
    "\n",
    "author_lists : (읽은 작가) : cnt, cnt기준 정렬\n",
    "    -> ex) author_lists[0] : [('@tenbody', 12), ('@forchoon', 2), ('@gakugo', 1), ('@barugi', 1)]\n",
    "    -> ex) author_lists[1] : [('@dailylife', 2), ('@k52524', 1)]\n",
    "    \n",
    "unique_author = 소비 글들의 고유한 작가 수 \n",
    "    -> ex) unique_author[0] : 11 \n",
    "    -> 평균 = 7.89 = sum(unique_author) / 3000\n",
    "    \n",
    "class_lists = 소비 글의 class 평균 \n",
    "    -> ex) class_lists[0] : 5.5 \n",
    "    -> 평균 = 11.92 = sum(class_lists) / 3000 \n",
    "    \n",
    "magazine_lists = 소비 글들의 magazine 비율 \n",
    "    -> ex) magazine_lists[0] : 0.85\n",
    "    -> 평균 = 0.76"
   ]
  },
  {
   "cell_type": "code",
   "execution_count": null,
   "metadata": {},
   "outputs": [],
   "source": []
  },
  {
   "cell_type": "code",
   "execution_count": 96,
   "metadata": {},
   "outputs": [
    {
     "data": {
      "text/html": [
       "<div>\n",
       "<style scoped>\n",
       "    .dataframe tbody tr th:only-of-type {\n",
       "        vertical-align: middle;\n",
       "    }\n",
       "\n",
       "    .dataframe tbody tr th {\n",
       "        vertical-align: top;\n",
       "    }\n",
       "\n",
       "    .dataframe thead th {\n",
       "        text-align: right;\n",
       "    }\n",
       "</style>\n",
       "<table border=\"1\" class=\"dataframe\">\n",
       "  <thead>\n",
       "    <tr style=\"text-align: right;\">\n",
       "      <th></th>\n",
       "      <th>read_dt</th>\n",
       "      <th>user_id</th>\n",
       "      <th>article_id</th>\n",
       "      <th>title</th>\n",
       "      <th>sub_title</th>\n",
       "      <th>author_id</th>\n",
       "      <th>reg_dt</th>\n",
       "      <th>type</th>\n",
       "      <th>display_url</th>\n",
       "      <th>keyword_list</th>\n",
       "      <th>magazine_id</th>\n",
       "      <th>off_day</th>\n",
       "      <th>read_cnt</th>\n",
       "      <th>class</th>\n",
       "    </tr>\n",
       "  </thead>\n",
       "  <tbody>\n",
       "    <tr>\n",
       "      <th>11679</th>\n",
       "      <td>너와 있는 시간을 사고 싶다, 시라쿠사의 바다 (1)\\n</td>\n",
       "      <td>@nimathebride</td>\n",
       "      <td>2019-01-11</td>\n",
       "      <td>매거진</td>\n",
       "      <td>https://brunch.co.kr/@nimathebride/102</td>\n",
       "      <td>['시칠리아', '이탈리아', '유럽여행']</td>\n",
       "      <td>36355</td>\n",
       "      <td>0</td>\n",
       "      <td>83</td>\n",
       "      <td>10%</td>\n",
       "      <td>NaN</td>\n",
       "      <td>NaN</td>\n",
       "      <td>NaN</td>\n",
       "      <td>NaN</td>\n",
       "    </tr>\n",
       "  </tbody>\n",
       "</table>\n",
       "</div>"
      ],
      "text/plain": [
       "                               read_dt        user_id  article_id title  \\\n",
       "11679  너와 있는 시간을 사고 싶다, 시라쿠사의 바다 (1)\\n  @nimathebride  2019-01-11   매거진   \n",
       "\n",
       "                                    sub_title                 author_id  \\\n",
       "11679  https://brunch.co.kr/@nimathebride/102  ['시칠리아', '이탈리아', '유럽여행']   \n",
       "\n",
       "      reg_dt type display_url keyword_list  magazine_id  off_day  read_cnt  \\\n",
       "11679  36355    0          83          10%          NaN      NaN       NaN   \n",
       "\n",
       "      class  \n",
       "11679   NaN  "
      ]
     },
     "execution_count": 96,
     "metadata": {},
     "output_type": "execute_result"
    }
   ],
   "source": [
    "# 이상하게 저장된 글\n",
    "r1[11679:11680]"
   ]
  },
  {
   "cell_type": "code",
   "execution_count": null,
   "metadata": {},
   "outputs": [],
   "source": []
  }
 ],
 "metadata": {
  "kernelspec": {
   "display_name": "Python 3",
   "language": "python",
   "name": "python3"
  },
  "language_info": {
   "codemirror_mode": {
    "name": "ipython",
    "version": 3
   },
   "file_extension": ".py",
   "mimetype": "text/x-python",
   "name": "python",
   "nbconvert_exporter": "python",
   "pygments_lexer": "ipython3",
   "version": "3.7.1"
  }
 },
 "nbformat": 4,
 "nbformat_minor": 2
}
