{
 "cells": [
  {
   "cell_type": "code",
   "execution_count": 1,
   "metadata": {},
   "outputs": [
    {
     "name": "stdout",
     "output_type": "stream",
     "text": [
      "3000\n",
      "['#d6866a498157771069fdf15361cb012b', '#f963fb8c5d9d14d503fc4e80bd8617b4', '#87a6479c91e4276374378f1d28eb307c', '#677e984e245b344f61dc5d3cc1f352c8', '#519f45eb14e4807e8714fb7e835463eb']\n",
      "5000\n",
      "['#7ee14df8642a7925b1465ff5c89efe5b', '#8420b9385b282028eebf1ad6b4a221c0', '#c9b31d8b64357f5854b1ba55b32eb6d3', '#9bb1e13b5481fa3737af20870b25c723', '#37d5f99a7f12c9ba90c4e2ac92e54ab6']\n"
     ]
    }
   ],
   "source": [
    "from collections import Counter\n",
    "from datetime import timedelta, datetime\n",
    "import glob\n",
    "from itertools import chain\n",
    "import json\n",
    "import os\n",
    "import re\n",
    "import matplotlib.pyplot as plt\n",
    "import numpy as np\n",
    "import pandas as pd\n",
    "from pandas.plotting import register_matplotlib_converters\n",
    "#import seaborn as sns\n",
    "import matplotlib\n",
    "import matplotlib.pyplot as plt\n",
    "import matplotlib.font_manager as fm\n",
    "directory = './brunch-article-recommendation/res/'\n",
    "\n",
    "# dev 및 test user 불러오기\n",
    "dev_users, test_users = [], []\n",
    "\n",
    "with open(directory + 'predict/dev.users', 'r') as fr:\n",
    "    lines = fr.readlines()\n",
    "    dev_users = lines\n",
    "    del lines\n",
    "for i in range(len(dev_users)):\n",
    "    dev_users[i] = dev_users[i].replace('\\n','')\n",
    "    \n",
    "with open(directory + 'predict/test.users', 'r') as fr:\n",
    "    lines = fr.readlines()\n",
    "    test_users = lines\n",
    "    del lines\n",
    "for i in range(len(test_users)):\n",
    "    test_users[i] = test_users[i].replace('\\n','')\n",
    "\n",
    "print(len(dev_users))\n",
    "print(dev_users[:5])\n",
    "print(len(test_users))\n",
    "print(test_users[:5])"
   ]
  },
  {
   "cell_type": "code",
   "execution_count": 2,
   "metadata": {},
   "outputs": [],
   "source": [
    "import time\n",
    "from tqdm import tqdm"
   ]
  },
  {
   "cell_type": "code",
   "execution_count": 3,
   "metadata": {},
   "outputs": [
    {
     "name": "stdout",
     "output_type": "stream",
     "text": [
      "41.336071491241455 sec\n"
     ]
    }
   ],
   "source": [
    "start_time = time.time()\n",
    "read_file_lst = glob.glob('./brunch-article-recommendation/res/read/*')\n",
    "exclude_file_lst = ['read.tar']\n",
    "read_df_lst = []\n",
    "for f in read_file_lst:\n",
    "    file_name = os.path.basename(f)\n",
    "    if file_name in exclude_file_lst:\n",
    "        print(file_name)\n",
    "    else:\n",
    "        df_temp = pd.read_csv(f, header=None, names=['raw'])\n",
    "        df_temp['dt'] = file_name[:8]\n",
    "        df_temp['hr'] = file_name[8:10]\n",
    "        df_temp['user_id'] = df_temp['raw'].str.split(' ').str[0]\n",
    "        df_temp['article_id'] = df_temp['raw'].str.split(' ').str[1:].str.join(' ').str.strip()\n",
    "        read_df_lst.append(df_temp)\n",
    "        \n",
    "read = pd.concat(read_df_lst)\n",
    "print (\"%s sec\"%(time.time() - start_time))"
   ]
  },
  {
   "cell_type": "code",
   "execution_count": 4,
   "metadata": {},
   "outputs": [
    {
     "data": {
      "text/plain": [
       "(22110706, 4)"
      ]
     },
     "execution_count": 4,
     "metadata": {},
     "output_type": "execute_result"
    }
   ],
   "source": [
    "def chainer(s):\n",
    "    return list(chain.from_iterable(s.str.split(' ')))\n",
    "read_cnt_by_user = read['article_id'].str.split(' ').map(len)\n",
    "read_raw = pd.DataFrame({'dt': np.repeat(read['dt'], read_cnt_by_user),\n",
    "                         'hr': np.repeat(read['hr'], read_cnt_by_user),\n",
    "                         'user_id': np.repeat(read['user_id'], read_cnt_by_user),\n",
    "                         'article_id': chainer(read['article_id'])})\n",
    "read_raw.shape\n",
    "\n"
   ]
  },
  {
   "cell_type": "markdown",
   "metadata": {},
   "source": [
    "# 아래 맞게수정필요!!"
   ]
  },
  {
   "cell_type": "code",
   "execution_count": 5,
   "metadata": {},
   "outputs": [],
   "source": [
    "metadata = pd.read_json(directory + 'metadata.json', lines=True) "
   ]
  },
  {
   "cell_type": "code",
   "execution_count": 6,
   "metadata": {},
   "outputs": [],
   "source": [
    "atc = metadata.copy()\n",
    "atc['reg_datetime'] = atc['reg_ts'].apply(lambda x : datetime.fromtimestamp(x/1000.0))\n",
    "atc.loc[atc['reg_datetime'] == atc['reg_datetime'].min(), 'reg_datetime'] = datetime(2090, 12, 31)\n",
    "atc['reg_dt'] = atc['reg_datetime'].dt.date\n",
    "atc['type'] = atc['magazine_id'].apply(lambda x : '개인' if x == 0.0 else '매거진')\n",
    "# 컬럼명 변경\n",
    "atc.columns = ['id', 'display_url', 'article_id', 'keyword_list', 'magazine_id', 'reg_ts', 'sub_title', 'title', 'author_id', 'reg_datetime', 'reg_dt', 'type']\n",
    "atc.head()\n",
    "atc_cnt_by_reg_dt = atc.groupby('reg_dt', as_index=False)['article_id'].count()"
   ]
  },
  {
   "cell_type": "code",
   "execution_count": 7,
   "metadata": {},
   "outputs": [],
   "source": [
    "atc_read_cnt = read_raw[read_raw.article_id != ''].groupby('article_id')['user_id'].count()\n",
    "atc_read_cnt = atc_read_cnt.reset_index()\n",
    "atc_read_cnt.columns = ['article_id', 'read_cnt']\n",
    "#metadata 결합\n",
    "atc_read_cnt = pd.merge(atc_read_cnt, atc, how='left', left_on='article_id', right_on='article_id')\n",
    "# metadata를 찾을 수 없는 소비 로그 제외\n",
    "atc_read_cnt_nn = atc_read_cnt[atc_read_cnt['id'].notnull()]\n",
    "# 소비수 기준 분류값\n",
    "#atc_read_cnt_nn.sort_values(by='read_cnt', ascending=False).head(2)"
   ]
  },
  {
   "cell_type": "code",
   "execution_count": 8,
   "metadata": {},
   "outputs": [
    {
     "name": "stderr",
     "output_type": "stream",
     "text": [
      "D:\\ANACONDA\\lib\\site-packages\\ipykernel_launcher.py:16: SettingWithCopyWarning: \n",
      "A value is trying to be set on a copy of a slice from a DataFrame.\n",
      "Try using .loc[row_indexer,col_indexer] = value instead\n",
      "\n",
      "See the caveats in the documentation: http://pandas.pydata.org/pandas-docs/stable/indexing.html#indexing-view-versus-copy\n",
      "  app.launch_new_instance()\n"
     ]
    }
   ],
   "source": [
    "# 소비수 기준 분류값\n",
    "def get_class(x):\n",
    "    if x >= 142:\n",
    "        result = '5%'\n",
    "    elif x >= 72:\n",
    "        result = '10%'\n",
    "    elif x >= 25:\n",
    "        result = '25%'\n",
    "    elif x >= 8:\n",
    "        result = '50%'\n",
    "    elif x >= 3:\n",
    "        result = '75%'\n",
    "    else:\n",
    "        result = '100%'\n",
    "    return result\n",
    "atc_read_cnt_nn['class'] = atc_read_cnt_nn['read_cnt'].map(get_class)\n"
   ]
  },
  {
   "cell_type": "code",
   "execution_count": 9,
   "metadata": {},
   "outputs": [],
   "source": [
    "off_data = pd.merge(read_raw, atc, how='inner', left_on='article_id', right_on='article_id')"
   ]
  },
  {
   "cell_type": "code",
   "execution_count": 10,
   "metadata": {},
   "outputs": [
    {
     "name": "stdout",
     "output_type": "stream",
     "text": [
      "(20905040, 15)\n"
     ]
    }
   ],
   "source": [
    "print(off_data.shape)\n",
    "off_data.columns = ['read_dt', 'hr', 'user_id', 'article_id', 'article_seq', 'display_url',\n",
    "                    'keyword_list', 'magazine_id', 'reg_ts', 'sub_title', 'title',\n",
    "                    'author_id', 'reg_datetime', 'reg_dt', 'type']"
   ]
  },
  {
   "cell_type": "code",
   "execution_count": null,
   "metadata": {},
   "outputs": [],
   "source": [
    "off_data = off_data[['read_dt', 'user_id', 'article_id', 'title', 'sub_title', 'author_id', 'reg_dt', 'type', 'display_url', 'keyword_list', 'magazine_id']]\n",
    "off_data['read_dt'] = pd.to_datetime(off_data['read_dt'], format='%Y%m%d')\n",
    "off_data['reg_dt'] = pd.to_datetime(off_data['reg_dt'], format='%Y-%m-%d')\n",
    "off_data['off_day'] = (off_data['read_dt'] - off_data['reg_dt']).dt.days\n",
    "off_data = pd.merge(off_data, atc_read_cnt_nn[['article_id', 'read_cnt', 'class']], how='left', left_on='article_id', right_on='article_id')"
   ]
  },
  {
   "cell_type": "code",
   "execution_count": null,
   "metadata": {},
   "outputs": [
    {
     "name": "stderr",
     "output_type": "stream",
     "text": [
      " 11%|████████▏                                                                    | 319/3000 [15:44<2:13:39,  2.99s/it]"
     ]
    }
   ],
   "source": [
    "result = pd.DataFrame()\n",
    "for i in tqdm(range(3000),mininterval=1):\n",
    "    off_data_i = off_data[off_data['user_id'] == dev_users[i]].sort_values(by=['read_dt']).tail(100)\n",
    "    result = pd.concat([result,off_data_i])"
   ]
  },
  {
   "cell_type": "code",
   "execution_count": 66,
   "metadata": {},
   "outputs": [],
   "source": [
    "result.to_csv(directory+'rasby_devuser.csv',encoding='utf-8')"
   ]
  },
  {
   "cell_type": "markdown",
   "metadata": {},
   "source": [
    "# 여기까지!"
   ]
  },
  {
   "cell_type": "code",
   "execution_count": null,
   "metadata": {},
   "outputs": [],
   "source": []
  },
  {
   "cell_type": "code",
   "execution_count": null,
   "metadata": {},
   "outputs": [],
   "source": []
  },
  {
   "cell_type": "code",
   "execution_count": null,
   "metadata": {},
   "outputs": [],
   "source": []
  },
  {
   "cell_type": "code",
   "execution_count": null,
   "metadata": {},
   "outputs": [],
   "source": []
  },
  {
   "cell_type": "code",
   "execution_count": null,
   "metadata": {},
   "outputs": [],
   "source": [
    "# 9s\n",
    "off_data_0 = off_data[off_data['user_id'] == dev_users_list[0]]\n",
    "# 9s\n",
    "off_data_1 = off_data[off_data['user_id'] == dev_users_list[1]]\n",
    "off_data_1.sort_values(by=['read_dt']).tail(20)"
   ]
  },
  {
   "cell_type": "code",
   "execution_count": null,
   "metadata": {},
   "outputs": [],
   "source": []
  },
  {
   "cell_type": "code",
   "execution_count": null,
   "metadata": {},
   "outputs": [],
   "source": []
  },
  {
   "cell_type": "code",
   "execution_count": 68,
   "metadata": {},
   "outputs": [],
   "source": [
    "with open(directory + 'rasby_devuser.csv',encoding='utf-8') as f:\n",
    "    r1 = pd.read_csv(f)"
   ]
  },
  {
   "cell_type": "code",
   "execution_count": null,
   "metadata": {},
   "outputs": [],
   "source": [
    "# 최근 한달간 읽은 글들만 모으기\n",
    "a = 20190201\n",
    "a = pd.to_datetime(a,format='%Y%m%d')\n",
    "result = result[result['read_dt'] >= a]"
   ]
  },
  {
   "cell_type": "code",
   "execution_count": null,
   "metadata": {},
   "outputs": [],
   "source": []
  },
  {
   "cell_type": "code",
   "execution_count": null,
   "metadata": {},
   "outputs": [],
   "source": []
  },
  {
   "cell_type": "code",
   "execution_count": null,
   "metadata": {},
   "outputs": [],
   "source": []
  },
  {
   "cell_type": "markdown",
   "metadata": {},
   "source": [
    "# 2월 글 뽑기"
   ]
  },
  {
   "cell_type": "code",
   "execution_count": null,
   "metadata": {},
   "outputs": [],
   "source": [
    "FEB_read_raw = read_raw[read_raw['dt'] >= '20190201']\n",
    "len(FEB_read_raw)\n",
    "FEB_atc_read_cnt = FEB_read_raw[FEB_read_raw.article_id != ''].groupby('article_id')['user_id'].count()\n",
    "FEB_atc_read_cnt = FEB_atc_read_cnt.reset_index()\n",
    "FEB_atc_read_cnt.columns = ['article_id', 'read_cnt']\n",
    "FEB_atc_read_cnt = pd.merge(FEB_atc_read_cnt, atc, how='left', left_on='article_id', right_on='article_id')\n",
    "# metadata를 찾을 수 없는 소비 로그 제외\n",
    "FEB_atc_read_cnt_nn = FEB_atc_read_cnt[FEB_atc_read_cnt['id'].notnull()]\n",
    "FEB_atc_read_cnt_nn['class'] = FEB_atc_read_cnt_nn['read_cnt'].map(get_class)\n",
    "len(FEB_atc_read_cnt_nn)"
   ]
  },
  {
   "cell_type": "code",
   "execution_count": 80,
   "metadata": {},
   "outputs": [
    {
     "name": "stdout",
     "output_type": "stream",
     "text": [
      "134991\n",
      "0.22319436073303223 sec\n"
     ]
    }
   ],
   "source": [
    "import time\n",
    "start_time = time.time()\n",
    "atc_read_cnt = atc_read_cnt_nn[atc_read_cnt_nn['read_cnt'] > 20]\n",
    "article_vocab_list = atc_read_cnt['article_id'].tolist()\n",
    "print(len(article_vocab_list))\n",
    "print (\"%s sec\"%(time.time() - start_time))"
   ]
  },
  {
   "cell_type": "code",
   "execution_count": 106,
   "metadata": {},
   "outputs": [],
   "source": [
    "TOTAL_top = atc_read_cnt.sort_values(by='read_cnt',ascending=False)\n",
    "len(TOTAL_top)\n",
    "TOTAL_top_30000 = TOTAL_top[:30000]"
   ]
  },
  {
   "cell_type": "code",
   "execution_count": 111,
   "metadata": {},
   "outputs": [],
   "source": [
    "FEB_top = FEB_atc_read_cnt_nn.sort_values(by='read_cnt',ascending=False)\n",
    "len(FEB_top)\n",
    "FEB_top = FEB_top[FEB_top['read_cnt'] >= 15]\n",
    "len(FEB_top)\n",
    "FEB_top = FEB_top[:30000]"
   ]
  },
  {
   "cell_type": "code",
   "execution_count": 114,
   "metadata": {},
   "outputs": [],
   "source": [
    "TOTAL_top_30000.to_csv(directory+'TOTAL_top_30000.csv',encoding = 'utf-8')\n",
    "FEB_top.to_csv(directory + 'FEB_top_30000.csv',encoding='utf-8')"
   ]
  },
  {
   "cell_type": "code",
   "execution_count": null,
   "metadata": {},
   "outputs": [],
   "source": [
    "# FEB_MAR 에 쓰여진 글"
   ]
  },
  {
   "cell_type": "code",
   "execution_count": 125,
   "metadata": {},
   "outputs": [],
   "source": [
    "a = 20190201\n",
    "a = pd.to_datetime(a,format='%Y%m%d')\n",
    "FEB_MAR_article  = atc[atc['reg_datetime'] >= a]"
   ]
  },
  {
   "cell_type": "code",
   "execution_count": 126,
   "metadata": {},
   "outputs": [
    {
     "data": {
      "text/plain": [
       "44278"
      ]
     },
     "execution_count": 126,
     "metadata": {},
     "output_type": "execute_result"
    }
   ],
   "source": [
    "len(FEB_MAR_article)"
   ]
  },
  {
   "cell_type": "code",
   "execution_count": 129,
   "metadata": {},
   "outputs": [],
   "source": [
    "FEB_MAR_article = FEB_MAR_article.sort_values(by='reg_datetime')\n",
    "FEB_MAR_article.head(2)"
   ]
  },
  {
   "cell_type": "code",
   "execution_count": 131,
   "metadata": {},
   "outputs": [],
   "source": [
    "FEB_MAR_article.to_csv(directory + 'FEB_MAR_article.csv',encoding='utf-8')"
   ]
  }
 ],
 "metadata": {
  "kernelspec": {
   "display_name": "Python 3",
   "language": "python",
   "name": "python3"
  },
  "language_info": {
   "codemirror_mode": {
    "name": "ipython",
    "version": 3
   },
   "file_extension": ".py",
   "mimetype": "text/x-python",
   "name": "python",
   "nbconvert_exporter": "python",
   "pygments_lexer": "ipython3",
   "version": "3.7.1"
  }
 },
 "nbformat": 4,
 "nbformat_minor": 2
}
